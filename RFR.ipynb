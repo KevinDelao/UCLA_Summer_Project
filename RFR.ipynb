{
 "cells": [
  {
   "cell_type": "markdown",
   "metadata": {},
   "source": [
    "## Imports"
   ]
  },
  {
   "cell_type": "code",
   "execution_count": 61,
   "metadata": {},
   "outputs": [],
   "source": [
    "import numpy as np\n",
    "import pandas as pd\n",
    "import random\n",
    "import shap\n",
    "from math import sqrt\n",
    "import matplotlib.pyplot as plt\n",
    "from sklearn import preprocessing\n",
    "from sklearn.model_selection import train_test_split\n",
    "import sklearn.metrics as metrics\n",
    "from sklearn.linear_model import LinearRegression\n",
    "from sklearn.ensemble import RandomForestRegressor\n",
    "\n",
    "from scipy.stats import sem, t\n",
    "from scipy import mean\n",
    "\n",
    "import warnings\n",
    "warnings.filterwarnings('ignore')"
   ]
  },
  {
   "cell_type": "markdown",
   "metadata": {},
   "source": [
    "## Genotype & Phenotype Simulation"
   ]
  },
  {
   "cell_type": "code",
   "execution_count": 5,
   "metadata": {},
   "outputs": [
    {
     "name": "stderr",
     "output_type": "stream",
     "text": [
      "Data with input dtype int32 was converted to float64 by the scale function.\n"
     ]
    }
   ],
   "source": [
    "#Simulate Genotype\n",
    "def simulate_genotype(samples_n, loci_m):\n",
    "    f_M = np.random.uniform(0,1,loci_m)\n",
    "    G = np.random.binomial(n=2,p = f_M, size = (samples_n,loci_m))\n",
    "    G = preprocessing.scale(G, axis=0)\n",
    "    \n",
    "    assert(len(G) == samples_n)\n",
    "    assert(len(G[0])== loci_m)\n",
    "    return G\n",
    "\n",
    "G = simulate_genotype(10,5)"
   ]
  },
  {
   "cell_type": "markdown",
   "metadata": {},
   "source": [
    "### Set beta and envi noise"
   ]
  },
  {
   "cell_type": "code",
   "execution_count": 54,
   "metadata": {},
   "outputs": [],
   "source": [
    "#Provide beta_g, e_noise and get G with genotype & Phenotype data\n",
    "def simulate_genotype_and_phenotype_set(samples_n, loci_m,beta_g,e_noise):\n",
    "    G = simulate_genotype(samples_n, loci_m)\n",
    "    loci =random.randint(0,loci_m-1)\n",
    "    SNP = G[:,loci]\n",
    "    individuals = len(SNP)\n",
    "    b_i = beta_g\n",
    "    Y_n = np.zeros((individuals, 1))\n",
    "    for k in range(0, individuals):\n",
    "        #each individual will have a e_j(noise) value\n",
    "        e_j = e_noise\n",
    "        #G_ij will be the jth individual from our SNP for the loci of choce\n",
    "        G_ij  = SNP[k]\n",
    "        Y_j = b_i*G_ij + e_j\n",
    "        Y_n[k] = Y_j \n",
    "    G = np.append(G, Y_n, axis=1)\n",
    "    return G, loci\n",
    "\n",
    "#Provide var_g, var_e and get G with genotype & Phenotype data\n",
    "def simulate_genotype_and_phenotype_var(samples_n, loci_m,var_g,var_e):\n",
    "    G = simulate_genotype(samples_n, loci_m)\n",
    "    loci =random.randint(0,loci_m-1)\n",
    "    SNP = G[:,loci]\n",
    "    individuals = len(SNP)\n",
    "    mean = 0 \n",
    "    sigma_b = sqrt(var_g)\n",
    "    sigma_e = sqrt(var_e)\n",
    "    b_i = np.random.normal(0, sigma_b)\n",
    "    Y_n = np.zeros((individuals, 1))\n",
    "    for k in range(0, individuals):\n",
    "        #each individual will have a random e_j(noise) value\n",
    "        e_j = np.random.normal(0, sigma_e)\n",
    "        #G_ij will be the jth individual from our SNP for the loci of choce\n",
    "        G_ij  = SNP[k]\n",
    "        Y_j = b_i*G_ij + e_j\n",
    "        Y_n[k] = Y_j \n",
    "    H= var_g/(var_g+var_e)\n",
    "    G = np.append(G, Y_n, axis=1)\n",
    "    return G, loci"
   ]
  },
  {
   "cell_type": "markdown",
   "metadata": {},
   "source": [
    "# Machine Learning Models"
   ]
  },
  {
   "cell_type": "markdown",
   "metadata": {},
   "source": [
    "## Random Forest Regression & SHAP "
   ]
  },
  {
   "cell_type": "code",
   "execution_count": 46,
   "metadata": {},
   "outputs": [],
   "source": [
    "def shap_RFR(G):\n",
    "    X = G[:,0:len(G[0])-2]\n",
    "    y = G[:,len(G[0])-1]\n",
    "    x_train, x_test, y_train, y_test = train_test_split(X, y, test_size=0.3)\n",
    "    forReg = RandomForestRegressor(max_depth=10, random_state=0, n_estimators=50)\n",
    "    forReg.fit(x_train, y_train)\n",
    "    \n",
    "    shap_values = shap.TreeExplainer(forReg).shap_values(x_train)\n",
    "    return shap_values, x_train\n",
    "\n",
    "def shap_feature_plot_RFR(shap_values, x_train):\n",
    "    shap.summary_plot(shap_values, x_train, plot_type=\"bar\")"
   ]
  },
  {
   "cell_type": "markdown",
   "metadata": {},
   "source": [
    "## Calculate SHAP"
   ]
  },
  {
   "cell_type": "code",
   "execution_count": 38,
   "metadata": {},
   "outputs": [],
   "source": [
    "def mean_shap_values(shap_values):\n",
    "    if len(shap_values) == 2:\n",
    "        mean_shap = [0] * len(shap_values[0][0])\n",
    "        for shap_value in shap_values[0]:\n",
    "            #print(shap_value)\n",
    "            for x in range(0, len(shap_value)):\n",
    "                mean_shap[x] = mean_shap[x] + abs(shap_value[x])\n",
    "        for x in range(0, len(shap_values[0])):\n",
    "            mean_shap[x] = abs(mean_shap[x] / len(shap_values[0]))\n",
    "    else:    \n",
    "        mean_shap = [0] * len(shap_values[0])\n",
    "        for shap_value in shap_values:\n",
    "            for x in range(0, len(shap_value)):\n",
    "                mean_shap[x] = mean_shap[x] + abs(shap_value[x])\n",
    "        for x in range(0, len(shap_values[0])):\n",
    "            mean_shap[x] = abs(mean_shap[x] / len(shap_values[0]))\n",
    "    return mean_shap                   \n",
    "\n",
    "def max_mean_feature(shap_values):\n",
    "    mean_shap = mean_shap_values(shap_values)\n",
    "    return mean_shap.index(max(mean_shap)), mean_shap[mean_shap.index(max(mean_shap))]\n"
   ]
  },
  {
   "cell_type": "markdown",
   "metadata": {},
   "source": [
    "## Calculating Accuracy"
   ]
  },
  {
   "cell_type": "code",
   "execution_count": 65,
   "metadata": {},
   "outputs": [],
   "source": [
    "def shap_acc_RFR_set(samples_n, loci_m, beta_g, e_noise, number_trials):\n",
    "    shap_values_SNP = []\n",
    "    counter = 0\n",
    "    while counter != number_trials:\n",
    "        G, loci = simulate_genotype_and_phenotype_set(samples_n, loci_m,beta_g,e_noise)\n",
    "        shap_values_holder, x_train = shap_RFR(G)\n",
    "        max_holder = max_mean_feature(shap_values_holder)\n",
    "        if max_holder[0] == loci:\n",
    "            shap_values_SNP.append(1)\n",
    "        else:\n",
    "            shap_values_SNP.append(0)\n",
    "        counter += 1\n",
    "    \n",
    "    percent = sum(shap_values_SNP) / len(shap_values_SNP) * 100\n",
    "    confidence_int = 1\n",
    "    return percent, confidence_int\n",
    "    \n",
    "\n",
    "def shap_acc_RFR_var(samples_n, loci_m, var_g, var_e, number_trials):\n",
    "    shap_values_SNP = []\n",
    "    counter = 0\n",
    "    while counter != number_trials:\n",
    "        G, loci = simulate_genotype_and_phenotype_var(samples_n,loci_m, var_g , var_e)\n",
    "        shap_values_holder, x_train = shap_RFR(G)\n",
    "        max_holder = max_mean_feature(shap_values_holder)\n",
    "        if max_holder[0] == loci:\n",
    "            shap_values_SNP.append(1)\n",
    "        else:\n",
    "            shap_values_SNP.append(0)\n",
    "        counter += 1\n",
    "    percent = sum(shap_values_SNP) / len(shap_values_SNP) * 100\n",
    "    confidence_int = 1\n",
    "    return percent, confidence_int\n",
    "   "
   ]
  },
  {
   "cell_type": "markdown",
   "metadata": {},
   "source": [
    "## Graphing"
   ]
  },
  {
   "cell_type": "code",
   "execution_count": 82,
   "metadata": {},
   "outputs": [],
   "source": [
    "#Line Plots\n",
    "def plot_shap_values_RFR_line(samples_n, loci_m, range_values, e_val, number_trials, data_type = 'set'):\n",
    "    \n",
    "    increment = 1/range_values\n",
    "    holderg = 0\n",
    "    g_vals = [0]\n",
    "    \n",
    "    for x in range(1, range_values):\n",
    "        g_vals.append(holderg + increment)\n",
    "        holderg = holderg + increment\n",
    "    \n",
    "    shap_values_SNP = []\n",
    "    \n",
    "    if data_type == 'set':\n",
    "        for x in range(0,range_values):\n",
    "            percent, confidence_int = shap_acc_RFR_set(samples_n, loci_m, g_vals[x], e_val, number_trials)\n",
    "            shap_values_SNP.append(percent)\n",
    "    elif data_type == 'var':\n",
    "        for x in range(0,range_values):\n",
    "            percent, confidence_int = shap_acc_RFR_var(samples_n, loci_m, g_vals[x], e_val, number_trials)\n",
    "            shap_values_SNP.append(percent)\n",
    "\n",
    "            \n",
    "    plt.plot(g_vals, shap_values_SNP) \n",
    "    \n",
    "    if data_type == 'set':\n",
    "        plt.xlabel('Value of Genetic Effect')\n",
    "        plt.ylabel('Percent accuracy of feature selection')\n",
    "        plt.title('Effect of Genetic Effect on SHAP Accuracy in Feature Selection') \n",
    "    elif data_type == 'var':\n",
    "        plt.xlabel('Variance of Genetic Effect')\n",
    "        plt.ylabel('Percent accuracy of feature selection')\n",
    "        plt.title('Effect of Variance Genetic Effect on SHAP Accuracy in Feature Selection') \n",
    "        \n",
    "    plt.show()"
   ]
  },
  {
   "cell_type": "code",
   "execution_count": 89,
   "metadata": {},
   "outputs": [],
   "source": [
    "#Bar Plots\n",
    "def plot_shap_values_RFR_bar(samples_n, loci_m, range_values, e_val, number_trials, data_type = 'set'):\n",
    "    \n",
    "    increment = 1/range_values\n",
    "    print(increment)\n",
    "\n",
    "    holderg = 0\n",
    "    g_vals = [0, 0.1, 0.2, 0.3, 0.4, 0.5, 0.6, 0.7, 0.8, 0.9]\n",
    "    \n",
    "    #for x in range(1, range_values):\n",
    "    #    g_vals.append(holderg + increment)\n",
    "    #    holderg = holderg + increment\n",
    "    #    print(holderg)\n",
    "    \n",
    "    shap_values_SNP = []\n",
    "    error = []\n",
    "    if data_type == 'set':\n",
    "        for x in range(0,range_values):\n",
    "            percent, confidence_int = shap_acc_RFR_set(samples_n, loci_m, g_vals[x], e_val, number_trials)\n",
    "            shap_values_SNP.append(percent)\n",
    "            error.append(confidence_int)\n",
    "    elif data_type == 'var':\n",
    "        for x in range(0,range_values):\n",
    "            percent, confidence_int = shap_acc_RFR_var(samples_n, loci_m, g_vals[x], e_val, number_trials)\n",
    "            shap_values_SNP.append(percent)\n",
    "            error.append(confidence_int)\n",
    "\n",
    "    # The x position of bars\n",
    "    barWidth = 0.7\n",
    "    r1 = np.arange(len(shap_values_SNP))\n",
    "    r2 = [x + barWidth for x in r1]\n",
    "    \n",
    "    bars = g_vals\n",
    "    x_pos = np.arange(len(bars))\n",
    " \n",
    "    # Create blue bars\n",
    "    plt.bar(r1, shap_values_SNP, width = barWidth, color = 'blue', edgecolor = 'black', yerr=error, capsize=7)\n",
    "\n",
    "    # general layout\n",
    "    print(g_vals)\n",
    "    plt.xticks(x_pos, g_vals)\n",
    "    plt.ylabel('Percent accuracy of feature selection')\n",
    "\n",
    "    plt.plot(g_vals, shap_values_SNP) \n",
    "    \n",
    " \n",
    "    if data_type == 'set':\n",
    "        plt.xlabel('Value of Genetic Effect')\n",
    "        plt.title('Effect of Genetic Effect on SHAP Accuracy in Feature Selection') \n",
    "    elif data_type == 'var':\n",
    "        plt.xlabel('Variance of Genetic Effect')\n",
    "        plt.title('Effect of Variance Genetic Effect on SHAP Accuracy in Feature Selection') \n",
    "        \n",
    "    plt.show()"
   ]
  },
  {
   "cell_type": "code",
   "execution_count": 90,
   "metadata": {},
   "outputs": [
    {
     "name": "stdout",
     "output_type": "stream",
     "text": [
      "0.1\n",
      "[0, 0.1, 0.2, 0.3, 0.4, 0.5, 0.6, 0.7, 0.8, 0.9]\n"
     ]
    },
    {
     "data": {
      "image/png": "[encoded data removed]",
      "text/plain": [
       "<Figure size 432x288 with 1 Axes>"
      ]
     },
     "metadata": {
      "needs_background": "light"
     },
     "output_type": "display_data"
    }
   ],
   "source": [
    "#Testing\n",
    "samples_n = 100\n",
    "loci_m = 10\n",
    "range_values = 10\n",
    "e_val = 0\n",
    "number_trials = 100\n",
    "'''\n",
    "beta_g = 0.9\n",
    "e_noise = 0.1\n",
    "G, loci = simulate_genotype_and_phenotype_abs(samples_n, loci_m,beta_g,e_noise)\n",
    "print(loci)\n",
    "shap_values, x_train = shap_RFR(G)\n",
    "shap_feature_plot_RFR(shap_values, x_train)\n",
    "print(mean_shap_values(shap_values))\n",
    "print(max_mean_feature(shap_values))\n",
    "'''\n",
    "plot_shap_values_RFR_bar(samples_n, loci_m, range_values, e_val, number_trials, data_type = 'set')\n",
    "#plot_shap_values_RFR(samples_n, loci_m, range_values, e_val, number_trails, data_type = 'set')\n",
    "#plot_shap_values_RFR(samples_n, loci_m, range_values, e_val, number_trails, 'var')"
   ]
  }
 ],
 "metadata": {
  "kernelspec": {
   "display_name": "Python 3",
   "language": "python",
   "name": "python3"
  },
  "language_info": {
   "codemirror_mode": {
    "name": "ipython",
    "version": 3
   },
   "file_extension": ".py",
   "mimetype": "text/x-python",
   "name": "python",
   "nbconvert_exporter": "python",
   "pygments_lexer": "ipython3",
   "version": "3.7.1"
  }
 },
 "nbformat": 4,
 "nbformat_minor": 2
}
