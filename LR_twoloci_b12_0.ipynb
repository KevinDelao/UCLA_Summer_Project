{
 "cells": [
  {
   "cell_type": "markdown",
   "metadata": {},
   "source": [
    "## Imports"
   ]
  },
  {
   "cell_type": "code",
   "execution_count": 19,
   "metadata": {},
   "outputs": [],
   "source": [
    "import numpy as np\n",
    "import pandas as pd\n",
    "import random\n",
    "import shap\n",
    "from math import sqrt\n",
    "import matplotlib.pyplot as plt\n",
    "from sklearn import preprocessing\n",
    "from sklearn.model_selection import train_test_split\n",
    "import sklearn.metrics as metrics\n",
    "from sklearn.linear_model import LinearRegression\n",
    "from sklearn.ensemble import RandomForestRegressor\n",
    "\n",
    "from scipy.stats import sem, t\n",
    "from scipy import mean\n",
    "\n",
    "import warnings\n",
    "warnings.filterwarnings('ignore')\n",
    "from random import randrange\n",
    "\n",
    "import pickle"
   ]
  },
  {
   "cell_type": "markdown",
   "metadata": {},
   "source": [
    "## Genotype & Phenotype Simulation"
   ]
  },
  {
   "cell_type": "code",
   "execution_count": 20,
   "metadata": {},
   "outputs": [],
   "source": [
    "#Simulate Genotype\n",
    "def simulate_genotype(samples_n, loci_m):\n",
    "    f_M = np.random.uniform(0,1,loci_m)\n",
    "    G = np.random.binomial(n=2,p = f_M, size = (samples_n,loci_m))\n",
    "    G = preprocessing.scale(G, axis=0)\n",
    "    \n",
    "    assert(len(G) == samples_n)\n",
    "    assert(len(G[0])== loci_m)\n",
    "    return G"
   ]
  },
  {
   "cell_type": "markdown",
   "metadata": {},
   "source": [
    "### Set beta and envi noise"
   ]
  },
  {
   "cell_type": "code",
   "execution_count": 21,
   "metadata": {},
   "outputs": [],
   "source": [
    "#Provide beta_g, e_noise and get G with genotype & Phenotype data\n",
    "def simulate_genotype_and_phenotype_set(samples_n, loci_m,beta_g,e_noise):\n",
    "    G = simulate_genotype(samples_n, loci_m)\n",
    "    loci =random.randint(0,loci_m-1)\n",
    "    SNP = G[:,loci]\n",
    "    individuals = len(SNP)\n",
    "    b_i = beta_g\n",
    "    Y_n = np.zeros((individuals, 1))\n",
    "    for k in range(0, individuals):\n",
    "        #each individual will have a e_j(noise) value\n",
    "        e_j = np.random.normal(0, e_noise)\n",
    "        #G_ij will be the jth individual from our SNP for the loci of choce\n",
    "        G_ij  = SNP[k]\n",
    "        Y_j = b_i*G_ij + e_j\n",
    "        Y_n[k] = Y_j \n",
    "    G = np.append(G, Y_n, axis=1)\n",
    "    return G, loci\n",
    "\n",
    "#Provide var_g, var_e and get G with genotype & Phenotype data\n",
    "def simulate_genotype_and_phenotype_var(samples_n, loci_m,var_g,var_e,b12_event):\n",
    "    G = simulate_genotype(samples_n, loci_m)\n",
    "    individuals = len(G)    \n",
    "    sigma_e = sqrt(var_e)\n",
    "    sigma_b = sqrt(var_g/2)\n",
    "    #b_i = loci effect on phenotype\n",
    "    b_1 = np.random.normal(0, sigma_b)\n",
    "    b_2 = np.random.normal(0, sigma_b)\n",
    "    loci =random.sample(range(0, loci_m), 2)\n",
    "    SNP1 = G[:,loci[0]]\n",
    "    SNP2 = G[:,loci[1]]\n",
    "    individuals = len(SNP1)    \n",
    "    #rows are the loci so each person has a row of different loci\n",
    "    Y_n = np.zeros((individuals, 1));\n",
    "    \n",
    "    #depending on b1_event b12 will be different\n",
    "    # if 0 then b12 has no effect\n",
    "    if (b12_event == 0):\n",
    "        b_12 = 0\n",
    "    #if 1 then Random Combined Effect\n",
    "    elif(b12_event == 1):\n",
    "        b_12 = np.random.normal(0, sigma_b)\n",
    "    #if 2 then: 0 < b_12 < b1\n",
    "    elif(b12_event == 2):\n",
    "        b_12 = random.uniform(0, abs(b_1))\n",
    "    #if 3 then: 0 < b_12 < b2\n",
    "    elif(b12_event == 3):\n",
    "        b_12 = random.uniform(0, abs(b_2))\n",
    "    #if 4 then: b_1 + b_2 < b_12\n",
    "    elif(b12_event == 4):\n",
    "        b_12 = random.uniform(abs(b_1) + abs(b_2), 1)\n",
    "    #if 5 then: b_12 < 0\n",
    "    elif(b12_event == 5):\n",
    "        b_12 = random.uniform(-1 * sigma_b, 0)\n",
    "             \n",
    "    #create phenotype vector\n",
    "    for k in range(0, individuals):\n",
    "        #each individual will have a random e_j(noise) value\n",
    "        e_j = np.random.normal(0, sigma_e)\n",
    "        #G_ij will be the jth individual from our SNP for the loci of choice\n",
    "        G_ij1  = SNP1[k]\n",
    "        G_ij2  = SNP2[k]\n",
    "        Y_j = (b_1*G_ij1) + (b_2*G_ij2) + (b_12 * (G_ij1 * G_ij2))+ e_j \n",
    "        Y_n[k] = Y_j \n",
    "    #add Y traits to G matrix\n",
    "    G = np.append(G, Y_n, axis=1)\n",
    "    return G, loci"
   ]
  },
  {
   "cell_type": "markdown",
   "metadata": {},
   "source": [
    "## LR & SHAP "
   ]
  },
  {
   "cell_type": "code",
   "execution_count": 22,
   "metadata": {},
   "outputs": [],
   "source": [
    "def shap_RFR_tree_train(G):\n",
    "    X = G[:,0:len(G[0])-2]\n",
    "    y = G[:,len(G[0])-1]\n",
    "    x_train, x_test, y_train, y_test = train_test_split(X, y, test_size=0.3)\n",
    "    linReg = LinearRegression() \n",
    "    linReg.fit(x_train, y_train) \n",
    "    explainer = shap.KernelExplainer(linReg.predict, shap.kmeans(x_train,100))\n",
    "    shap_values = explainer.shap_values(x_test)\n",
    "    return shap_values, x_train\n",
    "\n",
    "def shap_feature_plot_RFR(shap_values, x_train):\n",
    "    shap.summary_plot(shap_values, x_train, plot_type=\"bar\")"
   ]
  },
  {
   "cell_type": "markdown",
   "metadata": {},
   "source": [
    "## NN & SHAP "
   ]
  },
  {
   "cell_type": "markdown",
   "metadata": {},
   "source": [
    "## Calculate SHAP for RFR"
   ]
  },
  {
   "cell_type": "code",
   "execution_count": 23,
   "metadata": {},
   "outputs": [],
   "source": [
    "#FOR RFR\n",
    "def mean_shap_values(shap_values):\n",
    "    shap_values = np.array(shap_values)\n",
    "    avg_shap = []\n",
    "    for i in range(0,len(shap_values[0])):\n",
    "        shap2 = np.mean(abs(shap_values[:,i]))\n",
    "        avg_shap.append(shap2)\n",
    "    return avg_shap\n",
    "\n",
    "\n",
    "def max_mean_feature(shap_values):\n",
    "    avg_shap = mean_shap_values(shap_values)\n",
    "    temp1 = np.asarray(avg_shap)\n",
    "    indices = temp1.argsort()[-2:][::-1]\n",
    "    loci1,loci2 = avg_shap[indices[0]],avg_shap[indices[1]]\n",
    "    return indices"
   ]
  },
  {
   "cell_type": "markdown",
   "metadata": {},
   "source": [
    "## Calculating Accuracy"
   ]
  },
  {
   "cell_type": "code",
   "execution_count": 24,
   "metadata": {},
   "outputs": [],
   "source": [
    "def shap_acc_RFR_set(samples_n, loci_m, beta_g, e_noise, number_trials, confidence = 0.95):\n",
    "    shap_values_SNP = []\n",
    "    counter = 0\n",
    "    while counter != number_trials:\n",
    "        G, loci = simulate_genotype_and_phenotype_set(samples_n, loci_m,beta_g,e_noise)\n",
    "        shap_values_holder, x_train = shap_RFR_tree_train(G)\n",
    "        max_holder = max_mean_feature(shap_values_holder)\n",
    "        if max_holder[0] == loci:\n",
    "            shap_values_SNP.append(1)\n",
    "        else:\n",
    "            shap_values_SNP.append(0)\n",
    "        counter += 1\n",
    "    \n",
    "    percent = sum(shap_values_SNP) / len(shap_values_SNP) * 100\n",
    "    \n",
    "    n = len(shap_values_SNP)\n",
    "    m = mean(shap_values_SNP)\n",
    "    std_err = sem(shap_values_SNP)\n",
    "    confidence_int = std_err * t.ppf((1 + confidence) / 2, n - 1)\n",
    "    \n",
    "    return percent, confidence_int\n",
    "    \n",
    "\n",
    "def shap_acc_RFR_var(samples_n, loci_m, var_g, number_trials,b12_event):\n",
    "    shap_values_SNP = []\n",
    "    counter = 0\n",
    "    e_list = [0,.1,.2,.3,.4,.5,.6,.7,.8,.9]\n",
    "    [float(m) for m in e_list]# #this is a list of list\n",
    "    while counter != number_trials:\n",
    "        var_e = e_list[randrange(10)]\n",
    "        G, loci = simulate_genotype_and_phenotype_var(samples_n,loci_m, var_g , var_e,b12_event)\n",
    "        shap_values_holder, x_train = shap_RFR_tree_train(G)\n",
    "        max_holder = max_mean_feature(shap_values_holder)\n",
    "        if max_holder[0] == loci:\n",
    "            shap_values_SNP.append(1)\n",
    "        else:\n",
    "            shap_values_SNP.append(0)\n",
    "        counter += 1\n",
    "    percent = sum(shap_values_SNP) / len(shap_values_SNP) * 100\n",
    "    confidence_int = 1\n",
    "    return percent, confidence_int"
   ]
  },
  {
   "cell_type": "markdown",
   "metadata": {},
   "source": [
    "## Graphing"
   ]
  },
  {
   "cell_type": "code",
   "execution_count": 27,
   "metadata": {},
   "outputs": [],
   "source": [
    "#Line Plots\n",
    "def plot_shap_values_RFR_line_multiple(samples_n, loci_m, range_values_g, number_trials,b12_event, name = 'nameme', data_type = 'set'):\n",
    "    \n",
    "    increment_g = 1/range_values_g\n",
    "    increment_e = 1/range_values_e\n",
    "    holderg = 0\n",
    "    holdere = 0\n",
    "    g_vals = [0]\n",
    "    e_vals = [0]\n",
    "    \n",
    "    for x in range(1, range_values_g):\n",
    "        g_vals.append(holderg + increment_g)\n",
    "        holderg = holderg + increment_g\n",
    "        \n",
    "    for x in range(1, range_values_e):\n",
    "        e_vals.append(holdere + increment_e)\n",
    "        holdere = holdere + increment_e\n",
    "    \n",
    "    \n",
    "    shap_values_SNP = []\n",
    "    \n",
    "    if data_type == 'set':\n",
    "        for y in range(0, range_values_e):\n",
    "            shap_values_SNP_holder = []\n",
    "            for x in range(0,range_values_g):\n",
    "                percent, confidence_int = shap_acc_RFR_set(samples_n, loci_m, g_vals[x], number_trials)\n",
    "                shap_values_SNP_holder.append(percent)\n",
    "            shap_values_SNP.append(shap_values_SNP_holder)\n",
    "    elif data_type == 'var':\n",
    "        for x in range(0,range_values_g):\n",
    "            shap_values_SNP_holder = []\n",
    "            percent, confidence_int = shap_acc_RFR_var(samples_n, loci_m, g_vals[x], number_trials,b12_event)\n",
    "            shap_values_SNP_holder.append(percent)\n",
    "            shap_values_SNP.append(shap_values_SNP_holder)\n",
    "\n",
    "    for x in range(0, len(shap_values_SNP)):\n",
    "        e_vals[x] = str(round(e_vals[x], 2))\n",
    "        plt.plot(g_vals, shap_values_SNP[x], label = e_vals[x]) \n",
    "    \n",
    "    if data_type == 'set':\n",
    "        plt.xlabel('Value of Genetic Effect')\n",
    "        plt.ylabel('Percent accuracy of feature selection')\n",
    "        plt.ylim([0,100])\n",
    "\n",
    "        plt.title('Effect of Genetic Effect on SHAP Accuracy') \n",
    "    elif data_type == 'var':\n",
    "        plt.xlabel('Variance of Genetic Effect')\n",
    "        plt.ylabel('Percent accuracy of feature selection')\n",
    "        plt.ylim([0,100])\n",
    "\n",
    "        plt.title('Effect of Variance Genetic Effect on SHAP Accuracy') \n",
    "        \n",
    "    plt.legend(title = 'Environmental Noise')\n",
    "    plt.savefig(name)\n",
    "    return g_vals,shap_values_SNP,e_vals"
   ]
  },
  {
   "cell_type": "code",
   "execution_count": 28,
   "metadata": {
    "scrolled": true
   },
   "outputs": [
    {
     "data": {
      "application/vnd.jupyter.widget-view+json": {
       "model_id": "0f272f5b31eb4dcc99aa0a2d261c9f74",
       "version_major": 2,
       "version_minor": 0
      },
      "text/plain": [
       "HBox(children=(FloatProgress(value=0.0, max=150.0), HTML(value='')))"
      ]
     },
     "metadata": {},
     "output_type": "display_data"
    },
    {
     "name": "stdout",
     "output_type": "stream",
     "text": [
      "\n"
     ]
    },
    {
     "ename": "KeyboardInterrupt",
     "evalue": "",
     "output_type": "error",
     "traceback": [
      "\u001b[1;31m---------------------------------------------------------------------------\u001b[0m",
      "\u001b[1;31mKeyboardInterrupt\u001b[0m                         Traceback (most recent call last)",
      "\u001b[1;32m<ipython-input-28-550fb11f78b8>\u001b[0m in \u001b[0;36m<module>\u001b[1;34m\u001b[0m\n\u001b[0;32m      6\u001b[0m \u001b[0mb12_event\u001b[0m \u001b[1;33m=\u001b[0m \u001b[1;36m0\u001b[0m\u001b[1;33m\u001b[0m\u001b[1;33m\u001b[0m\u001b[0m\n\u001b[0;32m      7\u001b[0m \u001b[1;31m# g_vals,shap_values_SNP,e_vals = plot_shap_values_RFR_line_multiple(samples_n, loci_m, range_values_g, range_values_e, number_trials,b12_event,'RFR_two_loci_b12_0_set', data_type = 'set' )\u001b[0m\u001b[1;33m\u001b[0m\u001b[1;33m\u001b[0m\u001b[1;33m\u001b[0m\u001b[0m\n\u001b[1;32m----> 8\u001b[1;33m \u001b[0mg_vals\u001b[0m\u001b[1;33m,\u001b[0m\u001b[0mshap_values_SNP\u001b[0m\u001b[1;33m,\u001b[0m\u001b[0me_vals\u001b[0m \u001b[1;33m=\u001b[0m \u001b[0mplot_shap_values_RFR_line_multiple\u001b[0m\u001b[1;33m(\u001b[0m\u001b[0msamples_n\u001b[0m\u001b[1;33m,\u001b[0m \u001b[0mloci_m\u001b[0m\u001b[1;33m,\u001b[0m \u001b[0mrange_values_g\u001b[0m\u001b[1;33m,\u001b[0m \u001b[0mnumber_trials\u001b[0m\u001b[1;33m,\u001b[0m\u001b[0mb12_event\u001b[0m\u001b[1;33m,\u001b[0m\u001b[1;34m'LR_oneloci'\u001b[0m\u001b[1;33m,\u001b[0m \u001b[0mdata_type\u001b[0m \u001b[1;33m=\u001b[0m \u001b[1;34m'var'\u001b[0m \u001b[1;33m)\u001b[0m\u001b[1;33m\u001b[0m\u001b[1;33m\u001b[0m\u001b[0m\n\u001b[0m",
      "\u001b[1;32m<ipython-input-27-0bb958f315a8>\u001b[0m in \u001b[0;36mplot_shap_values_RFR_line_multiple\u001b[1;34m(samples_n, loci_m, range_values_g, number_trials, b12_event, name, data_type)\u001b[0m\n\u001b[0;32m     30\u001b[0m         \u001b[1;32mfor\u001b[0m \u001b[0mx\u001b[0m \u001b[1;32min\u001b[0m \u001b[0mrange\u001b[0m\u001b[1;33m(\u001b[0m\u001b[1;36m0\u001b[0m\u001b[1;33m,\u001b[0m\u001b[0mrange_values_g\u001b[0m\u001b[1;33m)\u001b[0m\u001b[1;33m:\u001b[0m\u001b[1;33m\u001b[0m\u001b[1;33m\u001b[0m\u001b[0m\n\u001b[0;32m     31\u001b[0m             \u001b[0mshap_values_SNP_holder\u001b[0m \u001b[1;33m=\u001b[0m \u001b[1;33m[\u001b[0m\u001b[1;33m]\u001b[0m\u001b[1;33m\u001b[0m\u001b[1;33m\u001b[0m\u001b[0m\n\u001b[1;32m---> 32\u001b[1;33m             \u001b[0mpercent\u001b[0m\u001b[1;33m,\u001b[0m \u001b[0mconfidence_int\u001b[0m \u001b[1;33m=\u001b[0m \u001b[0mshap_acc_RFR_var\u001b[0m\u001b[1;33m(\u001b[0m\u001b[0msamples_n\u001b[0m\u001b[1;33m,\u001b[0m \u001b[0mloci_m\u001b[0m\u001b[1;33m,\u001b[0m \u001b[0mg_vals\u001b[0m\u001b[1;33m[\u001b[0m\u001b[0mx\u001b[0m\u001b[1;33m]\u001b[0m\u001b[1;33m,\u001b[0m \u001b[0mnumber_trials\u001b[0m\u001b[1;33m,\u001b[0m\u001b[0mb12_event\u001b[0m\u001b[1;33m)\u001b[0m\u001b[1;33m\u001b[0m\u001b[1;33m\u001b[0m\u001b[0m\n\u001b[0m\u001b[0;32m     33\u001b[0m             \u001b[0mshap_values_SNP_holder\u001b[0m\u001b[1;33m.\u001b[0m\u001b[0mappend\u001b[0m\u001b[1;33m(\u001b[0m\u001b[0mpercent\u001b[0m\u001b[1;33m)\u001b[0m\u001b[1;33m\u001b[0m\u001b[1;33m\u001b[0m\u001b[0m\n\u001b[0;32m     34\u001b[0m             \u001b[0mshap_values_SNP\u001b[0m\u001b[1;33m.\u001b[0m\u001b[0mappend\u001b[0m\u001b[1;33m(\u001b[0m\u001b[0mshap_values_SNP_holder\u001b[0m\u001b[1;33m)\u001b[0m\u001b[1;33m\u001b[0m\u001b[1;33m\u001b[0m\u001b[0m\n",
      "\u001b[1;32m<ipython-input-24-ab0796eb96f2>\u001b[0m in \u001b[0;36mshap_acc_RFR_var\u001b[1;34m(samples_n, loci_m, var_g, number_trials, b12_event)\u001b[0m\n\u001b[0;32m     30\u001b[0m         \u001b[0mvar_e\u001b[0m \u001b[1;33m=\u001b[0m \u001b[0me_list\u001b[0m\u001b[1;33m[\u001b[0m\u001b[0mrandrange\u001b[0m\u001b[1;33m(\u001b[0m\u001b[1;36m10\u001b[0m\u001b[1;33m)\u001b[0m\u001b[1;33m]\u001b[0m\u001b[1;33m\u001b[0m\u001b[1;33m\u001b[0m\u001b[0m\n\u001b[0;32m     31\u001b[0m         \u001b[0mG\u001b[0m\u001b[1;33m,\u001b[0m \u001b[0mloci\u001b[0m \u001b[1;33m=\u001b[0m \u001b[0msimulate_genotype_and_phenotype_var\u001b[0m\u001b[1;33m(\u001b[0m\u001b[0msamples_n\u001b[0m\u001b[1;33m,\u001b[0m\u001b[0mloci_m\u001b[0m\u001b[1;33m,\u001b[0m \u001b[0mvar_g\u001b[0m \u001b[1;33m,\u001b[0m \u001b[0mvar_e\u001b[0m\u001b[1;33m,\u001b[0m\u001b[0mb12_event\u001b[0m\u001b[1;33m)\u001b[0m\u001b[1;33m\u001b[0m\u001b[1;33m\u001b[0m\u001b[0m\n\u001b[1;32m---> 32\u001b[1;33m         \u001b[0mshap_values_holder\u001b[0m\u001b[1;33m,\u001b[0m \u001b[0mx_train\u001b[0m \u001b[1;33m=\u001b[0m \u001b[0mshap_RFR_tree_train\u001b[0m\u001b[1;33m(\u001b[0m\u001b[0mG\u001b[0m\u001b[1;33m)\u001b[0m\u001b[1;33m\u001b[0m\u001b[1;33m\u001b[0m\u001b[0m\n\u001b[0m\u001b[0;32m     33\u001b[0m         \u001b[0mmax_holder\u001b[0m \u001b[1;33m=\u001b[0m \u001b[0mmax_mean_feature\u001b[0m\u001b[1;33m(\u001b[0m\u001b[0mshap_values_holder\u001b[0m\u001b[1;33m)\u001b[0m\u001b[1;33m\u001b[0m\u001b[1;33m\u001b[0m\u001b[0m\n\u001b[0;32m     34\u001b[0m         \u001b[1;32mif\u001b[0m \u001b[0mmax_holder\u001b[0m\u001b[1;33m[\u001b[0m\u001b[1;36m0\u001b[0m\u001b[1;33m]\u001b[0m \u001b[1;33m==\u001b[0m \u001b[0mloci\u001b[0m\u001b[1;33m:\u001b[0m\u001b[1;33m\u001b[0m\u001b[1;33m\u001b[0m\u001b[0m\n",
      "\u001b[1;32m<ipython-input-22-d573959287db>\u001b[0m in \u001b[0;36mshap_RFR_tree_train\u001b[1;34m(G)\u001b[0m\n\u001b[0;32m      6\u001b[0m     \u001b[0mlinReg\u001b[0m\u001b[1;33m.\u001b[0m\u001b[0mfit\u001b[0m\u001b[1;33m(\u001b[0m\u001b[0mx_train\u001b[0m\u001b[1;33m,\u001b[0m \u001b[0my_train\u001b[0m\u001b[1;33m)\u001b[0m\u001b[1;33m\u001b[0m\u001b[1;33m\u001b[0m\u001b[0m\n\u001b[0;32m      7\u001b[0m     \u001b[0mexplainer\u001b[0m \u001b[1;33m=\u001b[0m \u001b[0mshap\u001b[0m\u001b[1;33m.\u001b[0m\u001b[0mKernelExplainer\u001b[0m\u001b[1;33m(\u001b[0m\u001b[0mlinReg\u001b[0m\u001b[1;33m.\u001b[0m\u001b[0mpredict\u001b[0m\u001b[1;33m,\u001b[0m \u001b[0mshap\u001b[0m\u001b[1;33m.\u001b[0m\u001b[0mkmeans\u001b[0m\u001b[1;33m(\u001b[0m\u001b[0mx_train\u001b[0m\u001b[1;33m,\u001b[0m\u001b[1;36m100\u001b[0m\u001b[1;33m)\u001b[0m\u001b[1;33m)\u001b[0m\u001b[1;33m\u001b[0m\u001b[1;33m\u001b[0m\u001b[0m\n\u001b[1;32m----> 8\u001b[1;33m     \u001b[0mshap_values\u001b[0m \u001b[1;33m=\u001b[0m \u001b[0mexplainer\u001b[0m\u001b[1;33m.\u001b[0m\u001b[0mshap_values\u001b[0m\u001b[1;33m(\u001b[0m\u001b[0mx_test\u001b[0m\u001b[1;33m)\u001b[0m\u001b[1;33m\u001b[0m\u001b[1;33m\u001b[0m\u001b[0m\n\u001b[0m\u001b[0;32m      9\u001b[0m     \u001b[1;32mreturn\u001b[0m \u001b[0mshap_values\u001b[0m\u001b[1;33m,\u001b[0m \u001b[0mx_train\u001b[0m\u001b[1;33m\u001b[0m\u001b[1;33m\u001b[0m\u001b[0m\n\u001b[0;32m     10\u001b[0m \u001b[1;33m\u001b[0m\u001b[0m\n",
      "\u001b[1;32m~\\Anaconda3\\lib\\site-packages\\shap\\explainers\\kernel.py\u001b[0m in \u001b[0;36mshap_values\u001b[1;34m(self, X, **kwargs)\u001b[0m\n\u001b[0;32m    209\u001b[0m                 \u001b[1;32mif\u001b[0m \u001b[0mself\u001b[0m\u001b[1;33m.\u001b[0m\u001b[0mkeep_index\u001b[0m\u001b[1;33m:\u001b[0m\u001b[1;33m\u001b[0m\u001b[1;33m\u001b[0m\u001b[0m\n\u001b[0;32m    210\u001b[0m                     \u001b[0mdata\u001b[0m \u001b[1;33m=\u001b[0m \u001b[0mconvert_to_instance_with_index\u001b[0m\u001b[1;33m(\u001b[0m\u001b[0mdata\u001b[0m\u001b[1;33m,\u001b[0m \u001b[0mcolumn_name\u001b[0m\u001b[1;33m,\u001b[0m \u001b[0mindex_value\u001b[0m\u001b[1;33m[\u001b[0m\u001b[0mi\u001b[0m\u001b[1;33m:\u001b[0m\u001b[0mi\u001b[0m \u001b[1;33m+\u001b[0m \u001b[1;36m1\u001b[0m\u001b[1;33m]\u001b[0m\u001b[1;33m,\u001b[0m \u001b[0mindex_name\u001b[0m\u001b[1;33m)\u001b[0m\u001b[1;33m\u001b[0m\u001b[1;33m\u001b[0m\u001b[0m\n\u001b[1;32m--> 211\u001b[1;33m                 \u001b[0mexplanations\u001b[0m\u001b[1;33m.\u001b[0m\u001b[0mappend\u001b[0m\u001b[1;33m(\u001b[0m\u001b[0mself\u001b[0m\u001b[1;33m.\u001b[0m\u001b[0mexplain\u001b[0m\u001b[1;33m(\u001b[0m\u001b[0mdata\u001b[0m\u001b[1;33m,\u001b[0m \u001b[1;33m**\u001b[0m\u001b[0mkwargs\u001b[0m\u001b[1;33m)\u001b[0m\u001b[1;33m)\u001b[0m\u001b[1;33m\u001b[0m\u001b[1;33m\u001b[0m\u001b[0m\n\u001b[0m\u001b[0;32m    212\u001b[0m \u001b[1;33m\u001b[0m\u001b[0m\n\u001b[0;32m    213\u001b[0m             \u001b[1;31m# vector-output\u001b[0m\u001b[1;33m\u001b[0m\u001b[1;33m\u001b[0m\u001b[1;33m\u001b[0m\u001b[0m\n",
      "\u001b[1;32m~\\Anaconda3\\lib\\site-packages\\shap\\explainers\\kernel.py\u001b[0m in \u001b[0;36mexplain\u001b[1;34m(self, incoming_instance, **kwargs)\u001b[0m\n\u001b[0;32m    405\u001b[0m             \u001b[0mphi_var\u001b[0m \u001b[1;33m=\u001b[0m \u001b[0mnp\u001b[0m\u001b[1;33m.\u001b[0m\u001b[0mzeros\u001b[0m\u001b[1;33m(\u001b[0m\u001b[1;33m(\u001b[0m\u001b[0mself\u001b[0m\u001b[1;33m.\u001b[0m\u001b[0mdata\u001b[0m\u001b[1;33m.\u001b[0m\u001b[0mgroups_size\u001b[0m\u001b[1;33m,\u001b[0m \u001b[0mself\u001b[0m\u001b[1;33m.\u001b[0m\u001b[0mD\u001b[0m\u001b[1;33m)\u001b[0m\u001b[1;33m)\u001b[0m\u001b[1;33m\u001b[0m\u001b[1;33m\u001b[0m\u001b[0m\n\u001b[0;32m    406\u001b[0m             \u001b[1;32mfor\u001b[0m \u001b[0md\u001b[0m \u001b[1;32min\u001b[0m \u001b[0mrange\u001b[0m\u001b[1;33m(\u001b[0m\u001b[0mself\u001b[0m\u001b[1;33m.\u001b[0m\u001b[0mD\u001b[0m\u001b[1;33m)\u001b[0m\u001b[1;33m:\u001b[0m\u001b[1;33m\u001b[0m\u001b[1;33m\u001b[0m\u001b[0m\n\u001b[1;32m--> 407\u001b[1;33m                 \u001b[0mvphi\u001b[0m\u001b[1;33m,\u001b[0m \u001b[0mvphi_var\u001b[0m \u001b[1;33m=\u001b[0m \u001b[0mself\u001b[0m\u001b[1;33m.\u001b[0m\u001b[0msolve\u001b[0m\u001b[1;33m(\u001b[0m\u001b[0mself\u001b[0m\u001b[1;33m.\u001b[0m\u001b[0mnsamples\u001b[0m \u001b[1;33m/\u001b[0m \u001b[0mself\u001b[0m\u001b[1;33m.\u001b[0m\u001b[0mmax_samples\u001b[0m\u001b[1;33m,\u001b[0m \u001b[0md\u001b[0m\u001b[1;33m)\u001b[0m\u001b[1;33m\u001b[0m\u001b[1;33m\u001b[0m\u001b[0m\n\u001b[0m\u001b[0;32m    408\u001b[0m                 \u001b[0mphi\u001b[0m\u001b[1;33m[\u001b[0m\u001b[0mself\u001b[0m\u001b[1;33m.\u001b[0m\u001b[0mvaryingInds\u001b[0m\u001b[1;33m,\u001b[0m \u001b[0md\u001b[0m\u001b[1;33m]\u001b[0m \u001b[1;33m=\u001b[0m \u001b[0mvphi\u001b[0m\u001b[1;33m\u001b[0m\u001b[1;33m\u001b[0m\u001b[0m\n\u001b[0;32m    409\u001b[0m                 \u001b[0mphi_var\u001b[0m\u001b[1;33m[\u001b[0m\u001b[0mself\u001b[0m\u001b[1;33m.\u001b[0m\u001b[0mvaryingInds\u001b[0m\u001b[1;33m,\u001b[0m \u001b[0md\u001b[0m\u001b[1;33m]\u001b[0m \u001b[1;33m=\u001b[0m \u001b[0mvphi_var\u001b[0m\u001b[1;33m\u001b[0m\u001b[1;33m\u001b[0m\u001b[0m\n",
      "\u001b[1;32m~\\Anaconda3\\lib\\site-packages\\shap\\explainers\\kernel.py\u001b[0m in \u001b[0;36msolve\u001b[1;34m(self, fraction_evaluated, dim)\u001b[0m\n\u001b[0;32m    546\u001b[0m     \u001b[1;32mdef\u001b[0m \u001b[0msolve\u001b[0m\u001b[1;33m(\u001b[0m\u001b[0mself\u001b[0m\u001b[1;33m,\u001b[0m \u001b[0mfraction_evaluated\u001b[0m\u001b[1;33m,\u001b[0m \u001b[0mdim\u001b[0m\u001b[1;33m)\u001b[0m\u001b[1;33m:\u001b[0m\u001b[1;33m\u001b[0m\u001b[1;33m\u001b[0m\u001b[0m\n\u001b[0;32m    547\u001b[0m         \u001b[0meyAdj\u001b[0m \u001b[1;33m=\u001b[0m \u001b[0mself\u001b[0m\u001b[1;33m.\u001b[0m\u001b[0mlinkfv\u001b[0m\u001b[1;33m(\u001b[0m\u001b[0mself\u001b[0m\u001b[1;33m.\u001b[0m\u001b[0mey\u001b[0m\u001b[1;33m[\u001b[0m\u001b[1;33m:\u001b[0m\u001b[1;33m,\u001b[0m \u001b[0mdim\u001b[0m\u001b[1;33m]\u001b[0m\u001b[1;33m)\u001b[0m \u001b[1;33m-\u001b[0m \u001b[0mself\u001b[0m\u001b[1;33m.\u001b[0m\u001b[0mlink\u001b[0m\u001b[1;33m.\u001b[0m\u001b[0mf\u001b[0m\u001b[1;33m(\u001b[0m\u001b[0mself\u001b[0m\u001b[1;33m.\u001b[0m\u001b[0mfnull\u001b[0m\u001b[1;33m[\u001b[0m\u001b[0mdim\u001b[0m\u001b[1;33m]\u001b[0m\u001b[1;33m)\u001b[0m\u001b[1;33m\u001b[0m\u001b[1;33m\u001b[0m\u001b[0m\n\u001b[1;32m--> 548\u001b[1;33m         \u001b[0ms\u001b[0m \u001b[1;33m=\u001b[0m \u001b[0mnp\u001b[0m\u001b[1;33m.\u001b[0m\u001b[0msum\u001b[0m\u001b[1;33m(\u001b[0m\u001b[0mself\u001b[0m\u001b[1;33m.\u001b[0m\u001b[0mmaskMatrix\u001b[0m\u001b[1;33m,\u001b[0m \u001b[1;36m1\u001b[0m\u001b[1;33m)\u001b[0m\u001b[1;33m\u001b[0m\u001b[1;33m\u001b[0m\u001b[0m\n\u001b[0m\u001b[0;32m    549\u001b[0m \u001b[1;33m\u001b[0m\u001b[0m\n\u001b[0;32m    550\u001b[0m         \u001b[1;31m# do feature selection if we have not well enumerated the space\u001b[0m\u001b[1;33m\u001b[0m\u001b[1;33m\u001b[0m\u001b[1;33m\u001b[0m\u001b[0m\n",
      "\u001b[1;32m<__array_function__ internals>\u001b[0m in \u001b[0;36msum\u001b[1;34m(*args, **kwargs)\u001b[0m\n",
      "\u001b[1;32m~\\Anaconda3\\lib\\site-packages\\numpy\\core\\fromnumeric.py\u001b[0m in \u001b[0;36msum\u001b[1;34m(a, axis, dtype, out, keepdims, initial, where)\u001b[0m\n\u001b[0;32m   2226\u001b[0m         \u001b[1;32mreturn\u001b[0m \u001b[0mres\u001b[0m\u001b[1;33m\u001b[0m\u001b[1;33m\u001b[0m\u001b[0m\n\u001b[0;32m   2227\u001b[0m \u001b[1;33m\u001b[0m\u001b[0m\n\u001b[1;32m-> 2228\u001b[1;33m     return _wrapreduction(a, np.add, 'sum', axis, dtype, out, keepdims=keepdims,\n\u001b[0m\u001b[0;32m   2229\u001b[0m                           initial=initial, where=where)\n\u001b[0;32m   2230\u001b[0m \u001b[1;33m\u001b[0m\u001b[0m\n",
      "\u001b[1;32m~\\Anaconda3\\lib\\site-packages\\numpy\\core\\fromnumeric.py\u001b[0m in \u001b[0;36m_wrapreduction\u001b[1;34m(obj, ufunc, method, axis, dtype, out, **kwargs)\u001b[0m\n\u001b[0;32m     88\u001b[0m                 \u001b[1;32mreturn\u001b[0m \u001b[0mreduction\u001b[0m\u001b[1;33m(\u001b[0m\u001b[0maxis\u001b[0m\u001b[1;33m=\u001b[0m\u001b[0maxis\u001b[0m\u001b[1;33m,\u001b[0m \u001b[0mout\u001b[0m\u001b[1;33m=\u001b[0m\u001b[0mout\u001b[0m\u001b[1;33m,\u001b[0m \u001b[1;33m**\u001b[0m\u001b[0mpasskwargs\u001b[0m\u001b[1;33m)\u001b[0m\u001b[1;33m\u001b[0m\u001b[1;33m\u001b[0m\u001b[0m\n\u001b[0;32m     89\u001b[0m \u001b[1;33m\u001b[0m\u001b[0m\n\u001b[1;32m---> 90\u001b[1;33m     \u001b[1;32mreturn\u001b[0m \u001b[0mufunc\u001b[0m\u001b[1;33m.\u001b[0m\u001b[0mreduce\u001b[0m\u001b[1;33m(\u001b[0m\u001b[0mobj\u001b[0m\u001b[1;33m,\u001b[0m \u001b[0maxis\u001b[0m\u001b[1;33m,\u001b[0m \u001b[0mdtype\u001b[0m\u001b[1;33m,\u001b[0m \u001b[0mout\u001b[0m\u001b[1;33m,\u001b[0m \u001b[1;33m**\u001b[0m\u001b[0mpasskwargs\u001b[0m\u001b[1;33m)\u001b[0m\u001b[1;33m\u001b[0m\u001b[1;33m\u001b[0m\u001b[0m\n\u001b[0m\u001b[0;32m     91\u001b[0m \u001b[1;33m\u001b[0m\u001b[0m\n\u001b[0;32m     92\u001b[0m \u001b[1;33m\u001b[0m\u001b[0m\n",
      "\u001b[1;31mKeyboardInterrupt\u001b[0m: "
     ]
    }
   ],
   "source": [
    "samples_n = 500\n",
    "loci_m = 20\n",
    "range_values_g = 10\n",
    "range_values_e = 5\n",
    "number_trials = 20\n",
    "b12_event = 0\n",
    "# g_vals,shap_values_SNP,e_vals = plot_shap_values_RFR_line_multiple(samples_n, loci_m, range_values_g, range_values_e, number_trials,b12_event,'RFR_two_loci_b12_0_set', data_type = 'set' )\n",
    "g_vals,shap_values_SNP,e_vals = plot_shap_values_RFR_line_multiple(samples_n, loci_m, range_values_g, number_trials,b12_event,'LR_oneloci', data_type = 'var' )"
   ]
  },
  {
   "cell_type": "code",
   "execution_count": null,
   "metadata": {},
   "outputs": [],
   "source": [
    "RFR_two_lociList = []\n",
    "RFR_two_lociList.append(g_vals)\n",
    "RFR_two_lociList.append(shap_values_SNP)\n",
    "RFR_two_lociList.append(e_vals)\n"
   ]
  },
  {
   "cell_type": "code",
   "execution_count": null,
   "metadata": {},
   "outputs": [],
   "source": [
    "with open('/u/home/k/kevindel/project-ngarud/Kevin_BIG_Summer_Code/LR_oneloci/LR_oneloci_var', 'wb') as fp:\n",
    "    pickle.dump(RFR_two_lociList, fp)"
   ]
  },
  {
   "cell_type": "code",
   "execution_count": null,
   "metadata": {},
   "outputs": [],
   "source": []
  }
 ],
 "metadata": {
  "kernelspec": {
   "display_name": "Python 3",
   "language": "python",
   "name": "python3"
  },
  "language_info": {
   "codemirror_mode": {
    "name": "ipython",
    "version": 3
   },
   "file_extension": ".py",
   "mimetype": "text/x-python",
   "name": "python",
   "nbconvert_exporter": "python",
   "pygments_lexer": "ipython3",
   "version": "3.8.3"
  }
 },
 "nbformat": 4,
 "nbformat_minor": 2
}
