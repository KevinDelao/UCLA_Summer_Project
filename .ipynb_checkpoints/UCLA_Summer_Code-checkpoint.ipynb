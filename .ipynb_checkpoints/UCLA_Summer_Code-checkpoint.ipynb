{
 "cells": [
  {
   "cell_type": "code",
   "execution_count": 2,
   "metadata": {},
   "outputs": [],
   "source": [
    "import numpy as np\n",
    "import pandas as pd\n",
    "import random\n",
    "import shap\n",
    "from math import sqrt\n",
    "import matplotlib.pyplot as plt\n",
    "from sklearn import preprocessing\n",
    "from sklearn.model_selection import train_test_split\n",
    "import sklearn.metrics as metrics\n",
    "from sklearn.linear_model import LinearRegression\n",
    "from sklearn.ensemble import RandomForestRegressor"
   ]
  },
  {
   "cell_type": "code",
   "execution_count": 3,
   "metadata": {},
   "outputs": [
    {
     "name": "stderr",
     "output_type": "stream",
     "text": [
      "Data with input dtype int32 was converted to float64 by the scale function.\n"
     ]
    },
    {
     "name": "stdout",
     "output_type": "stream",
     "text": [
      "[0.14285714 0.14285714 0.14285714 0.14285714 0.14285714 0.14285714\n",
      " 0.14285714 0.14285714 0.14285714 0.14285714 0.14285714 0.14285714\n",
      " 0.14285714 0.14285714 0.14285714 0.14285714 0.14285714 0.14285714\n",
      " 0.14285714 0.14285714 0.14285714 0.14285714 0.14285714 0.14285714\n",
      " 0.14285714 0.14285714 0.14285714 0.14285714 0.14285714 0.14285714]\n"
     ]
    }
   ],
   "source": [
    "#individuals\n",
    "n = 2000\n",
    "#loci\n",
    "m = 100\n",
    "\n",
    "\n",
    "#here every matrix entree has to be zero or one, with having a f_i probability to get selected\n",
    "#frequency of alleles, random uniform distribution between 0 and 1, with m samples\n",
    "f_M = np.random.uniform(0,1,m)\n",
    "\n",
    "#initialize G matrix\n",
    "# G = np.zeros((n, m));\n",
    "\n",
    "# #will be used to flip a coin based on f_i\n",
    "# #higher f_i frequency = higher chance of returning true\n",
    "# def loci_frequency_flip(f_i):\n",
    "#     return random.random() < f_i\n",
    "\n",
    "# #use this if I wanted to populate entire G matrix\n",
    "# #k are the colums(loci)\n",
    "# for k in range (0, len(G[0])):\n",
    "#     # j are the rows(individuals)\n",
    "#     for j in range (0, len(G)):\n",
    "#         #frequency of loci k we are currently on\n",
    "#         if(loci_frequency_flip(f_M[k])):\n",
    "#             G[j,k] = 1\n",
    "\n",
    "G = np.random.binomial(n=2,p = f_M, size =  (n,m))\n",
    "\n",
    "# If 0, independently standardize each feature, otherwise (if 1) standardize each sample, so choosing 0 \n",
    "# to do column wise scaling\n",
    "G = preprocessing.scale(G, axis=0)\n",
    "# choose random SNP\n",
    "loci =random.randint(0,m-1)\n",
    "\n",
    "#select SNP\n",
    "SNP = G[:,loci]\n",
    "\n",
    "#preview of the data\n",
    "print(SNP[0:30])"
   ]
  },
  {
   "cell_type": "code",
   "execution_count": 4,
   "metadata": {},
   "outputs": [],
   "source": [
    "\n",
    "# mean and standard deviation\n",
    "H=0\n",
    "#assumes that we are making a Y_j for every individual in the SNP and \n",
    "#in each loop we choose a e_j for that person\n",
    "def Simulate_Phenotype_PerPerson(SNP,var_e,var_g):\n",
    "    #rows are the loci so each person has a row of different loci\n",
    "    individuals = len(SNP)\n",
    "    \n",
    "    #where columns are the individuals\n",
    "    mean = 0 \n",
    "    \n",
    "    #because we are given variance and python random.normal only accepts std, we need to convert variance to std\n",
    "    sigma_e = sqrt(var_e)\n",
    "    sigma_b = sqrt(var_g)\n",
    "    \n",
    "    #b_i = loci effect on phenotype\n",
    "    b_i = np.random.normal(0, sigma_b)\n",
    "    Y_n = np.zeros((individuals, 1));\n",
    "    \n",
    "    for k in range(0, individuals):\n",
    "        #each individual will have a random e_j(noise) value\n",
    "        e_j = np.random.normal(0, sigma_e)\n",
    "        #G_ij will be the jth individual from our SNP for the loci of choce\n",
    "        G_ij  = SNP[k]\n",
    "        Y_j = b_i*G_ij + e_j\n",
    "        Y_n[k] = Y_j \n",
    "    H= var_g/(var_g+var_e)\n",
    "    return Y_n,H\n"
   ]
  },
  {
   "cell_type": "markdown",
   "metadata": {},
   "source": [
    "# Phenotype Generation"
   ]
  },
  {
   "cell_type": "code",
   "execution_count": 5,
   "metadata": {},
   "outputs": [],
   "source": [
    "#Generate Genotype\n",
    "def generate_genotype(n, m, processing = True):\n",
    "    f_M = np.random.uniform(0,1,m)\n",
    "    G = np.random.binomial(n=2,p = f_M, size =  (n,m))\n",
    "    if processing: \n",
    "        G = preprocessing.scale(G, axis=0)\n",
    "    return G\n",
    "\n",
    "#Generate base phenotype values\n",
    "def generate_base_pheno_values(G, var_g, var_e, n_causal_SNPs = 2):\n",
    "    #rows are the loci so each person has a row of different loci\n",
    "    number_loci = len(G[0])    \n",
    "    sigma_e = sqrt(var_e)\n",
    "    sigma_b = sqrt(var_g/n_causal_SNPs)\n",
    "    #b_i = loci effect on phenotype\n",
    "    \n",
    "    if n_causal_SNPs == 2:\n",
    "        causal_loci =random.sample(range(0, number_loci), 2)\n",
    "        b_1 = np.random.normal(0, sigma_b)\n",
    "        b_2 = np.random.normal(0, sigma_b)\n",
    "        SNP1 = G[:,causal_loci[0]]\n",
    "        SNP2 = G[:,causal_loci[1]]\n",
    "        return b_1, b_2, SNP1, SNP2, sigma_e, sigma_b\n",
    "    else:\n",
    "        causal_loci =random.sample(range(0, number_loci), n_causal_SNPs)\n",
    "        b_values = []\n",
    "        SNPs = []\n",
    "        for loci in causal_loci:\n",
    "            b_values.append(np.random.normal(0, sigma_b))\n",
    "            SNPs.append(G[:, loci])\n",
    "        return b_values, loci, sigma_e, sigma_b\n",
    "\n",
    "def generate_phenotype_additive(b_1, b_2, SNP1, SNP2, sigma_e, sigma_b, b_12):\n",
    "    individuals = len(SNP1)    \n",
    "    #rows are the loci so each person has a row of different loci\n",
    "    Y_n = np.zeros((individuals, 1));\n",
    "    for k in range(0, individuals):\n",
    "        #each individual will have a random e_j(noise) value\n",
    "        e_j = np.random.normal(0, sigma_e)\n",
    "        #G_ij will be the jth individual from our SNP for the loci of choice\n",
    "        G_ij1  = SNP1[k]\n",
    "        G_ij2  = SNP2[k]\n",
    "        Y_j = (b_1*G_ij1) + (b_2*G_ij2) + (b_12 * G_ij1 * G_ij2)+ e_j \n",
    "        Y_n[k] = Y_j \n",
    "    return Y_n, b_12\n",
    "\n",
    "def generate_phenotype_base_multiple_loci(b_values, SNPs, sigma_e, sigma_b):\n",
    "    individuals = len(SNPs[0])\n",
    "    Y_n = np.zeros(individuals, 1)\n",
    "    for j in range(0, len(individuals)):\n",
    "        e_j = np.random.normal(0, sigma_e)\n",
    "        Y_j_holder = e_j\n",
    "        for k in range(0, len(SNPs)):\n",
    "            Y_j_holder += b_values[k] * SNPs[j][k]\n",
    "        Y_n[j] = Y_n_holder\n",
    "    return Y_n\n",
    "    "
   ]
  },
  {
   "cell_type": "code",
   "execution_count": 6,
   "metadata": {},
   "outputs": [
    {
     "name": "stderr",
     "output_type": "stream",
     "text": [
      "Data with input dtype int32 was converted to float64 by the scale function.\n"
     ]
    },
    {
     "ename": "ValueError",
     "evalue": "too many values to unpack (expected 4)",
     "output_type": "error",
     "traceback": [
      "\u001b[1;31m---------------------------------------------------------------------------\u001b[0m",
      "\u001b[1;31mValueError\u001b[0m                                Traceback (most recent call last)",
      "\u001b[1;32m<ipython-input-6-6400dd065bff>\u001b[0m in \u001b[0;36m<module>\u001b[1;34m\u001b[0m\n\u001b[0;32m      1\u001b[0m \u001b[0mG\u001b[0m \u001b[1;33m=\u001b[0m\u001b[0mgenerate_genotype\u001b[0m\u001b[1;33m(\u001b[0m\u001b[1;36m10\u001b[0m\u001b[1;33m,\u001b[0m \u001b[1;36m5\u001b[0m\u001b[1;33m,\u001b[0m \u001b[0mprocessing\u001b[0m \u001b[1;33m=\u001b[0m \u001b[1;32mTrue\u001b[0m\u001b[1;33m)\u001b[0m\u001b[1;33m\u001b[0m\u001b[1;33m\u001b[0m\u001b[0m\n\u001b[1;32m----> 2\u001b[1;33m \u001b[0mb_values\u001b[0m\u001b[1;33m,\u001b[0m \u001b[0mloci\u001b[0m\u001b[1;33m,\u001b[0m \u001b[0msigma_e\u001b[0m\u001b[1;33m,\u001b[0m \u001b[0msigma_b\u001b[0m \u001b[1;33m=\u001b[0m \u001b[0mgenerate_base_pheno_values\u001b[0m\u001b[1;33m(\u001b[0m\u001b[0mG\u001b[0m\u001b[1;33m,\u001b[0m \u001b[1;36m0.8\u001b[0m\u001b[1;33m,\u001b[0m \u001b[1;36m0.2\u001b[0m\u001b[1;33m,\u001b[0m \u001b[1;36m2\u001b[0m\u001b[1;33m)\u001b[0m\u001b[1;33m\u001b[0m\u001b[1;33m\u001b[0m\u001b[0m\n\u001b[0m\u001b[0;32m      3\u001b[0m \u001b[0mprint\u001b[0m\u001b[1;33m(\u001b[0m\u001b[0mb_values\u001b[0m\u001b[1;33m)\u001b[0m\u001b[1;33m\u001b[0m\u001b[1;33m\u001b[0m\u001b[0m\n\u001b[0;32m      4\u001b[0m \u001b[0mprint\u001b[0m\u001b[1;33m(\u001b[0m\u001b[0mloci\u001b[0m\u001b[1;33m)\u001b[0m\u001b[1;33m\u001b[0m\u001b[1;33m\u001b[0m\u001b[0m\n\u001b[0;32m      5\u001b[0m \u001b[0mprint\u001b[0m\u001b[1;33m(\u001b[0m\u001b[0msigma_e\u001b[0m\u001b[1;33m)\u001b[0m\u001b[1;33m\u001b[0m\u001b[1;33m\u001b[0m\u001b[0m\n",
      "\u001b[1;31mValueError\u001b[0m: too many values to unpack (expected 4)"
     ]
    }
   ],
   "source": [
    "G =generate_genotype(10, 5, processing = True)\n",
    "b_values, loci, sigma_e, sigma_b = generate_base_pheno_values(G, 0.8, 0.2, 2)\n",
    "print(b_values)\n",
    "print(loci)\n",
    "print(sigma_e)\n",
    "print(sigma_b)\n",
    "#generate_phenotype_base_multiple_loci(generate_base_pheno_values(G, 0.8, 0.4, 3))"
   ]
  },
  {
   "cell_type": "code",
   "execution_count": 7,
   "metadata": {},
   "outputs": [
    {
     "name": "stderr",
     "output_type": "stream",
     "text": [
      "Data with input dtype int32 was converted to float64 by the scale function.\n"
     ]
    },
    {
     "name": "stdout",
     "output_type": "stream",
     "text": [
      "-0.1540697891257323\n",
      "0.5124355493424373\n",
      "[('Z', 0), ('A', 0.135456048799784), ('B', 0.005345719085308027), ('C', 0.2777364391562481), ('D', 0.7719246494831549), ('E', -0.12457477657921995)]\n"
     ]
    }
   ],
   "source": [
    "G = generate_genotype(5, 10)\n",
    "b_1, b_2, SNP1, SNP2, sigma_e, sigma_b = generate_base_pheno_values(G, 0.7, 0.3, 2)\n",
    "\n",
    "b_list = []\n",
    "#No Effect\n",
    "b_12 = 0\n",
    "Z = generate_phenotype_additive(b_1, b_2, SNP1, SNP2, sigma_e, sigma_b, b_12)\n",
    "b_list.append((\"Z\", b_12))\n",
    "\n",
    "#Random Combined Effect\n",
    "b_12 = np.random.normal(0, sigma_b)\n",
    "A = generate_phenotype_additive(b_1, b_2, SNP1, SNP2, sigma_e, sigma_b, b_12)\n",
    "b_list.append((\"A\", b_12))\n",
    "#0 < b_12 < b1\n",
    "b_12 = random.uniform(0, abs(b_1))\n",
    "B = generate_phenotype_additive(b_1, b_2, SNP1, SNP2, sigma_e, sigma_b, b_12)\n",
    "b_list.append((\"B\", b_12))\n",
    "#0 < b_12 < b2\n",
    "b_12 = random.uniform(0, abs(b_2))\n",
    "C = generate_phenotype_additive(b_1, b_2, SNP1, SNP2, sigma_e, sigma_b, b_12)\n",
    "#b_list.append((\"0 < b_12 < b_2\", b_12))\n",
    "b_list.append((\"C\", b_12))\n",
    "\n",
    "#b_1 + b_2 < b_12\n",
    "b_12 = random.uniform(abs(b_1) + abs(b_2), 1)\n",
    "D = generate_phenotype_additive(b_1, b_2, SNP1, SNP2, sigma_e, sigma_b, b_12)\n",
    "b_list.append((\"D\", b_12))\n",
    "\n",
    "#b_12 < 0\n",
    "b_12 = random.uniform(-1 * sigma_b, 0)\n",
    "E = generate_phenotype_additive(b_1, b_2, SNP1, SNP2, sigma_e, sigma_b, b_12)\n",
    "b_list.append((\"E\", b_12))\n",
    "\n",
    "print(b_1)\n",
    "print(b_2)\n",
    "print(b_list)"
   ]
  },
  {
   "cell_type": "code",
   "execution_count": 8,
   "metadata": {},
   "outputs": [
    {
     "data": {
      "image/png": "[encoded data removed]",
      "text/plain": [
       "<Figure size 432x288 with 1 Axes>"
      ]
     },
     "metadata": {
      "needs_background": "light"
     },
     "output_type": "display_data"
    },
    {
     "name": "stdout",
     "output_type": "stream",
     "text": [
      "b_1 = -0.1540697891257323\n",
      "b_2 = 0.5124355493424373\n",
      "[('Z', 0), ('A', 0.135456048799784), ('B', 0.005345719085308027), ('C', 0.2777364391562481), ('D', 0.7719246494831549), ('E', -0.12457477657921995)]\n"
     ]
    }
   ],
   "source": [
    "#Plot Interaction to Bi\n",
    "#x = bi\n",
    "#y = phenotype effect\n",
    "def phenotype_plotting(b1, b2, list_b):\n",
    "    labels = []\n",
    "    labels.append(\"b1\")\n",
    "    labels.append(\"b2\")\n",
    "    b_val = []\n",
    "    b_val.append(b1)\n",
    "    b_val.append(b2)\n",
    "    for b_12 in list_b:\n",
    "        labels.append(b_12[0])\n",
    "        b_val.append((b_1) + (b_2) + (b_12[1]))\n",
    "        \n",
    "    # x-coordinates of left sides of bars  \n",
    "    left = list(range(1, (len(b_val)+ 1)))\n",
    "\n",
    "    # plotting a bar chart \n",
    "    plt.bar(left, b_val, tick_label = labels) \n",
    "  \n",
    "    # naming the x-axis \n",
    "    plt.xlabel('Genetic Effect Permutations') \n",
    "    # naming the y-axis \n",
    "    plt.ylabel('Phenotype Value') \n",
    "    # plot title \n",
    "    plt.title('2 loci genetic interaction') \n",
    "  \n",
    "    # function to show the plot \n",
    "    plt.show() \n",
    "    \n",
    "phenotype_plotting(b_1, b_2, b_list)\n",
    "\n",
    "print(\"b_1 = \" + str(b_1))\n",
    "print(\"b_2 = \" + str(b_2))\n",
    "print(b_list)"
   ]
  },
  {
   "cell_type": "markdown",
   "metadata": {},
   "source": [
    "# Linear Regression"
   ]
  },
  {
   "cell_type": "code",
   "execution_count": 9,
   "metadata": {},
   "outputs": [
    {
     "name": "stdout",
     "output_type": "stream",
     "text": [
      "Phenotypes for loci 99 are [[-5.21322204e-04]\n",
      " [-5.35010690e-01]\n",
      " [ 2.66592553e-02]\n",
      " [-4.38101891e-01]\n",
      " [ 6.66180052e-01]\n",
      " [ 4.79504223e-01]\n",
      " [ 2.10514587e-01]\n",
      " [ 3.18425724e-01]\n",
      " [-5.71517327e-02]\n",
      " [-7.98695944e-01]\n",
      " [ 2.04599881e-01]\n",
      " [ 6.03343673e-01]\n",
      " [-4.83129364e-01]\n",
      " [-1.88312935e-01]\n",
      " [ 2.09227270e-01]\n",
      " [-2.01930521e-01]\n",
      " [-4.34153223e-01]\n",
      " [ 9.55417317e-01]\n",
      " [ 5.57867133e-01]\n",
      " [ 8.14274201e-02]\n",
      " [ 5.22196484e-02]\n",
      " [ 6.45648943e-01]\n",
      " [ 3.41312861e-01]\n",
      " [ 6.53382152e-01]\n",
      " [-2.16267717e-01]\n",
      " [-4.08737933e-01]\n",
      " [-2.86707060e-02]\n",
      " [-3.23404241e-01]\n",
      " [ 8.82674206e-01]\n",
      " [-7.69539706e-01]]\n"
     ]
    },
    {
     "ename": "ValueError",
     "evalue": "all the input array dimensions except for the concatenation axis must match exactly",
     "output_type": "error",
     "traceback": [
      "\u001b[1;31m---------------------------------------------------------------------------\u001b[0m",
      "\u001b[1;31mValueError\u001b[0m                                Traceback (most recent call last)",
      "\u001b[1;32m<ipython-input-9-ab23df5d82b9>\u001b[0m in \u001b[0;36m<module>\u001b[1;34m\u001b[0m\n\u001b[0;32m      3\u001b[0m \u001b[0mprint\u001b[0m\u001b[1;33m(\u001b[0m\u001b[1;34m'Phenotypes for loci '\u001b[0m\u001b[1;33m+\u001b[0m\u001b[0mstr\u001b[0m\u001b[1;33m(\u001b[0m\u001b[0mloci\u001b[0m\u001b[1;33m)\u001b[0m\u001b[1;33m+\u001b[0m\u001b[1;34m' are '\u001b[0m\u001b[1;33m+\u001b[0m\u001b[0mstr\u001b[0m\u001b[1;33m(\u001b[0m\u001b[0mY\u001b[0m\u001b[1;33m[\u001b[0m\u001b[1;36m0\u001b[0m\u001b[1;33m:\u001b[0m\u001b[1;36m30\u001b[0m\u001b[1;33m]\u001b[0m\u001b[1;33m)\u001b[0m\u001b[1;33m)\u001b[0m\u001b[1;33m\u001b[0m\u001b[1;33m\u001b[0m\u001b[0m\n\u001b[0;32m      4\u001b[0m \u001b[1;33m\u001b[0m\u001b[0m\n\u001b[1;32m----> 5\u001b[1;33m \u001b[0mG\u001b[0m \u001b[1;33m=\u001b[0m \u001b[0mnp\u001b[0m\u001b[1;33m.\u001b[0m\u001b[0mappend\u001b[0m\u001b[1;33m(\u001b[0m\u001b[0mG\u001b[0m\u001b[1;33m,\u001b[0m \u001b[0mY\u001b[0m\u001b[1;33m,\u001b[0m \u001b[0maxis\u001b[0m\u001b[1;33m=\u001b[0m\u001b[1;36m1\u001b[0m\u001b[1;33m)\u001b[0m\u001b[1;33m\u001b[0m\u001b[1;33m\u001b[0m\u001b[0m\n\u001b[0m",
      "\u001b[1;32m~\\Anaconda3\\lib\\site-packages\\numpy\\lib\\function_base.py\u001b[0m in \u001b[0;36mappend\u001b[1;34m(arr, values, axis)\u001b[0m\n\u001b[0;32m   4526\u001b[0m         \u001b[0mvalues\u001b[0m \u001b[1;33m=\u001b[0m \u001b[0mravel\u001b[0m\u001b[1;33m(\u001b[0m\u001b[0mvalues\u001b[0m\u001b[1;33m)\u001b[0m\u001b[1;33m\u001b[0m\u001b[1;33m\u001b[0m\u001b[0m\n\u001b[0;32m   4527\u001b[0m         \u001b[0maxis\u001b[0m \u001b[1;33m=\u001b[0m \u001b[0marr\u001b[0m\u001b[1;33m.\u001b[0m\u001b[0mndim\u001b[0m\u001b[1;33m-\u001b[0m\u001b[1;36m1\u001b[0m\u001b[1;33m\u001b[0m\u001b[1;33m\u001b[0m\u001b[0m\n\u001b[1;32m-> 4528\u001b[1;33m     \u001b[1;32mreturn\u001b[0m \u001b[0mconcatenate\u001b[0m\u001b[1;33m(\u001b[0m\u001b[1;33m(\u001b[0m\u001b[0marr\u001b[0m\u001b[1;33m,\u001b[0m \u001b[0mvalues\u001b[0m\u001b[1;33m)\u001b[0m\u001b[1;33m,\u001b[0m \u001b[0maxis\u001b[0m\u001b[1;33m=\u001b[0m\u001b[0maxis\u001b[0m\u001b[1;33m)\u001b[0m\u001b[1;33m\u001b[0m\u001b[1;33m\u001b[0m\u001b[0m\n\u001b[0m",
      "\u001b[1;31mValueError\u001b[0m: all the input array dimensions except for the concatenation axis must match exactly"
     ]
    }
   ],
   "source": [
    "Y,H = Simulate_Phenotype_PerPerson(SNP,.3,.7)\n",
    "# function assumes that for each person j in M we make a phenotype Y_j\n",
    "print('Phenotypes for loci '+str(loci)+' are '+str(Y[0:30]))\n",
    "\n",
    "G = np.append(G, Y, axis=1)"
   ]
  },
  {
   "cell_type": "code",
   "execution_count": 10,
   "metadata": {},
   "outputs": [
    {
     "data": {
      "image/png": "[encoded data removed]",
      "text/plain": [
       "<Figure size 432x288 with 1 Axes>"
      ]
     },
     "metadata": {
      "needs_background": "light"
     },
     "output_type": "display_data"
    }
   ],
   "source": [
    "#use this to see distribution of f_i frequency\n",
    "bin_size = 20\n",
    "count, bins, ignored = plt.hist(f_M, 20, facecolor='blue') \n",
    "\n",
    "plt.xlabel('X [0,1]')\n",
    "plt.ylabel('Count')\n",
    "plt.title(\"Uniform Distribution For Loci Frequency Bin size: \"+str(bin_size))\n",
    "plt.axis([0, 1, 0, 100]) # x_start, x_end, y_start, y_end\n",
    "plt.grid(True)\n",
    "\n",
    "plt.show(block = False)"
   ]
  },
  {
   "cell_type": "code",
   "execution_count": 11,
   "metadata": {},
   "outputs": [],
   "source": [
    "#split data into test and train\n",
    "X = G[:,0:len(G[0])-2]\n",
    "\n",
    "#last column is the appended Y vector we predicted\n",
    "y = G[:,len(G[0])-1]\n",
    "\n",
    "#split the data\n",
    "x_train, x_test, y_train, y_test = train_test_split(X, y, test_size=0.3, random_state=7)\n",
    "\n",
    "linReg = LinearRegression()  \n",
    "\n",
    "#training the algorithm\n",
    "linReg.fit(x_train, y_train) \n",
    "\n",
    "# train the model\n",
    "#svr_rbf.fit(x_train, y_train)\n",
    "\n",
    "#test the model on test data\n",
    "y_predict = linReg.predict(x_test)"
   ]
  },
  {
   "cell_type": "code",
   "execution_count": 12,
   "metadata": {},
   "outputs": [
    {
     "name": "stdout",
     "output_type": "stream",
     "text": [
      "Mean absolute error = 0.64\n",
      "Mean squared error = 0.41\n",
      "Root Mean squared error = 0.6403124237432849\n",
      "Median absolute error = 0.64\n",
      "Explain variance score = 0.0\n",
      "R2 score = 0.0\n"
     ]
    }
   ],
   "source": [
    "#Evaluate the regression model\n",
    "print(\"Mean absolute error =\", round(metrics.mean_absolute_error(y_test, y_predict), 2)) \n",
    "print(\"Mean squared error =\", round(metrics.mean_squared_error(y_test, y_predict), 2)) \n",
    "print(\"Root Mean squared error =\", sqrt(round(metrics.mean_squared_error(y_test, y_predict), 2)))\n",
    "print(\"Median absolute error =\", round(metrics.median_absolute_error(y_test, y_predict), 2)) \n",
    "print(\"Explain variance score =\", round(metrics.explained_variance_score(y_test, y_predict), 2)) \n",
    "print(\"R2 score =\", round(metrics.r2_score(y_test, y_predict), 2))"
   ]
  },
  {
   "cell_type": "code",
   "execution_count": 13,
   "metadata": {},
   "outputs": [
    {
     "data": {
      "text/plain": [
       "RandomForestRegressor(bootstrap=True, criterion='mse', max_depth=10,\n",
       "           max_features='auto', max_leaf_nodes=None,\n",
       "           min_impurity_decrease=0.0, min_impurity_split=None,\n",
       "           min_samples_leaf=1, min_samples_split=2,\n",
       "           min_weight_fraction_leaf=0.0, n_estimators=50, n_jobs=None,\n",
       "           oob_score=False, random_state=0, verbose=0, warm_start=False)"
      ]
     },
     "execution_count": 13,
     "metadata": {},
     "output_type": "execute_result"
    }
   ],
   "source": [
    "#initialize tree with a node depth of 10 and 50 decision trees\n",
    "forReg = RandomForestRegressor(max_depth=10, random_state=0, n_estimators=50)\n",
    "forReg.fit(x_train, y_train)"
   ]
  },
  {
   "cell_type": "code",
   "execution_count": 14,
   "metadata": {
    "scrolled": true
   },
   "outputs": [
    {
     "name": "stderr",
     "output_type": "stream",
     "text": [
      "Setting feature_perturbation = \"tree_path_dependent\" because no background data was given.\n"
     ]
    },
    {
     "data": {
      "image/png": "[encoded data removed]",
      "text/plain": [
       "<Figure size 576x338.4 with 1 Axes>"
      ]
     },
     "metadata": {
      "needs_background": "light"
     },
     "output_type": "display_data"
    }
   ],
   "source": [
    "shap_values = shap.TreeExplainer(forReg).shap_values(x_train)\n",
    "shap.summary_plot(shap_values, x_train, plot_type=\"bar\")"
   ]
  },
  {
   "cell_type": "code",
   "execution_count": 15,
   "metadata": {},
   "outputs": [
    {
     "data": {
      "image/png": "[encoded data removed]",
      "text/plain": [
       "<Figure size 576x338.4 with 2 Axes>"
      ]
     },
     "metadata": {
      "needs_background": "light"
     },
     "output_type": "display_data"
    }
   ],
   "source": [
    "shap.summary_plot(shap_values,x_train)"
   ]
  },
  {
   "cell_type": "code",
   "execution_count": 19,
   "metadata": {},
   "outputs": [
    {
     "name": "stderr",
     "output_type": "stream",
     "text": [
      "Data with input dtype int32 was converted to float64 by the scale function.\n"
     ]
    },
    {
     "data": {
      "application/vnd.jupyter.widget-view+json": {
       "model_id": "a833bda6aa6d4daa85ff11f8ec1e1afc",
       "version_major": 2,
       "version_minor": 0
      },
      "text/plain": [
       "HBox(children=(IntProgress(value=0, max=7), HTML(value='')))"
      ]
     },
     "metadata": {},
     "output_type": "display_data"
    },
    {
     "name": "stderr",
     "output_type": "stream",
     "text": [
      "l1_reg=\"auto\" is deprecated and in the next version (v0.29) the behavior will change from a conditional use of AIC to simply \"num_features(10)\"!\n",
      "l1_reg=\"auto\" is deprecated and in the next version (v0.29) the behavior will change from a conditional use of AIC to simply \"num_features(10)\"!\n",
      "l1_reg=\"auto\" is deprecated and in the next version (v0.29) the behavior will change from a conditional use of AIC to simply \"num_features(10)\"!\n",
      "l1_reg=\"auto\" is deprecated and in the next version (v0.29) the behavior will change from a conditional use of AIC to simply \"num_features(10)\"!\n",
      "l1_reg=\"auto\" is deprecated and in the next version (v0.29) the behavior will change from a conditional use of AIC to simply \"num_features(10)\"!\n",
      "l1_reg=\"auto\" is deprecated and in the next version (v0.29) the behavior will change from a conditional use of AIC to simply \"num_features(10)\"!\n",
      "l1_reg=\"auto\" is deprecated and in the next version (v0.29) the behavior will change from a conditional use of AIC to simply \"num_features(10)\"!\n"
     ]
    },
    {
     "name": "stdout",
     "output_type": "stream",
     "text": [
      "\n"
     ]
    },
    {
     "data": {
      "application/vnd.jupyter.widget-view+json": {
       "model_id": "adf1d4700e6043a7b4443ee37a835b61",
       "version_major": 2,
       "version_minor": 0
      },
      "text/plain": [
       "HBox(children=(IntProgress(value=0, max=7), HTML(value='')))"
      ]
     },
     "metadata": {},
     "output_type": "display_data"
    },
    {
     "name": "stderr",
     "output_type": "stream",
     "text": [
      "l1_reg=\"auto\" is deprecated and in the next version (v0.29) the behavior will change from a conditional use of AIC to simply \"num_features(10)\"!\n",
      "l1_reg=\"auto\" is deprecated and in the next version (v0.29) the behavior will change from a conditional use of AIC to simply \"num_features(10)\"!\n",
      "l1_reg=\"auto\" is deprecated and in the next version (v0.29) the behavior will change from a conditional use of AIC to simply \"num_features(10)\"!\n",
      "l1_reg=\"auto\" is deprecated and in the next version (v0.29) the behavior will change from a conditional use of AIC to simply \"num_features(10)\"!\n",
      "l1_reg=\"auto\" is deprecated and in the next version (v0.29) the behavior will change from a conditional use of AIC to simply \"num_features(10)\"!\n",
      "l1_reg=\"auto\" is deprecated and in the next version (v0.29) the behavior will change from a conditional use of AIC to simply \"num_features(10)\"!\n",
      "l1_reg=\"auto\" is deprecated and in the next version (v0.29) the behavior will change from a conditional use of AIC to simply \"num_features(10)\"!\n"
     ]
    },
    {
     "name": "stdout",
     "output_type": "stream",
     "text": [
      "\n",
      "((array([[ 0.        , -0.06266808, -0.43577737,  0.04144362, -0.13788978,\n",
      "         0.02137643, -0.04445681,  0.03838702, -0.02789031,  0.0829203 ,\n",
      "        -0.31986366,  0.        ,  0.17313654, -0.20833087,  0.25135945,\n",
      "         0.        , -0.0146887 , -0.17965887, -0.02801661],\n",
      "       [ 0.        , -0.06275511,  0.07229596,  0.04137764, -0.13770798,\n",
      "         0.02142057, -0.04425799,  0.0384392 , -0.02792462,  0.08293109,\n",
      "         0.12774746,  0.        ,  0.17297236,  0.08285224,  0.2512181 ,\n",
      "         0.        , -0.01466086,  0.13433084, -0.02774546],\n",
      "       [ 0.        ,  0.08306817,  0.07234455, -0.10427609,  0.18339142,\n",
      "        -0.02877015,  0.11013112, -0.03873021,  0.16560555, -0.06245551,\n",
      "         0.1276533 ,  0.        ,  0.17289518, -0.06267189,  0.25133826,\n",
      "         0.        , -0.0145638 ,  0.13426899,  0.16557785],\n",
      "       [ 0.        , -0.06143848,  0.07333652,  0.04226131,  0.0234669 ,\n",
      "        -0.0281252 , -0.04351903,  0.        , -0.02730858, -0.20747301,\n",
      "        -0.31940728,  0.        , -0.12904365,  0.08360941, -0.18794486,\n",
      "         0.        , -0.01411402, -0.17859751, -0.02756384],\n",
      "       [ 0.        , -0.06253743,  0.07259008, -0.10401237, -0.13764312,\n",
      "         0.02147238, -0.04413236,  0.        , -0.02762564,  0.08314808,\n",
      "         0.12792581, -0.00336039, -0.12991635,  0.08324787, -0.18868539,\n",
      "         0.        , -0.0144297 ,  0.13453399, -0.02762564],\n",
      "       [ 0.        ,  0.22905771,  0.072337  ,  0.18712259,  0.02271123,\n",
      "        -0.0286315 ,  0.11001547,  0.        , -0.02805056, -0.06268922,\n",
      "        -0.32004508,  0.        , -0.43323835,  0.08316498, -0.18903997,\n",
      "         0.        ,  0.08644523,  0.13426601, -0.02783475],\n",
      "       [ 0.        , -0.06253743,  0.07259008, -0.10401237,  0.18352416,\n",
      "         0.02147238, -0.04413236, -0.03856223, -0.02762564,  0.08314808,\n",
      "         0.57566614,  0.00840098,  0.1732218 , -0.0624359 , -0.18868539,\n",
      "         0.        , -0.0144297 , -0.17937866, -0.02762564]]), 0.5477225575051661, LinearRegression(copy_X=True, fit_intercept=True, n_jobs=None,\n",
      "         normalize=False)), 17)\n"
     ]
    }
   ],
   "source": [
    "def trait_simulation(samples_n, loci_m,var_g,var_e):\n",
    "    f_M = np.random.uniform(0,1,loci_m)\n",
    "    G = np.random.binomial(n=2,p = f_M, size = (samples_n,loci_m))\n",
    "    G = preprocessing.scale(G, axis=0)\n",
    "    loci =random.randint(0,loci_m-1)\n",
    "    SNP = G[:,loci]\n",
    "    individuals = len(SNP)\n",
    "    mean = 0 \n",
    "    sigma_b = sqrt(var_g)\n",
    "    sigma_e = sqrt(var_e)\n",
    "    b_i = np.random.normal(0, sigma_b)\n",
    "    Y_n = np.zeros((individuals, 1))\n",
    "    for k in range(0, individuals):\n",
    "        #each individual will have a random e_j(noise) value\n",
    "        e_j = np.random.normal(0, sigma_e)\n",
    "        #G_ij will be the jth individual from our SNP for the loci of choce\n",
    "        G_ij  = SNP[k]\n",
    "        Y_j = b_i*G_ij + e_j\n",
    "        Y_n[k] = Y_j \n",
    "    H= var_g/(var_g+var_e)\n",
    "    G = np.append(G, Y_n, axis=1)\n",
    "    X = G[:,0:len(G[0])-2]\n",
    "    y = G[:,len(G[0])-1]\n",
    "    x_train, x_test, y_train, y_test = train_test_split(X, y, test_size=0.3)\n",
    "    linReg = LinearRegression()  \n",
    "    linReg.fit(x_train, y_train) \n",
    "    explainer = shap.KernelExplainer(linReg.predict, x_train)\n",
    "    shap_values = explainer.shap_values(x_train)\n",
    "    #print(x_train.shape)\n",
    "    shap_values = shap_linear_regression(G)\n",
    "    #print(shap_feature_plot(shap_values))\n",
    "    return shap_values,loci\n",
    "print(trait_simulation(10, 20, 0.7, 0.3))"
   ]
  },
  {
   "cell_type": "code",
   "execution_count": 17,
   "metadata": {},
   "outputs": [],
   "source": [
    "#Breaking into smaller functions\n",
    "def simulate_genotype(samples_n, loci_m):\n",
    "    f_M = np.random.uniform(0,1,loci_m)\n",
    "    G = np.random.binomial(n=2,p = f_M, size = (samples_n,loci_m))\n",
    "    G = preprocessing.scale(G, axis=0)\n",
    "    return G\n",
    "\n",
    "def simulate_genotype_and_phenotype(samples_n, loci_m,var_g,var_e):\n",
    "    G = simulate_genotype(samples_n, loci_m)\n",
    "    loci =random.randint(0,loci_m-1)\n",
    "    SNP = G[:,loci]\n",
    "    individuals = len(SNP)\n",
    "    mean = 0 \n",
    "    sigma_b = sqrt(var_g)\n",
    "    sigma_e = sqrt(var_e)\n",
    "    b_i = np.random.normal(0, sigma_b)\n",
    "    Y_n = np.zeros((individuals, 1))\n",
    "    for k in range(0, individuals):\n",
    "        #each individual will have a random e_j(noise) value\n",
    "        e_j = np.random.normal(0, sigma_e)\n",
    "        #G_ij will be the jth individual from our SNP for the loci of choce\n",
    "        G_ij  = SNP[k]\n",
    "        Y_j = b_i*G_ij + e_j\n",
    "        Y_n[k] = Y_j \n",
    "    H= var_g/(var_g+var_e)\n",
    "    G = np.append(G, Y_n, axis=1)\n",
    "    return G, loci"
   ]
  },
  {
   "cell_type": "markdown",
   "metadata": {},
   "source": [
    "# ML Funcions & SHAP"
   ]
  },
  {
   "cell_type": "code",
   "execution_count": 18,
   "metadata": {},
   "outputs": [],
   "source": [
    "#Linear ML functions & SHAP\n",
    "def shap_linear_regression(G):\n",
    "    #H= var_g/(var_g+var_e)\n",
    "    X = G[:,0:len(G[0])-2]\n",
    "    y = G[:,len(G[0])-1]\n",
    "    x_train, x_test, y_train, y_test = train_test_split(X, y, test_size=0.3)\n",
    "    linReg = LinearRegression()  \n",
    "    linReg.fit(x_train, y_train) \n",
    "    y_predict = linReg.predict(x_test)\n",
    "    '''\n",
    "    print(\"Mean absolute error =\", round(metrics.mean_absolute_error(y_test, y_predict), 2)) \n",
    "    print(\"Mean squared error =\", round(metrics.mean_squared_error(y_test, y_predict), 2)) \n",
    "    print(\"Root Mean squared error =\", sqrt(round(metrics.mean_squared_error(y_test, y_predict), 2)))\n",
    "    print(\"Median absolute error =\", round(metrics.median_absolute_error(y_test, y_predict), 2)) \n",
    "    print(\"Explain variance score =\", round(metrics.explained_variance_score(y_test, y_predict), 2)) \n",
    "    print(\"R2 score =\", round(metrics.r2_score(y_test, y_predict), 2))\n",
    "    '''\n",
    "    root_mean_sqr = sqrt(round(metrics.mean_squared_error(y_test, y_predict), 2))\n",
    "    explainer = shap.KernelExplainer(linReg.predict, x_train)\n",
    "    shap_values = explainer.shap_values(x_train)\n",
    "    return shap_values, root_mean_sqr, linReg\n",
    "\n",
    "def shap_feature_plot_LR(shap_values, linReg):\n",
    "    shap_values = shap.TreeExplainer(linReg).shap_values(x_train)\n",
    "    shap.summary_plot(shap_values, x_train, plot_type=\"bar\")\n",
    "    \n",
    "def shap_random_forest(G):\n",
    "    X = G[:,0:len(G[0])-2]\n",
    "    y = G[:,len(G[0])-1]\n",
    "    x_train, x_test, y_train, y_test = train_test_split(X, y, test_size=0.3)\n",
    "    forReg = RandomForestRegressor(max_depth=10, random_state=0, n_estimators=50)\n",
    "    forReg.fit(x_train, y_train)\n",
    "    \n",
    "    shap_values = shap.TreeExplainer(forReg).shap_values(x_train)\n",
    "    return shap_values, x_train\n",
    "\n",
    "def shap_feature_plot_RF(shap_values, x_train):\n",
    "    shap.summary_plot(shap_values, x_train, plot_type=\"bar\")\n",
    "    \n",
    "    "
   ]
  },
  {
   "cell_type": "code",
   "execution_count": 20,
   "metadata": {},
   "outputs": [
    {
     "name": "stderr",
     "output_type": "stream",
     "text": [
      "Data with input dtype int32 was converted to float64 by the scale function.\n"
     ]
    },
    {
     "name": "stdout",
     "output_type": "stream",
     "text": [
      "5\n"
     ]
    },
    {
     "name": "stderr",
     "output_type": "stream",
     "text": [
      "Setting feature_perturbation = \"tree_path_dependent\" because no background data was given.\n"
     ]
    },
    {
     "data": {
      "image/png": "[encoded data removed]",
      "text/plain": [
       "<Figure size 576x684 with 1 Axes>"
      ]
     },
     "metadata": {
      "needs_background": "light"
     },
     "output_type": "display_data"
    },
    {
     "name": "stdout",
     "output_type": "stream",
     "text": [
      "(5, 0.8246421159735337)\n"
     ]
    }
   ],
   "source": [
    "G, loci = simulate_genotype_and_phenotype(50,30, .4, .5)\n",
    "print(loci)\n",
    "shap_values2, x_train = shap_random_forest(G)\n",
    "shap_feature_plot_RF(shap_values2, x_train)\n",
    "print(max_mean_feature(shap_values2))"
   ]
  },
  {
   "cell_type": "code",
   "execution_count": 21,
   "metadata": {},
   "outputs": [
    {
     "data": {
      "application/vnd.jupyter.widget-view+json": {
       "model_id": "7c205b743a814b55b418075b1790aa15",
       "version_major": 2,
       "version_minor": 0
      },
      "text/plain": [
       "HBox(children=(IntProgress(value=0, max=7), HTML(value='')))"
      ]
     },
     "metadata": {},
     "output_type": "display_data"
    },
    {
     "name": "stdout",
     "output_type": "stream",
     "text": [
      "\n"
     ]
    },
    {
     "data": {
      "application/vnd.jupyter.widget-view+json": {
       "model_id": "7c5b5181e2194d13a68df16fbf282307",
       "version_major": 2,
       "version_minor": 0
      },
      "text/plain": [
       "HBox(children=(IntProgress(value=0, max=7), HTML(value='')))"
      ]
     },
     "metadata": {},
     "output_type": "display_data"
    },
    {
     "name": "stdout",
     "output_type": "stream",
     "text": [
      "\n",
      "(array([[-0.85852406,  0.03447307, -0.31592391, -0.37429596],\n",
      "       [-0.85852406,  0.03447307, -0.31592391,  2.24577576],\n",
      "       [-0.85852406, -0.08618267,  0.78980978, -0.37429596],\n",
      "       [ 2.14631016, -0.08618267, -0.31592391, -0.37429596],\n",
      "       [ 2.14631016,  0.03447307, -0.31592391, -0.37429596],\n",
      "       [-0.85852406,  0.03447307,  0.78980978, -0.37429596],\n",
      "       [-0.85852406,  0.03447307, -0.31592391, -0.37429596]]), 1.7888543819998317, LinearRegression(copy_X=True, fit_intercept=True, n_jobs=None,\n",
      "         normalize=False))\n"
     ]
    }
   ],
   "source": [
    "import warnings\n",
    "warnings.filterwarnings('ignore')\n",
    "shap_values, SNP = trait_simulation(10,5,.4,.5)\n",
    "print(shap_values)"
   ]
  },
  {
   "cell_type": "markdown",
   "metadata": {},
   "source": [
    "# Finding & Plotting SHAP values"
   ]
  },
  {
   "cell_type": "code",
   "execution_count": 24,
   "metadata": {},
   "outputs": [],
   "source": [
    "#SHAP vs noise\n",
    "#def linear_regression_vs_noise(samples_n, loci_m,var_g,var_e, number_of_trials):\n",
    "def mean_shap_values(shap_values):\n",
    "    if len(shap_values) == 2:\n",
    "        mean_shap = [0] * len(shap_values[0][0])\n",
    "        for shap_value in shap_values[0]:\n",
    "            #print(shap_value)\n",
    "            for x in range(0, len(shap_value)):\n",
    "                mean_shap[x] = mean_shap[x] + abs(shap_value[x])\n",
    "        for x in range(0, len(shap_values[0])):\n",
    "            mean_shap[x] = abs(mean_shap[x] / len(shap_values[0]))\n",
    "    else:    \n",
    "        mean_shap = [0] * len(shap_values[0])\n",
    "        for shap_value in shap_values:\n",
    "            for x in range(0, len(shap_value)):\n",
    "                mean_shap[x] = mean_shap[x] + abs(shap_value[x])\n",
    "        for x in range(0, len(shap_values[0])):\n",
    "            mean_shap[x] = abs(mean_shap[x] / len(shap_values[0]))\n",
    "    return mean_shap                   \n",
    "\n",
    "def max_mean_feature(shap_values):\n",
    "    mean_shap = mean_shap_values(shap_values)\n",
    "    return mean_shap.index(max(mean_shap)), mean_shap[mean_shap.index(max(mean_shap))]\n",
    "\n",
    "def avg_shap_values(samples_n, loci_m,var_g,var_e, number_of_trials):\n",
    "    trail_shap_values = []\n",
    "    for trail in range(0, number_of_trials):\n",
    "        shap_values,SNP = trait_simulation(samples_n, loci_m,var_g,var_e)\n",
    "        max_mean_shap = max_mean_feature(shap_values)\n",
    "        trail_shap_values.append(max_mean_shap[1])\n",
    "    return sum(trail_shap_values)/len(trail_shap_values)\n",
    "\n",
    "def plot_shap_values_basic(samples_n, loci_m, range_var, trials, raw_value = True, envi_noise = True):\n",
    "    \n",
    "    increment = 1/range_var\n",
    "    holderg = 0\n",
    "    holdere = 1\n",
    "    var_g = [0]\n",
    "    var_e = [1]\n",
    "    \n",
    "    if envi_noise:\n",
    "        for x in range(1, range_var):\n",
    "            var_g.append(holderg + increment)\n",
    "            var_e.append(holdere - increment)\n",
    "            holderg = holderg + increment\n",
    "            holdere = holdere - increment\n",
    "    else:\n",
    "        for x in range(1, range_var):\n",
    "            var_g.append(holderg + increment)\n",
    "            holderg = holderg + increment\n",
    "        var_e += ([0] * len(var_g))\n",
    "\n",
    "    shap_values_SNP = []\n",
    "    \n",
    "    if raw_value:\n",
    "        for x in range(0,range_var):\n",
    "            shap_values_SNP.append(shap_per_var_g(samples_n, loci_m, var_g[x], var_e[x], trials))\n",
    "    else:\n",
    "        for x in range(0,range_var):\n",
    "            shap_values_SNP.append(shap_per_var_g_correctness(samples_n, loci_m, var_g[x], var_e[x], trials))\n",
    "\n",
    "            \n",
    "    plt.plot(var_g, shap_values_SNP) \n",
    "    plt.xlabel('Variance of Genetic Effect')\n",
    "    if raw_value:\n",
    "        plt.ylabel('SHAP value of causal SNP')\n",
    "        plt.title('Effect of noise on SHAP values of correct loci') \n",
    "    else:\n",
    "        plt.ylabel('Percent accuracy of feature selection')\n",
    "        plt.title('Effect of noise on SHAP Accuracy in Feature Selection') \n",
    "    plt.show()\n",
    "    \n",
    "\n",
    "    \n",
    "def shap_per_var_g(samples_n, loci_m, var_g, var_e, number_trials):\n",
    "    shap_values_SNP = []\n",
    "    counter = 0\n",
    "    while counter != number_trials:\n",
    "        G, loci = simulate_genotype_and_phenotype(samples_n,loci_m, var_g , var_e )\n",
    "        shap_values_holder, x_train = shap_random_forest(G)\n",
    "        mean_shap = mean_shap_values(shap_values_holder)\n",
    "        shap_values_SNP.append(mean_shap[loci])\n",
    "        '''\n",
    "        max_holder = max_mean_feature(shap_values_holder)\n",
    "        \n",
    "        if max_holder[0] == loci:\n",
    "            shap_values_SNP.append(max_holder[1])\n",
    "        else:\n",
    "            shap_values_SNP.append(0)\n",
    "        '''\n",
    "        counter += 1\n",
    "    return sum(shap_values_SNP) / len(shap_values_SNP)\n",
    "    \n",
    "\n",
    "def shap_per_var_g_correctness(samples_n, loci_m, var_g, var_e, number_trials):\n",
    "    shap_values_SNP = []\n",
    "    counter = 0\n",
    "    while counter != number_trials:\n",
    "        G, loci = simulate_genotype_and_phenotype(samples_n,loci_m, var_g , var_e )\n",
    "        shap_values_holder, x_train = shap_random_forest(G)\n",
    "        max_holder = max_mean_feature(shap_values_holder)\n",
    "        if max_holder[0] == loci:\n",
    "            shap_values_SNP.append(1)\n",
    "        else:\n",
    "            shap_values_SNP.append(0)\n",
    "        counter += 1\n",
    "    return sum(shap_values_SNP) / len(shap_values_SNP) * 100\n",
    "        \n",
    "#For determining avg SHAP value for correct loci\n",
    "#max_mean feature is probabily ordered for loci\n",
    "#Use ordering and knowledge of correct loci to calculate mean\n",
    "#Add note to figure that correct loci is not necessarily max loci\n",
    "#Use percentage accuracy graph for proof of concept"
   ]
  },
  {
   "cell_type": "code",
   "execution_count": 25,
   "metadata": {},
   "outputs": [
    {
     "ename": "IndexError",
     "evalue": "list index out of range",
     "output_type": "error",
     "traceback": [
      "\u001b[1;31m---------------------------------------------------------------------------\u001b[0m",
      "\u001b[1;31mIndexError\u001b[0m                                Traceback (most recent call last)",
      "\u001b[1;32m<ipython-input-25-51556b1c014e>\u001b[0m in \u001b[0;36m<module>\u001b[1;34m\u001b[0m\n\u001b[1;32m----> 1\u001b[1;33m \u001b[0mplot_shap_values_basic\u001b[0m\u001b[1;33m(\u001b[0m\u001b[1;36m50\u001b[0m\u001b[1;33m,\u001b[0m \u001b[1;36m5\u001b[0m\u001b[1;33m,\u001b[0m \u001b[1;36m10\u001b[0m\u001b[1;33m,\u001b[0m \u001b[1;36m70\u001b[0m\u001b[1;33m,\u001b[0m  \u001b[1;32mTrue\u001b[0m\u001b[1;33m,\u001b[0m \u001b[1;32mFalse\u001b[0m\u001b[1;33m)\u001b[0m\u001b[1;33m\u001b[0m\u001b[1;33m\u001b[0m\u001b[0m\n\u001b[0m",
      "\u001b[1;32m<ipython-input-23-fb986d987386>\u001b[0m in \u001b[0;36mplot_shap_values_basic\u001b[1;34m(samples_n, loci_m, range_var, trials, raw_value, envi_noise)\u001b[0m\n\u001b[0;32m     55\u001b[0m     \u001b[1;32mif\u001b[0m \u001b[0mraw_value\u001b[0m\u001b[1;33m:\u001b[0m\u001b[1;33m\u001b[0m\u001b[1;33m\u001b[0m\u001b[0m\n\u001b[0;32m     56\u001b[0m         \u001b[1;32mfor\u001b[0m \u001b[0mx\u001b[0m \u001b[1;32min\u001b[0m \u001b[0mrange\u001b[0m\u001b[1;33m(\u001b[0m\u001b[1;36m0\u001b[0m\u001b[1;33m,\u001b[0m\u001b[0mrange_var\u001b[0m\u001b[1;33m)\u001b[0m\u001b[1;33m:\u001b[0m\u001b[1;33m\u001b[0m\u001b[1;33m\u001b[0m\u001b[0m\n\u001b[1;32m---> 57\u001b[1;33m             \u001b[0mshap_values_SNP\u001b[0m\u001b[1;33m.\u001b[0m\u001b[0mappend\u001b[0m\u001b[1;33m(\u001b[0m\u001b[0mshap_per_var_g\u001b[0m\u001b[1;33m(\u001b[0m\u001b[0msamples_n\u001b[0m\u001b[1;33m,\u001b[0m \u001b[0mloci_m\u001b[0m\u001b[1;33m,\u001b[0m \u001b[0mvar_g\u001b[0m\u001b[1;33m[\u001b[0m\u001b[0mx\u001b[0m\u001b[1;33m]\u001b[0m\u001b[1;33m,\u001b[0m \u001b[0mvar_e\u001b[0m\u001b[1;33m[\u001b[0m\u001b[0mx\u001b[0m\u001b[1;33m]\u001b[0m\u001b[1;33m,\u001b[0m \u001b[0mtrials\u001b[0m\u001b[1;33m)\u001b[0m\u001b[1;33m)\u001b[0m\u001b[1;33m\u001b[0m\u001b[1;33m\u001b[0m\u001b[0m\n\u001b[0m\u001b[0;32m     58\u001b[0m     \u001b[1;32melse\u001b[0m\u001b[1;33m:\u001b[0m\u001b[1;33m\u001b[0m\u001b[1;33m\u001b[0m\u001b[0m\n\u001b[0;32m     59\u001b[0m         \u001b[1;32mfor\u001b[0m \u001b[0mx\u001b[0m \u001b[1;32min\u001b[0m \u001b[0mrange\u001b[0m\u001b[1;33m(\u001b[0m\u001b[1;36m0\u001b[0m\u001b[1;33m,\u001b[0m\u001b[0mrange_var\u001b[0m\u001b[1;33m)\u001b[0m\u001b[1;33m:\u001b[0m\u001b[1;33m\u001b[0m\u001b[1;33m\u001b[0m\u001b[0m\n",
      "\u001b[1;32m<ipython-input-23-fb986d987386>\u001b[0m in \u001b[0;36mshap_per_var_g\u001b[1;34m(samples_n, loci_m, var_g, var_e, number_trials)\u001b[0m\n\u001b[0;32m    115\u001b[0m         \u001b[0mshap_values_holder\u001b[0m\u001b[1;33m,\u001b[0m \u001b[0mx_train\u001b[0m \u001b[1;33m=\u001b[0m \u001b[0mshap_random_forest\u001b[0m\u001b[1;33m(\u001b[0m\u001b[0mG\u001b[0m\u001b[1;33m)\u001b[0m\u001b[1;33m\u001b[0m\u001b[1;33m\u001b[0m\u001b[0m\n\u001b[0;32m    116\u001b[0m         \u001b[0mmean_shap\u001b[0m \u001b[1;33m=\u001b[0m \u001b[0mmean_shap_values\u001b[0m\u001b[1;33m(\u001b[0m\u001b[0mshap_values_holder\u001b[0m\u001b[1;33m)\u001b[0m\u001b[1;33m\u001b[0m\u001b[1;33m\u001b[0m\u001b[0m\n\u001b[1;32m--> 117\u001b[1;33m         \u001b[0mshap_values_SNP\u001b[0m\u001b[1;33m.\u001b[0m\u001b[0mappend\u001b[0m\u001b[1;33m(\u001b[0m\u001b[0mmean_shap\u001b[0m\u001b[1;33m[\u001b[0m\u001b[0mloci\u001b[0m\u001b[1;33m]\u001b[0m\u001b[1;33m)\u001b[0m\u001b[1;33m\u001b[0m\u001b[1;33m\u001b[0m\u001b[0m\n\u001b[0m\u001b[0;32m    118\u001b[0m         '''\n\u001b[0;32m    119\u001b[0m         \u001b[0mmax_holder\u001b[0m \u001b[1;33m=\u001b[0m \u001b[0mmax_mean_feature\u001b[0m\u001b[1;33m(\u001b[0m\u001b[0mshap_values_holder\u001b[0m\u001b[1;33m)\u001b[0m\u001b[1;33m\u001b[0m\u001b[1;33m\u001b[0m\u001b[0m\n",
      "\u001b[1;31mIndexError\u001b[0m: list index out of range"
     ]
    }
   ],
   "source": [
    "plot_shap_values_basic(50, 5, 10, 70,  True, False)"
   ]
  },
  {
   "cell_type": "code",
   "execution_count": 23,
   "metadata": {},
   "outputs": [
    {
     "name": "stdout",
     "output_type": "stream",
     "text": [
      "Heritability Constraint\n"
     ]
    },
    {
     "data": {
      "image/png": "[encoded data removed]",
      "text/plain": [
       "<Figure size 432x288 with 1 Axes>"
      ]
     },
     "metadata": {
      "needs_background": "light"
     },
     "output_type": "display_data"
    },
    {
     "name": "stdout",
     "output_type": "stream",
     "text": [
      "Heritability Constraint\n"
     ]
    },
    {
     "ename": "IndexError",
     "evalue": "list index out of range",
     "output_type": "error",
     "traceback": [
      "\u001b[1;31m---------------------------------------------------------------------------\u001b[0m",
      "\u001b[1;31mIndexError\u001b[0m                                Traceback (most recent call last)",
      "\u001b[1;32m<ipython-input-23-1440e9bad72c>\u001b[0m in \u001b[0;36m<module>\u001b[1;34m\u001b[0m\n\u001b[0;32m      2\u001b[0m \u001b[0mplot_shap_values_basic\u001b[0m\u001b[1;33m(\u001b[0m\u001b[1;36m100\u001b[0m\u001b[1;33m,\u001b[0m \u001b[1;36m10\u001b[0m\u001b[1;33m,\u001b[0m \u001b[1;36m10\u001b[0m\u001b[1;33m,\u001b[0m \u001b[1;36m100\u001b[0m\u001b[1;33m,\u001b[0m \u001b[1;32mFalse\u001b[0m\u001b[1;33m)\u001b[0m\u001b[1;33m\u001b[0m\u001b[1;33m\u001b[0m\u001b[0m\n\u001b[0;32m      3\u001b[0m \u001b[0mprint\u001b[0m\u001b[1;33m(\u001b[0m\u001b[1;34m\"Heritability Constraint\"\u001b[0m\u001b[1;33m)\u001b[0m\u001b[1;33m\u001b[0m\u001b[1;33m\u001b[0m\u001b[0m\n\u001b[1;32m----> 4\u001b[1;33m \u001b[0mplot_shap_values_basic\u001b[0m\u001b[1;33m(\u001b[0m\u001b[1;36m100\u001b[0m\u001b[1;33m,\u001b[0m \u001b[1;36m10\u001b[0m\u001b[1;33m,\u001b[0m \u001b[1;36m10\u001b[0m\u001b[1;33m,\u001b[0m \u001b[1;36m100\u001b[0m\u001b[1;33m)\u001b[0m\u001b[1;33m\u001b[0m\u001b[1;33m\u001b[0m\u001b[0m\n\u001b[0m\u001b[0;32m      5\u001b[0m \u001b[0mprint\u001b[0m\u001b[1;33m(\u001b[0m\u001b[1;34m\"envi constraint to 0\"\u001b[0m\u001b[1;33m)\u001b[0m\u001b[1;33m\u001b[0m\u001b[1;33m\u001b[0m\u001b[0m\n\u001b[0;32m      6\u001b[0m \u001b[0mplot_shap_values_basic\u001b[0m\u001b[1;33m(\u001b[0m\u001b[1;36m100\u001b[0m\u001b[1;33m,\u001b[0m \u001b[1;36m10\u001b[0m\u001b[1;33m,\u001b[0m \u001b[1;36m10\u001b[0m\u001b[1;33m,\u001b[0m \u001b[1;36m100\u001b[0m\u001b[1;33m,\u001b[0m \u001b[1;32mFalse\u001b[0m\u001b[1;33m,\u001b[0m \u001b[1;32mFalse\u001b[0m\u001b[1;33m)\u001b[0m\u001b[1;33m\u001b[0m\u001b[1;33m\u001b[0m\u001b[0m\n",
      "\u001b[1;32m<ipython-input-22-9f9f1d9dd870>\u001b[0m in \u001b[0;36mplot_shap_values_basic\u001b[1;34m(samples_n, loci_m, range_var, trials, raw_value, envi_noise)\u001b[0m\n\u001b[0;32m     55\u001b[0m     \u001b[1;32mif\u001b[0m \u001b[0mraw_value\u001b[0m\u001b[1;33m:\u001b[0m\u001b[1;33m\u001b[0m\u001b[1;33m\u001b[0m\u001b[0m\n\u001b[0;32m     56\u001b[0m         \u001b[1;32mfor\u001b[0m \u001b[0mx\u001b[0m \u001b[1;32min\u001b[0m \u001b[0mrange\u001b[0m\u001b[1;33m(\u001b[0m\u001b[1;36m0\u001b[0m\u001b[1;33m,\u001b[0m\u001b[0mrange_var\u001b[0m\u001b[1;33m)\u001b[0m\u001b[1;33m:\u001b[0m\u001b[1;33m\u001b[0m\u001b[1;33m\u001b[0m\u001b[0m\n\u001b[1;32m---> 57\u001b[1;33m             \u001b[0mshap_values_SNP\u001b[0m\u001b[1;33m.\u001b[0m\u001b[0mappend\u001b[0m\u001b[1;33m(\u001b[0m\u001b[0mshap_per_var_g\u001b[0m\u001b[1;33m(\u001b[0m\u001b[0msamples_n\u001b[0m\u001b[1;33m,\u001b[0m \u001b[0mloci_m\u001b[0m\u001b[1;33m,\u001b[0m \u001b[0mvar_g\u001b[0m\u001b[1;33m[\u001b[0m\u001b[0mx\u001b[0m\u001b[1;33m]\u001b[0m\u001b[1;33m,\u001b[0m \u001b[0mvar_e\u001b[0m\u001b[1;33m[\u001b[0m\u001b[0mx\u001b[0m\u001b[1;33m]\u001b[0m\u001b[1;33m,\u001b[0m \u001b[0mtrials\u001b[0m\u001b[1;33m)\u001b[0m\u001b[1;33m)\u001b[0m\u001b[1;33m\u001b[0m\u001b[1;33m\u001b[0m\u001b[0m\n\u001b[0m\u001b[0;32m     58\u001b[0m     \u001b[1;32melse\u001b[0m\u001b[1;33m:\u001b[0m\u001b[1;33m\u001b[0m\u001b[1;33m\u001b[0m\u001b[0m\n\u001b[0;32m     59\u001b[0m         \u001b[1;32mfor\u001b[0m \u001b[0mx\u001b[0m \u001b[1;32min\u001b[0m \u001b[0mrange\u001b[0m\u001b[1;33m(\u001b[0m\u001b[1;36m0\u001b[0m\u001b[1;33m,\u001b[0m\u001b[0mrange_var\u001b[0m\u001b[1;33m)\u001b[0m\u001b[1;33m:\u001b[0m\u001b[1;33m\u001b[0m\u001b[1;33m\u001b[0m\u001b[0m\n",
      "\u001b[1;32m<ipython-input-22-9f9f1d9dd870>\u001b[0m in \u001b[0;36mshap_per_var_g\u001b[1;34m(samples_n, loci_m, var_g, var_e, number_trials)\u001b[0m\n\u001b[0;32m    115\u001b[0m         \u001b[0mshap_values_holder\u001b[0m\u001b[1;33m,\u001b[0m \u001b[0mx_train\u001b[0m \u001b[1;33m=\u001b[0m \u001b[0mshap_random_forest\u001b[0m\u001b[1;33m(\u001b[0m\u001b[0mG\u001b[0m\u001b[1;33m)\u001b[0m\u001b[1;33m\u001b[0m\u001b[1;33m\u001b[0m\u001b[0m\n\u001b[0;32m    116\u001b[0m         \u001b[0mmean_shap\u001b[0m \u001b[1;33m=\u001b[0m \u001b[0mmean_shap_values\u001b[0m\u001b[1;33m(\u001b[0m\u001b[0mshap_values_holder\u001b[0m\u001b[1;33m)\u001b[0m\u001b[1;33m\u001b[0m\u001b[1;33m\u001b[0m\u001b[0m\n\u001b[1;32m--> 117\u001b[1;33m         \u001b[0mshap_values_SNP\u001b[0m\u001b[1;33m.\u001b[0m\u001b[0mappend\u001b[0m\u001b[1;33m(\u001b[0m\u001b[0mmean_shap\u001b[0m\u001b[1;33m[\u001b[0m\u001b[0mloci\u001b[0m\u001b[1;33m]\u001b[0m\u001b[1;33m)\u001b[0m\u001b[1;33m\u001b[0m\u001b[1;33m\u001b[0m\u001b[0m\n\u001b[0m\u001b[0;32m    118\u001b[0m         '''\n\u001b[0;32m    119\u001b[0m         \u001b[0mmax_holder\u001b[0m \u001b[1;33m=\u001b[0m \u001b[0mmax_mean_feature\u001b[0m\u001b[1;33m(\u001b[0m\u001b[0mshap_values_holder\u001b[0m\u001b[1;33m)\u001b[0m\u001b[1;33m\u001b[0m\u001b[1;33m\u001b[0m\u001b[0m\n",
      "\u001b[1;31mIndexError\u001b[0m: list index out of range"
     ]
    }
   ],
   "source": [
    "print(\"Heritability Constraint\")\n",
    "plot_shap_values_basic(100, 10, 10, 100, False)\n",
    "print(\"Heritability Constraint\")\n",
    "plot_shap_values_basic(100, 10, 10, 100)\n",
    "print(\"envi constraint to 0\")\n",
    "plot_shap_values_basic(100, 10, 10, 100, False, False)\n",
    "print(\"envi constraint to 0\")\n",
    "plot_shap_values_basic(100, 10, 10, 100, True, False)"
   ]
  },
  {
   "cell_type": "code",
   "execution_count": 28,
   "metadata": {},
   "outputs": [
    {
     "name": "stdout",
     "output_type": "stream",
     "text": [
      "Heritability Constraint\n"
     ]
    },
    {
     "data": {
      "image/png": "[encoded data removed]",
      "text/plain": [
       "<Figure size 432x288 with 1 Axes>"
      ]
     },
     "metadata": {
      "needs_background": "light"
     },
     "output_type": "display_data"
    },
    {
     "name": "stdout",
     "output_type": "stream",
     "text": [
      "envi constraint to 0\n"
     ]
    },
    {
     "data": {
      "image/png": "[encoded data removed]",
      "text/plain": [
       "<Figure size 432x288 with 1 Axes>"
      ]
     },
     "metadata": {
      "needs_background": "light"
     },
     "output_type": "display_data"
    }
   ],
   "source": [
    "print(\"Heritability Constraint\")\n",
    "plot_shap_values_basic(100, 10, 10, 100, False, True)\n",
    "print(\"envi constraint to 0\")\n",
    "plot_shap_values_basic(100, 10, 10, 100, False, False)"
   ]
  },
  {
   "cell_type": "code",
   "execution_count": 116,
   "metadata": {},
   "outputs": [
    {
     "data": {
      "image/png": "[encoded data removed]",
      "text/plain": [
       "<Figure size 432x288 with 1 Axes>"
      ]
     },
     "metadata": {
      "needs_background": "light"
     },
     "output_type": "display_data"
    }
   ],
   "source": [
    "plot_shap_values_accuracy(50, 10, 10, 50)"
   ]
  }
 ],
 "metadata": {
  "kernelspec": {
   "display_name": "Python 3",
   "language": "python",
   "name": "python3"
  },
  "language_info": {
   "codemirror_mode": {
    "name": "ipython",
    "version": 3
   },
   "file_extension": ".py",
   "mimetype": "text/x-python",
   "name": "python",
   "nbconvert_exporter": "python",
   "pygments_lexer": "ipython3",
   "version": "3.7.1"
  }
 },
 "nbformat": 4,
 "nbformat_minor": 2
}
