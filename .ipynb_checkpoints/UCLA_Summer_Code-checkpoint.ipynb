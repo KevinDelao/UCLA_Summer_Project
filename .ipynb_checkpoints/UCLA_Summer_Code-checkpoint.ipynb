{
 "cells": [
  {
   "cell_type": "code",
   "execution_count": 14,
   "metadata": {},
   "outputs": [],
   "source": [
    "import numpy as np\n",
    "import pandas as pd\n",
    "import random\n",
    "import shap\n",
    "from math import sqrt\n",
    "import matplotlib.pyplot as plt\n",
    "from sklearn import preprocessing\n",
    "from sklearn.model_selection import train_test_split\n",
    "import sklearn.metrics as metrics\n",
    "from sklearn.linear_model import LinearRegression\n",
    "from sklearn.ensemble import RandomForestRegressor"
   ]
  },
  {
   "cell_type": "code",
   "execution_count": 5,
   "metadata": {},
   "outputs": [
    {
     "name": "stderr",
     "output_type": "stream",
     "text": [
      "Data with input dtype int32 was converted to float64 by the scale function.\n"
     ]
    },
    {
     "name": "stdout",
     "output_type": "stream",
     "text": [
      "[ 0.77156388 -0.83251903  0.77156388  0.77156388 -0.83251903 -0.83251903\n",
      " -0.83251903  0.77156388 -0.83251903  0.77156388 -0.83251903 -0.83251903\n",
      " -0.83251903  0.77156388 -0.83251903 -0.83251903 -0.83251903 -0.83251903\n",
      "  0.77156388 -0.83251903  0.77156388  0.77156388 -0.83251903  0.77156388\n",
      "  0.77156388 -0.83251903 -0.83251903 -0.83251903  0.77156388 -0.83251903]\n"
     ]
    }
   ],
   "source": [
    "#individuals\n",
    "n = 2000\n",
    "#loci\n",
    "m = 100\n",
    "\n",
    "\n",
    "#here every matrix entree has to be zero or one, with having a f_i probability to get selected\n",
    "#frequency of alleles, random uniform distribution between 0 and 1, with m samples\n",
    "f_M = np.random.uniform(0,1,m)\n",
    "\n",
    "#initialize G matrix\n",
    "# G = np.zeros((n, m));\n",
    "\n",
    "# #will be used to flip a coin based on f_i\n",
    "# #higher f_i frequency = higher chance of returning true\n",
    "# def loci_frequency_flip(f_i):\n",
    "#     return random.random() < f_i\n",
    "\n",
    "# #use this if I wanted to populate entire G matrix\n",
    "# #k are the colums(loci)\n",
    "# for k in range (0, len(G[0])):\n",
    "#     # j are the rows(individuals)\n",
    "#     for j in range (0, len(G)):\n",
    "#         #frequency of loci k we are currently on\n",
    "#         if(loci_frequency_flip(f_M[k])):\n",
    "#             G[j,k] = 1\n",
    "\n",
    "G = np.random.binomial(n=2,p = f_M, size =  (n,m))\n",
    "\n",
    "# If 0, independently standardize each feature, otherwise (if 1) standardize each sample, so choosing 0 \n",
    "# to do column wise scaling\n",
    "G = preprocessing.scale(G, axis=0)\n",
    "# choose random SNP\n",
    "loci =random.randint(0,m-1)\n",
    "\n",
    "#select SNP\n",
    "SNP = G[:,loci]\n",
    "\n",
    "#preview of the data\n",
    "print(SNP[0:30])"
   ]
  },
  {
   "cell_type": "code",
   "execution_count": 6,
   "metadata": {},
   "outputs": [],
   "source": [
    "\n",
    "# mean and standard deviation\n",
    "H=0\n",
    "#assumes that we are making a Y_j for every individual in the SNP and \n",
    "#in each loop we choose a e_j for that person\n",
    "def Simulate_Phenotype_PerPerson(SNP,var_e,var_g):\n",
    "    #rows are the loci so each person has a row of different loci\n",
    "    individuals = len(SNP)\n",
    "    \n",
    "    #where columns are the individuals\n",
    "    mean = 0 \n",
    "    \n",
    "    #because we are given variance and python random.normal only accepts std, we need to convert variance to std\n",
    "    sigma_e = sqrt(var_e)\n",
    "    sigma_b = sqrt(var_g)\n",
    "    \n",
    "    #b_i = loci effect on phenotype\n",
    "    b_i = np.random.normal(0, sigma_b)\n",
    "    Y_n = np.zeros((individuals, 1));\n",
    "    \n",
    "    for k in range(0, individuals):\n",
    "        #each individual will have a random e_j(noise) value\n",
    "        e_j = np.random.normal(0, sigma_e)\n",
    "        #G_ij will be the jth individual from our SNP for the loci of choce\n",
    "        G_ij  = SNP[k]\n",
    "        Y_j = b_i*G_ij + e_j\n",
    "        Y_n[k] = Y_j \n",
    "    H= var_g/(var_g+var_e)\n",
    "    return Y_n,H\n"
   ]
  },
  {
   "cell_type": "markdown",
   "metadata": {},
   "source": [
    "Phenotype Generation"
   ]
  },
  {
   "cell_type": "code",
   "execution_count": 7,
   "metadata": {},
   "outputs": [],
   "source": [
    "#Generate Genotype\n",
    "def generate_genotype(n, m, processing = True):\n",
    "    f_M = np.random.uniform(0,1,m)\n",
    "    G = np.random.binomial(n=2,p = f_M, size =  (n,m))\n",
    "    if processing: \n",
    "        G = preprocessing.scale(G, axis=0)\n",
    "    return G\n",
    "\n",
    "#Generate base phenotype values\n",
    "def generate_base_pheno_values(G, var_g, var_e, n_causal_SNPs):\n",
    "    #rows are the loci so each person has a row of different loci\n",
    "    individuals = len(G)    \n",
    "    sigma_e = sqrt(var_e)\n",
    "    sigma_b = sqrt(var_g/n_causal_SNPs)\n",
    "    #b_i = loci effect on phenotype\n",
    "    b_1 = np.random.normal(0, sigma_b)\n",
    "    b_2 = np.random.normal(0, sigma_b)\n",
    "    \n",
    "    loci =random.sample(range(0, individuals), 2)\n",
    "    SNP1 = G[:,loci[0]]\n",
    "    SNP2 = G[:,loci[1]]\n",
    "    return b_1, b_2, SNP1, SNP2, sigma_e, sigma_b\n",
    "\n",
    "def generate_phenotype_additive(b_1, b_2, SNP1, SNP2, sigma_e, sigma_b, b_12):\n",
    "    individuals = len(SNP1)    \n",
    "    #rows are the loci so each person has a row of different loci\n",
    "    Y_n = np.zeros((individuals, 1));\n",
    "    for k in range(0, individuals):\n",
    "        #each individual will have a random e_j(noise) value\n",
    "        e_j = np.random.normal(0, sigma_e)\n",
    "        #G_ij will be the jth individual from our SNP for the loci of choice\n",
    "        G_ij1  = SNP1[k]\n",
    "        G_ij2  = SNP2[k]\n",
    "        Y_j = (b_1*G_ij1) + (b_2*G_ij2) + (b_12 * G_ij1 * G_ij2)+ e_j \n",
    "        Y_n[k] = Y_j \n",
    "    return Y_n, b_12\n"
   ]
  },
  {
   "cell_type": "code",
   "execution_count": 42,
   "metadata": {},
   "outputs": [
    {
     "name": "stderr",
     "output_type": "stream",
     "text": [
      "Data with input dtype int32 was converted to float64 by the scale function.\n"
     ]
    },
    {
     "name": "stdout",
     "output_type": "stream",
     "text": [
      "0.18718406342450314\n",
      "0.5709094033207736\n",
      "[('Z', 0), ('A', -1.166428339271658), ('B', 0.09020084073995287), ('C', 0.2321932671273352), ('D', 0.8015896658284507), ('E', -0.5513002962811717)]\n"
     ]
    }
   ],
   "source": [
    "G = generate_genotype(5, 10)\n",
    "b_1, b_2, SNP1, SNP2, sigma_e, sigma_b = generate_base_pheno_values(G, 0.7, 0.3, 2)\n",
    "\n",
    "b_list = []\n",
    "#No Effect\n",
    "b_12 = 0\n",
    "Z = generate_phenotype_additive(b_1, b_2, SNP1, SNP2, sigma_e, sigma_b, b_12)\n",
    "b_list.append((\"Z\", b_12))\n",
    "\n",
    "#Random Combined Effect\n",
    "b_12 = np.random.normal(0, sigma_b)\n",
    "A = generate_phenotype_additive(b_1, b_2, SNP1, SNP2, sigma_e, sigma_b, b_12)\n",
    "b_list.append((\"A\", b_12))\n",
    "#0 < b_12 < b1\n",
    "b_12 = random.uniform(0, abs(b_1))\n",
    "B = generate_phenotype_additive(b_1, b_2, SNP1, SNP2, sigma_e, sigma_b, b_12)\n",
    "b_list.append((\"B\", b_12))\n",
    "#0 < b_12 < b2\n",
    "b_12 = random.uniform(0, abs(b_2))\n",
    "C = generate_phenotype_additive(b_1, b_2, SNP1, SNP2, sigma_e, sigma_b, b_12)\n",
    "#b_list.append((\"0 < b_12 < b_2\", b_12))\n",
    "b_list.append((\"C\", b_12))\n",
    "\n",
    "#b_1 + b_2 < b_12\n",
    "b_12 = random.uniform(abs(b_1) + abs(b_2), 1)\n",
    "D = generate_phenotype_additive(b_1, b_2, SNP1, SNP2, sigma_e, sigma_b, b_12)\n",
    "b_list.append((\"D\", b_12))\n",
    "\n",
    "#b_12 < 0\n",
    "b_12 = random.uniform(-1 * sigma_b, 0)\n",
    "E = generate_phenotype_additive(b_1, b_2, SNP1, SNP2, sigma_e, sigma_b, b_12)\n",
    "b_list.append((\"E\", b_12))\n",
    "\n",
    "print(b_1)\n",
    "print(b_2)\n",
    "print(b_list)"
   ]
  },
  {
   "cell_type": "code",
   "execution_count": 45,
   "metadata": {},
   "outputs": [
    {
     "data": {
      "image/png": "[encoded data removed]",
      "text/plain": [
       "<Figure size 432x288 with 1 Axes>"
      ]
     },
     "metadata": {
      "needs_background": "light"
     },
     "output_type": "display_data"
    },
    {
     "name": "stdout",
     "output_type": "stream",
     "text": [
      "b_1 = 0.18718406342450314\n",
      "b_2 = 0.5709094033207736\n",
      "[('Z', 0), ('A', -1.166428339271658), ('B', 0.09020084073995287), ('C', 0.2321932671273352), ('D', 0.8015896658284507), ('E', -0.5513002962811717)]\n"
     ]
    }
   ],
   "source": [
    "#Plot Interaction to Bi\n",
    "#x = bi\n",
    "#y = phenotype effect\n",
    "def phenotype_plotting(b1, b2, list_b):\n",
    "    labels = []\n",
    "    labels.append(\"b1\")\n",
    "    labels.append(\"b2\")\n",
    "    b_val = []\n",
    "    b_val.append(b1)\n",
    "    b_val.append(b2)\n",
    "    for b_12 in list_b:\n",
    "        labels.append(b_12[0])\n",
    "        b_val.append((b_1) + (b_2) + (b_12[1]))\n",
    "        \n",
    "    # x-coordinates of left sides of bars  \n",
    "    left = list(range(1, (len(b_val)+ 1)))\n",
    "\n",
    "    # plotting a bar chart \n",
    "    plt.bar(left, b_val, tick_label = labels) \n",
    "  \n",
    "    # naming the x-axis \n",
    "    plt.xlabel('Genetic Effect Permutations') \n",
    "    # naming the y-axis \n",
    "    plt.ylabel('Phenotype Value') \n",
    "    # plot title \n",
    "    plt.title('2 loci genetic interaction') \n",
    "  \n",
    "    # function to show the plot \n",
    "    plt.show() \n",
    "    \n",
    "phenotype_plotting(b_1, b_2, b_list)\n",
    "\n",
    "print(\"b_1 = \" + str(b_1))\n",
    "print(\"b_2 = \" + str(b_2))\n",
    "print(b_list)"
   ]
  },
  {
   "cell_type": "code",
   "execution_count": 13,
   "metadata": {},
   "outputs": [
    {
     "name": "stdout",
     "output_type": "stream",
     "text": [
      "Phenotypes for loci 90 are [[ 0.08807652]\n",
      " [ 0.52411347]\n",
      " [ 0.29758588]\n",
      " [ 0.28569025]\n",
      " [ 1.47036162]\n",
      " [ 0.08501896]\n",
      " [ 0.27393259]\n",
      " [ 0.06399161]\n",
      " [ 0.44166794]\n",
      " [-0.78402621]\n",
      " [ 1.58377972]\n",
      " [ 0.18379051]\n",
      " [-0.35544725]\n",
      " [ 0.133849  ]\n",
      " [ 0.32135618]\n",
      " [-0.16668753]\n",
      " [ 0.13137257]\n",
      " [ 0.47983345]\n",
      " [-0.29588968]\n",
      " [ 0.80912028]\n",
      " [-0.45960226]\n",
      " [ 0.34395744]\n",
      " [-0.00576357]\n",
      " [-0.39999385]\n",
      " [-0.90418172]\n",
      " [-0.1478407 ]\n",
      " [ 0.36932795]\n",
      " [ 0.49756029]\n",
      " [-0.75807925]\n",
      " [ 0.82876418]]\n"
     ]
    },
    {
     "ename": "ValueError",
     "evalue": "all the input array dimensions except for the concatenation axis must match exactly",
     "output_type": "error",
     "traceback": [
      "\u001b[1;31m---------------------------------------------------------------------------\u001b[0m",
      "\u001b[1;31mValueError\u001b[0m                                Traceback (most recent call last)",
      "\u001b[1;32m<ipython-input-13-ab23df5d82b9>\u001b[0m in \u001b[0;36m<module>\u001b[1;34m\u001b[0m\n\u001b[0;32m      3\u001b[0m \u001b[0mprint\u001b[0m\u001b[1;33m(\u001b[0m\u001b[1;34m'Phenotypes for loci '\u001b[0m\u001b[1;33m+\u001b[0m\u001b[0mstr\u001b[0m\u001b[1;33m(\u001b[0m\u001b[0mloci\u001b[0m\u001b[1;33m)\u001b[0m\u001b[1;33m+\u001b[0m\u001b[1;34m' are '\u001b[0m\u001b[1;33m+\u001b[0m\u001b[0mstr\u001b[0m\u001b[1;33m(\u001b[0m\u001b[0mY\u001b[0m\u001b[1;33m[\u001b[0m\u001b[1;36m0\u001b[0m\u001b[1;33m:\u001b[0m\u001b[1;36m30\u001b[0m\u001b[1;33m]\u001b[0m\u001b[1;33m)\u001b[0m\u001b[1;33m)\u001b[0m\u001b[1;33m\u001b[0m\u001b[1;33m\u001b[0m\u001b[0m\n\u001b[0;32m      4\u001b[0m \u001b[1;33m\u001b[0m\u001b[0m\n\u001b[1;32m----> 5\u001b[1;33m \u001b[0mG\u001b[0m \u001b[1;33m=\u001b[0m \u001b[0mnp\u001b[0m\u001b[1;33m.\u001b[0m\u001b[0mappend\u001b[0m\u001b[1;33m(\u001b[0m\u001b[0mG\u001b[0m\u001b[1;33m,\u001b[0m \u001b[0mY\u001b[0m\u001b[1;33m,\u001b[0m \u001b[0maxis\u001b[0m\u001b[1;33m=\u001b[0m\u001b[1;36m1\u001b[0m\u001b[1;33m)\u001b[0m\u001b[1;33m\u001b[0m\u001b[1;33m\u001b[0m\u001b[0m\n\u001b[0m",
      "\u001b[1;32m~\\Anaconda3\\lib\\site-packages\\numpy\\lib\\function_base.py\u001b[0m in \u001b[0;36mappend\u001b[1;34m(arr, values, axis)\u001b[0m\n\u001b[0;32m   4526\u001b[0m         \u001b[0mvalues\u001b[0m \u001b[1;33m=\u001b[0m \u001b[0mravel\u001b[0m\u001b[1;33m(\u001b[0m\u001b[0mvalues\u001b[0m\u001b[1;33m)\u001b[0m\u001b[1;33m\u001b[0m\u001b[1;33m\u001b[0m\u001b[0m\n\u001b[0;32m   4527\u001b[0m         \u001b[0maxis\u001b[0m \u001b[1;33m=\u001b[0m \u001b[0marr\u001b[0m\u001b[1;33m.\u001b[0m\u001b[0mndim\u001b[0m\u001b[1;33m-\u001b[0m\u001b[1;36m1\u001b[0m\u001b[1;33m\u001b[0m\u001b[1;33m\u001b[0m\u001b[0m\n\u001b[1;32m-> 4528\u001b[1;33m     \u001b[1;32mreturn\u001b[0m \u001b[0mconcatenate\u001b[0m\u001b[1;33m(\u001b[0m\u001b[1;33m(\u001b[0m\u001b[0marr\u001b[0m\u001b[1;33m,\u001b[0m \u001b[0mvalues\u001b[0m\u001b[1;33m)\u001b[0m\u001b[1;33m,\u001b[0m \u001b[0maxis\u001b[0m\u001b[1;33m=\u001b[0m\u001b[0maxis\u001b[0m\u001b[1;33m)\u001b[0m\u001b[1;33m\u001b[0m\u001b[1;33m\u001b[0m\u001b[0m\n\u001b[0m",
      "\u001b[1;31mValueError\u001b[0m: all the input array dimensions except for the concatenation axis must match exactly"
     ]
    }
   ],
   "source": [
    "Y,H = Simulate_Phenotype_PerPerson(SNP,.3,.7)\n",
    "# function assumes that for each person j in M we make a phenotype Y_j\n",
    "print('Phenotypes for loci '+str(loci)+' are '+str(Y[0:30]))\n",
    "\n",
    "G = np.append(G, Y, axis=1)"
   ]
  },
  {
   "cell_type": "code",
   "execution_count": 12,
   "metadata": {},
   "outputs": [
    {
     "data": {
      "image/png": "[encoded data removed]",
      "text/plain": [
       "<Figure size 432x288 with 1 Axes>"
      ]
     },
     "metadata": {
      "needs_background": "light"
     },
     "output_type": "display_data"
    }
   ],
   "source": [
    "#use this to see distribution of f_i frequency\n",
    "bin_size = 20\n",
    "count, bins, ignored = plt.hist(f_M, 20, facecolor='blue') \n",
    "\n",
    "plt.xlabel('X [0,1]')\n",
    "plt.ylabel('Count')\n",
    "plt.title(\"Uniform Distribution For Loci Frequency Bin size: \"+str(bin_size))\n",
    "plt.axis([0, 1, 0, 100]) # x_start, x_end, y_start, y_end\n",
    "plt.grid(True)\n",
    "\n",
    "plt.show(block = False)"
   ]
  },
  {
   "cell_type": "code",
   "execution_count": 19,
   "metadata": {},
   "outputs": [],
   "source": [
    "#split data into test and train\n",
    "X = G[:,0:len(G[0])-2]\n",
    "\n",
    "#last column is the appended Y vector we predicted\n",
    "y = G[:,len(G[0])-1]\n",
    "\n",
    "#split the data\n",
    "x_train, x_test, y_train, y_test = train_test_split(X, y, test_size=0.3, random_state=7)\n",
    "\n",
    "linReg = LinearRegression()  \n",
    "\n",
    "#training the algorithm\n",
    "linReg.fit(x_train, y_train) \n",
    "\n",
    "# train the model\n",
    "#svr_rbf.fit(x_train, y_train)\n",
    "\n",
    "#test the model on test data\n",
    "y_predict = linReg.predict(x_test)"
   ]
  },
  {
   "cell_type": "code",
   "execution_count": 23,
   "metadata": {},
   "outputs": [
    {
     "name": "stdout",
     "output_type": "stream",
     "text": [
      "Mean absolute error = 0.47\n",
      "Mean squared error = 0.35\n",
      "Root Mean squared error = 0.5916079783099616\n",
      "Median absolute error = 0.4\n",
      "Explain variance score = 0.71\n",
      "R2 score = 0.71\n"
     ]
    }
   ],
   "source": [
    "#Evaluate the regression model\n",
    "print(\"Mean absolute error =\", round(metrics.mean_absolute_error(y_test, y_predict), 2)) \n",
    "print(\"Mean squared error =\", round(metrics.mean_squared_error(y_test, y_predict), 2)) \n",
    "print(\"Root Mean squared error =\", sqrt(round(metrics.mean_squared_error(y_test, y_predict), 2)))\n",
    "print(\"Median absolute error =\", round(metrics.median_absolute_error(y_test, y_predict), 2)) \n",
    "print(\"Explain variance score =\", round(metrics.explained_variance_score(y_test, y_predict), 2)) \n",
    "print(\"R2 score =\", round(metrics.r2_score(y_test, y_predict), 2))"
   ]
  },
  {
   "cell_type": "code",
   "execution_count": 24,
   "metadata": {},
   "outputs": [
    {
     "data": {
      "text/plain": [
       "RandomForestRegressor(bootstrap=True, criterion='mse', max_depth=10,\n",
       "           max_features='auto', max_leaf_nodes=None,\n",
       "           min_impurity_decrease=0.0, min_impurity_split=None,\n",
       "           min_samples_leaf=1, min_samples_split=2,\n",
       "           min_weight_fraction_leaf=0.0, n_estimators=50, n_jobs=None,\n",
       "           oob_score=False, random_state=0, verbose=0, warm_start=False)"
      ]
     },
     "execution_count": 24,
     "metadata": {},
     "output_type": "execute_result"
    }
   ],
   "source": [
    "#initialize tree with a node depth of 10 and 50 decision trees\n",
    "forReg = RandomForestRegressor(max_depth=10, random_state=0, n_estimators=50)\n",
    "forReg.fit(x_train, y_train)"
   ]
  },
  {
   "cell_type": "code",
   "execution_count": 25,
   "metadata": {
    "scrolled": true
   },
   "outputs": [
    {
     "name": "stderr",
     "output_type": "stream",
     "text": [
      "Setting feature_perturbation = \"tree_path_dependent\" because no background data was given.\n"
     ]
    },
    {
     "data": {
      "image/png": "[encoded data removed]",
      "text/plain": [
       "<Figure size 576x684 with 1 Axes>"
      ]
     },
     "metadata": {
      "needs_background": "light"
     },
     "output_type": "display_data"
    }
   ],
   "source": [
    "shap_values = shap.TreeExplainer(forReg).shap_values(x_train)\n",
    "shap.summary_plot(shap_values, x_train, plot_type=\"bar\")"
   ]
  },
  {
   "cell_type": "code",
   "execution_count": 26,
   "metadata": {},
   "outputs": [
    {
     "data": {
      "image/png": "[encoded data removed]",
      "text/plain": [
       "<Figure size 576x684 with 2 Axes>"
      ]
     },
     "metadata": {
      "needs_background": "light"
     },
     "output_type": "display_data"
    }
   ],
   "source": [
    "shap.summary_plot(shap_values,x_train)"
   ]
  },
  {
   "cell_type": "code",
   "execution_count": 17,
   "metadata": {},
   "outputs": [
    {
     "name": "stderr",
     "output_type": "stream",
     "text": [
      "Data with input dtype int32 was converted to float64 by the scale function.\n"
     ]
    },
    {
     "data": {
      "application/vnd.jupyter.widget-view+json": {
       "model_id": "9a542e7223b441c8a4ab9e35efdbd7fd",
       "version_major": 2,
       "version_minor": 0
      },
      "text/plain": [
       "HBox(children=(IntProgress(value=0, max=7), HTML(value='')))"
      ]
     },
     "metadata": {},
     "output_type": "display_data"
    },
    {
     "name": "stderr",
     "output_type": "stream",
     "text": [
      "l1_reg=\"auto\" is deprecated and in the next version (v0.29) the behavior will change from a conditional use of AIC to simply \"num_features(10)\"!\n",
      "l1_reg=\"auto\" is deprecated and in the next version (v0.29) the behavior will change from a conditional use of AIC to simply \"num_features(10)\"!\n",
      "l1_reg=\"auto\" is deprecated and in the next version (v0.29) the behavior will change from a conditional use of AIC to simply \"num_features(10)\"!\n",
      "l1_reg=\"auto\" is deprecated and in the next version (v0.29) the behavior will change from a conditional use of AIC to simply \"num_features(10)\"!\n",
      "l1_reg=\"auto\" is deprecated and in the next version (v0.29) the behavior will change from a conditional use of AIC to simply \"num_features(10)\"!\n",
      "l1_reg=\"auto\" is deprecated and in the next version (v0.29) the behavior will change from a conditional use of AIC to simply \"num_features(10)\"!\n",
      "l1_reg=\"auto\" is deprecated and in the next version (v0.29) the behavior will change from a conditional use of AIC to simply \"num_features(10)\"!\n"
     ]
    },
    {
     "name": "stdout",
     "output_type": "stream",
     "text": [
      "\n"
     ]
    },
    {
     "data": {
      "application/vnd.jupyter.widget-view+json": {
       "model_id": "c0d85ef3f192411c8cb98c034bf82ec1",
       "version_major": 2,
       "version_minor": 0
      },
      "text/plain": [
       "HBox(children=(IntProgress(value=0, max=7), HTML(value='')))"
      ]
     },
     "metadata": {},
     "output_type": "display_data"
    },
    {
     "name": "stderr",
     "output_type": "stream",
     "text": [
      "l1_reg=\"auto\" is deprecated and in the next version (v0.29) the behavior will change from a conditional use of AIC to simply \"num_features(10)\"!\n",
      "l1_reg=\"auto\" is deprecated and in the next version (v0.29) the behavior will change from a conditional use of AIC to simply \"num_features(10)\"!\n",
      "l1_reg=\"auto\" is deprecated and in the next version (v0.29) the behavior will change from a conditional use of AIC to simply \"num_features(10)\"!\n",
      "l1_reg=\"auto\" is deprecated and in the next version (v0.29) the behavior will change from a conditional use of AIC to simply \"num_features(10)\"!\n",
      "l1_reg=\"auto\" is deprecated and in the next version (v0.29) the behavior will change from a conditional use of AIC to simply \"num_features(10)\"!\n",
      "l1_reg=\"auto\" is deprecated and in the next version (v0.29) the behavior will change from a conditional use of AIC to simply \"num_features(10)\"!\n",
      "l1_reg=\"auto\" is deprecated and in the next version (v0.29) the behavior will change from a conditional use of AIC to simply \"num_features(10)\"!\n"
     ]
    },
    {
     "name": "stdout",
     "output_type": "stream",
     "text": [
      "\n",
      "((array([[ 0.05345811, -0.00245108,  0.        ,  0.        ,  0.06579907,\n",
      "         0.04805756, -0.04013572, -0.00382608, -0.1866993 , -0.0361779 ,\n",
      "         0.04227418, -0.06125016,  0.06114529, -0.08642785, -0.03040153,\n",
      "        -0.01821923, -0.0310574 , -0.01146354,  0.00425437],\n",
      "       [-0.04009358,  0.01470648,  0.        ,  0.        , -0.01096651,\n",
      "         0.04805756, -0.04013572,  0.02295646,  0.14002448, -0.0361779 ,\n",
      "         0.04227418,  0.06125016, -0.2241994 ,  0.21606962,  0.07600383,\n",
      "        -0.01821923, -0.0310574 , -0.01146354,  0.00425437],\n",
      "       [ 0.05325484,  0.        ,  0.        ,  0.        , -0.01121718,\n",
      "        -0.12034191, -0.04020265, -0.00407193,  0.13988962,  0.21674527,\n",
      "         0.14065656,  0.        ,  0.0609443 , -0.08673501,  0.07576764,\n",
      "        -0.01852569, -0.03132643, -0.01162474,  0.        ],\n",
      "       [-0.04014232, -0.00248715,  0.        ,  0.        , -0.01106343,\n",
      "        -0.12016771, -0.04015911, -0.00387731, -0.18672389, -0.0362231 ,\n",
      "        -0.05643782,  0.        , -0.08155589, -0.08650555, -0.03043636,\n",
      "        -0.01826704, -0.0311271 , -0.01149156,  0.        ],\n",
      "       [ 0.05345811, -0.00245108,  0.        ,  0.        , -0.01096651,\n",
      "         0.04805756, -0.04013572, -0.00382608,  0.14002448, -0.0361779 ,\n",
      "        -0.05636558,  0.        ,  0.06114529, -0.08642785, -0.03040153,\n",
      "        -0.01821923, -0.0310574 ,  0.06878127, -0.00567249],\n",
      "       [-0.13370665, -0.00252232,  0.        ,  0.        , -0.01103251,\n",
      "         0.04798811, -0.04014688, -0.0038739 , -0.18674858, -0.03620574,\n",
      "        -0.05640361, -0.06128135,  0.06109913, -0.08645185, -0.03044166,\n",
      "         0.10928262, -0.03110635, -0.01150724,  0.        ],\n",
      "       [ 0.05295567,  0.        ,  0.        ,  0.        , -0.01152843,\n",
      "         0.04771889,  0.24004027,  0.        ,  0.13943336, -0.03666678,\n",
      "        -0.05670382,  0.0607668 ,  0.0604979 ,  0.21545792, -0.03068221,\n",
      "        -0.01872717,  0.18605226, -0.01203118,  0.        ]]), 0.458257569495584), 16)\n"
     ]
    }
   ],
   "source": [
    "def trait_simulation(samples_n, loci_m,var_g,var_e):\n",
    "    f_M = np.random.uniform(0,1,loci_m)\n",
    "    G = np.random.binomial(n=2,p = f_M, size = (samples_n,loci_m))\n",
    "    G = preprocessing.scale(G, axis=0)\n",
    "    loci =random.randint(0,loci_m-1)\n",
    "    SNP = G[:,loci]\n",
    "    individuals = len(SNP)\n",
    "    mean = 0 \n",
    "    sigma_b = sqrt(var_g)\n",
    "    sigma_e = sqrt(var_e)\n",
    "    b_i = np.random.normal(0, sigma_b)\n",
    "    Y_n = np.zeros((individuals, 1))\n",
    "    for k in range(0, individuals):\n",
    "        #each individual will have a random e_j(noise) value\n",
    "        e_j = np.random.normal(0, sigma_e)\n",
    "        #G_ij will be the jth individual from our SNP for the loci of choce\n",
    "        G_ij  = SNP[k]\n",
    "        Y_j = b_i*G_ij + e_j\n",
    "        Y_n[k] = Y_j \n",
    "    H= var_g/(var_g+var_e)\n",
    "    G = np.append(G, Y_n, axis=1)\n",
    "    X = G[:,0:len(G[0])-2]\n",
    "    y = G[:,len(G[0])-1]\n",
    "    x_train, x_test, y_train, y_test = train_test_split(X, y, test_size=0.3)\n",
    "    linReg = LinearRegression()  \n",
    "    linReg.fit(x_train, y_train) \n",
    "    explainer = shap.KernelExplainer(linReg.predict, x_train)\n",
    "    shap_values = explainer.shap_values(x_train)\n",
    "    #print(x_train.shape)\n",
    "    shap_values = shap_linear_regression(G)\n",
    "    #print(shap_feature_plot(shap_values))\n",
    "    return shap_values,loci\n",
    "print(trait_simulation(10, 20, 0.7, 0.3))"
   ]
  },
  {
   "cell_type": "code",
   "execution_count": 18,
   "metadata": {},
   "outputs": [],
   "source": [
    "#Breaking into smaller functions\n",
    "def simulate_genotype(samples_n, loci_m):\n",
    "    f_M = np.random.uniform(0,1,loci_m)\n",
    "    G = np.random.binomial(n=2,p = f_M, size = (samples_n,loci_m))\n",
    "    G = preprocessing.scale(G, axis=0)\n",
    "    return G\n",
    "\n",
    "def simulate_genotype_and_phenotype(samples_n, loci_m,var_g,var_e):\n",
    "    G = simulate_genotype(samples_n, loci_m)\n",
    "    loci =random.randint(0,loci_m-1)\n",
    "    SNP = G[:,loci]\n",
    "    individuals = len(SNP)\n",
    "    mean = 0 \n",
    "    sigma_b = sqrt(var_g)\n",
    "    sigma_e = sqrt(var_e)\n",
    "    b_i = np.random.normal(0, sigma_b)\n",
    "    Y_n = np.zeros((individuals, 1))\n",
    "    for k in range(0, individuals):\n",
    "        #each individual will have a random e_j(noise) value\n",
    "        e_j = np.random.normal(0, sigma_e)\n",
    "        #G_ij will be the jth individual from our SNP for the loci of choce\n",
    "        G_ij  = SNP[k]\n",
    "        Y_j = b_i*G_ij + e_j\n",
    "        Y_n[k] = Y_j \n",
    "    H= var_g/(var_g+var_e)\n",
    "    G = np.append(G, Y_n, axis=1)\n",
    "    return G, loci"
   ]
  },
  {
   "cell_type": "code",
   "execution_count": 52,
   "metadata": {},
   "outputs": [],
   "source": [
    "#Linear ML functions & SHAP\n",
    "def shap_linear_regression(G):\n",
    "    #H= var_g/(var_g+var_e)\n",
    "    X = G[:,0:len(G[0])-2]\n",
    "    y = G[:,len(G[0])-1]\n",
    "    x_train, x_test, y_train, y_test = train_test_split(X, y, test_size=0.3)\n",
    "    linReg = LinearRegression()  \n",
    "    linReg.fit(x_train, y_train) \n",
    "    y_predict = linReg.predict(x_test)\n",
    "    '''\n",
    "    print(\"Mean absolute error =\", round(metrics.mean_absolute_error(y_test, y_predict), 2)) \n",
    "    print(\"Mean squared error =\", round(metrics.mean_squared_error(y_test, y_predict), 2)) \n",
    "    print(\"Root Mean squared error =\", sqrt(round(metrics.mean_squared_error(y_test, y_predict), 2)))\n",
    "    print(\"Median absolute error =\", round(metrics.median_absolute_error(y_test, y_predict), 2)) \n",
    "    print(\"Explain variance score =\", round(metrics.explained_variance_score(y_test, y_predict), 2)) \n",
    "    print(\"R2 score =\", round(metrics.r2_score(y_test, y_predict), 2))\n",
    "    '''\n",
    "    root_mean_sqr = sqrt(round(metrics.mean_squared_error(y_test, y_predict), 2))\n",
    "    explainer = shap.KernelExplainer(linReg.predict, x_train)\n",
    "    shap_values = explainer.shap_values(x_train)\n",
    "    return shap_values, root_mean_sqr, linReg\n",
    "\n",
    "def shap_feature_plot_LR(shap_values, linReg):\n",
    "    shap_values = shap.TreeExplainer(linReg).shap_values(x_train)\n",
    "    shap.summary_plot(shap_values, x_train, plot_type=\"bar\")\n",
    "    \n",
    "def shap_random_forest(G):\n",
    "    X = G[:,0:len(G[0])-2]\n",
    "    y = G[:,len(G[0])-1]\n",
    "    x_train, x_test, y_train, y_test = train_test_split(X, y, test_size=0.3)\n",
    "    forReg = RandomForestRegressor(max_depth=10, random_state=0, n_estimators=50)\n",
    "    forReg.fit(x_train, y_train)\n",
    "    \n",
    "    shap_values = shap.TreeExplainer(forReg).shap_values(x_train)\n",
    "    return shap_values, x_train\n",
    "\n",
    "def shap_feature_plot_RF(shap_values, x_train):\n",
    "    shap.summary_plot(shap_values, x_train, plot_type=\"bar\")\n",
    "    \n",
    "    "
   ]
  },
  {
   "cell_type": "code",
   "execution_count": 78,
   "metadata": {},
   "outputs": [
    {
     "name": "stdout",
     "output_type": "stream",
     "text": [
      "19\n"
     ]
    },
    {
     "data": {
      "image/png": "[encoded data removed]",
      "text/plain": [
       "<Figure size 576x684 with 1 Axes>"
      ]
     },
     "metadata": {
      "needs_background": "light"
     },
     "output_type": "display_data"
    },
    {
     "name": "stdout",
     "output_type": "stream",
     "text": [
      "(13, 0.01888234773169347)\n"
     ]
    }
   ],
   "source": [
    "G, loci = simulate_genotype_and_phenotype(50,30, .4, .5)\n",
    "print(loci)\n",
    "shap_values2, x_train = shap_random_forest(G)\n",
    "shap_feature_plot_RF(shap_values2, x_train)\n",
    "print(max_mean_feature(shap_values2))"
   ]
  },
  {
   "cell_type": "code",
   "execution_count": 55,
   "metadata": {},
   "outputs": [
    {
     "data": {
      "application/vnd.jupyter.widget-view+json": {
       "model_id": "35760e4d440a4e7a8be04bd0be3b2748",
       "version_major": 2,
       "version_minor": 0
      },
      "text/plain": [
       "HBox(children=(IntProgress(value=0, max=21), HTML(value='')))"
      ]
     },
     "metadata": {},
     "output_type": "display_data"
    },
    {
     "name": "stdout",
     "output_type": "stream",
     "text": [
      "\n"
     ]
    },
    {
     "data": {
      "application/vnd.jupyter.widget-view+json": {
       "model_id": "29fe3fff13f8448cbd8ce9844198acd2",
       "version_major": 2,
       "version_minor": 0
      },
      "text/plain": [
       "HBox(children=(IntProgress(value=0, max=21), HTML(value='')))"
      ]
     },
     "metadata": {},
     "output_type": "display_data"
    },
    {
     "name": "stdout",
     "output_type": "stream",
     "text": [
      "\n"
     ]
    }
   ],
   "source": [
    "import warnings\n",
    "warnings.filterwarnings('ignore')\n",
    "shap_values, SNP = trait_simulation(30,100,.4,.5)"
   ]
  },
  {
   "cell_type": "code",
   "execution_count": 76,
   "metadata": {},
   "outputs": [],
   "source": [
    "#SHAP vs noise\n",
    "#def linear_regression_vs_noise(samples_n, loci_m,var_g,var_e, number_of_trials):\n",
    "def mean_shap_values(shap_values):\n",
    "    if len(shap_values) == 2:\n",
    "        mean_shap = [0] * len(shap_values[0][0])\n",
    "        for shap_value in shap_values[0]:\n",
    "            #print(shap_value)\n",
    "            for x in range(0, len(shap_value)):\n",
    "                mean_shap[x] = mean_shap[x] + shap_value[x]\n",
    "        for x in range(0, len(shap_values[0])):\n",
    "            mean_shap[x] = abs(mean_shap[x] / len(shap_values[0]))\n",
    "    else:    \n",
    "        mean_shap = [0] * len(shap_values[0])\n",
    "        for shap_value in shap_values:\n",
    "            for x in range(0, len(shap_value)):\n",
    "                mean_shap[x] = mean_shap[x] + shap_value[x]\n",
    "        for x in range(0, len(shap_values[0])):\n",
    "            mean_shap[x] = abs(mean_shap[x] / len(shap_values[0]))\n",
    "    return mean_shap                   \n",
    "\n",
    "def max_mean_feature(shap_values):\n",
    "    mean_shap = mean_shap_values(shap_values)\n",
    "    return mean_shap.index(max(mean_shap)), mean_shap[mean_shap.index(max(mean_shap))]\n",
    "\n",
    "def avg_shap_values(samples_n, loci_m,var_g,var_e, number_of_trials):\n",
    "    trail_shap_values = []\n",
    "    for trail in range(0, number_of_trials):\n",
    "        shap_values,SNP = trait_simulation(samples_n, loci_m,var_g,var_e)\n",
    "        max_mean_shap = max_mean_feature(shap_values)\n",
    "        trail_shap_values.append(max_mean_shap[1])\n",
    "    return sum(trail_shap_values)/len(trail_shap_values)\n",
    "\n",
    "def plot_shap_values(samples_n, loci_m, trails):\n",
    "    \n",
    "    increment = 1/trails\n",
    "    holderg = 0\n",
    "    holdere = 1\n",
    "    var_g = [0]\n",
    "    var_e = [1]\n",
    "    for x in range(1, trails):\n",
    "        var_g.append(holderg + increment)\n",
    "        var_e.append(holdere - increment)\n",
    "        holderg = holderg + increment\n",
    "        holdere = holdere - increment\n",
    "    shap_values_SNP = []\n",
    "    for x in range(0,trails):\n",
    "        G, loci = simulate_genotype_and_phenotype(samples_n,loci_m, var_g[x] , var_e[x] )\n",
    "        shap_values_holder, x_train = shap_random_forest(G)\n",
    "\n",
    "        max_holder = max_mean_feature(shap_values2)\n",
    "        print(max_holder)\n",
    "        print(loci)\n",
    "        if max_holder[0] == loci:\n",
    "            print(\"I'm working\")\n",
    "            shap_values_SNP.append(max_holder[1])\n",
    "        else:\n",
    "            shap_values_SNP.append(0)\n",
    "        \n",
    "    plt.plot(var_g, shap_values_SNP) \n",
    "    plt.xlabel('Variance of Genetic Effect')\n",
    "    plt.ylabel('SHAP value of causal SNP')\n",
    "    plt.title('Effective of noise on SHAP values')  \n",
    "    plt.show()\n",
    "\n",
    "\n",
    "        "
   ]
  },
  {
   "cell_type": "code",
   "execution_count": 77,
   "metadata": {},
   "outputs": [
    {
     "name": "stdout",
     "output_type": "stream",
     "text": [
      "(2, 0.010361387448670052)\n",
      "7\n",
      "(2, 0.010361387448670052)\n",
      "1\n",
      "(2, 0.010361387448670052)\n",
      "10\n",
      "(2, 0.010361387448670052)\n",
      "18\n",
      "(2, 0.010361387448670052)\n",
      "19\n",
      "(2, 0.010361387448670052)\n",
      "5\n",
      "(2, 0.010361387448670052)\n",
      "2\n",
      "I'm working\n",
      "(2, 0.010361387448670052)\n",
      "11\n",
      "(2, 0.010361387448670052)\n",
      "15\n",
      "(2, 0.010361387448670052)\n",
      "15\n"
     ]
    },
    {
     "data": {
      "image/png": "[encoded data removed]",
      "text/plain": [
       "<Figure size 432x288 with 1 Axes>"
      ]
     },
     "metadata": {
      "needs_background": "light"
     },
     "output_type": "display_data"
    }
   ],
   "source": [
    "plot_shap_values(50, 20, 10)"
   ]
  }
 ],
 "metadata": {
  "kernelspec": {
   "display_name": "Python 3",
   "language": "python",
   "name": "python3"
  },
  "language_info": {
   "codemirror_mode": {
    "name": "ipython",
    "version": 3
   },
   "file_extension": ".py",
   "mimetype": "text/x-python",
   "name": "python",
   "nbconvert_exporter": "python",
   "pygments_lexer": "ipython3",
   "version": "3.7.1"
  }
 },
 "nbformat": 4,
 "nbformat_minor": 2
}
