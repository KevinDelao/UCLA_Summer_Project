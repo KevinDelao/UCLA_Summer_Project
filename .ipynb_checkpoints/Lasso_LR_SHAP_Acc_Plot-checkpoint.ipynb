{
 "cells": [
  {
   "cell_type": "code",
   "execution_count": 1,
   "metadata": {},
   "outputs": [],
   "source": [
    "import numpy as np\n",
    "import pandas as pd\n",
    "import random\n",
    "import shap\n",
    "from math import sqrt\n",
    "import matplotlib.pyplot as plt\n",
    "from sklearn import preprocessing\n",
    "from sklearn.model_selection import train_test_split\n",
    "import sklearn.metrics as metrics\n",
    "from sklearn import linear_model\n",
    "from scipy.stats import sem, t\n",
    "from scipy import mean\n",
    "\n",
    "import warnings\n",
    "warnings.filterwarnings('ignore')\n",
    "\n",
    "import pickle"
   ]
  },
  {
   "cell_type": "code",
   "execution_count": 40,
   "metadata": {},
   "outputs": [],
   "source": [
    "#Simulate Genotype\n",
    "def simulate_genotype(samples_n, loci_m):\n",
    "    f_M = np.random.uniform(0,1,loci_m)\n",
    "    G = np.random.binomial(n=2,p = f_M, size = (samples_n,loci_m))\n",
    "    G = preprocessing.scale(G, axis=0)\n",
    "    \n",
    "    assert(len(G) == samples_n)\n",
    "    assert(len(G[0])== loci_m)\n",
    "    return G"
   ]
  },
  {
   "cell_type": "code",
   "execution_count": 41,
   "metadata": {},
   "outputs": [],
   "source": [
    "def simulate_genotype_and_phenotype(samples_n, loci_m,beta_g,e_noise):\n",
    "    G = simulate_genotype(samples_n, loci_m)\n",
    "    loci =random.randint(0,loci_m-1)\n",
    "    SNP = G[:,loci]\n",
    "    individuals = len(SNP)\n",
    "    b_i = beta_g\n",
    "    Y_n = np.zeros((individuals, 1))\n",
    "    for k in range(0, individuals):\n",
    "        #each individual will have a e_j(noise) value\n",
    "        e_j = np.random.normal(0, e_noise)\n",
    "        #G_ij will be the jth individual from our SNP for the loci of choce\n",
    "        G_ij  = SNP[k]\n",
    "        Y_j = b_i*G_ij + e_j\n",
    "        Y_n[k] = Y_j \n",
    "    G = np.append(G, Y_n, axis=1)\n",
    "    return G, loci\n"
   ]
  },
  {
   "cell_type": "code",
   "execution_count": 61,
   "metadata": {},
   "outputs": [],
   "source": [
    "def shap_LR_tree_train(G):\n",
    "    X = G[:,0:len(G[0])-1]\n",
    "    y = G[:,len(G[0])-1]\n",
    "    x_train, x_test, y_train, y_test = train_test_split(X, y, test_size=0.3)\n",
    "    lassoReg = linear_model.Lasso(alpha=.1)\n",
    "    lassoReg.fit(x_train, y_train)\n",
    "    explainer = shap.KernelExplainer(lassoReg.predict, shap.kmeans(x_train,100))\n",
    "    shap_values = explainer.shap_values(x_test)\n",
    "    return shap_values, x_train"
   ]
  },
  {
   "cell_type": "code",
   "execution_count": 62,
   "metadata": {},
   "outputs": [],
   "source": [
    "#for RFR\n",
    "def mean_shap_values(shap_values):\n",
    "    \n",
    "    shap_values = np.array(shap_values)\n",
    "    avg_shap = []\n",
    "    for i in range(0,len(shap_values[0])):\n",
    "        shap2 = np.mean(abs(shap_values[:,i]))\n",
    "        avg_shap.append(shap2)\n",
    "    return avg_shap"
   ]
  },
  {
   "cell_type": "code",
   "execution_count": 63,
   "metadata": {},
   "outputs": [],
   "source": [
    "def max_mean_feature(shap_values):\n",
    "    avg_shap = mean_shap_values(shap_values)\n",
    "    temp1 = np.asarray(avg_shap)\n",
    "    indices = temp1.argsort()[-2:][::-1]\n",
    "    loci1,loci2 = avg_shap[indices[0]],avg_shap[indices[1]]\n",
    "    return indices[0], loci1"
   ]
  },
  {
   "cell_type": "code",
   "execution_count": 64,
   "metadata": {},
   "outputs": [],
   "source": [
    "def shap_acc_LR_var(samples_n, loci_m, var_g, number_trials):\n",
    "    shap_values_SNP = []\n",
    "    counter = 0\n",
    "    var_e_list = [0,0.2,0.4,0.6,0.8]\n",
    "    while counter != number_trials:\n",
    "        var_e = random.choice(var_e_list)\n",
    "        G, loci = simulate_genotype_and_phenotype(samples_n,loci_m, var_g , var_e)\n",
    "        shap_values_holder, x_train = shap_LR_tree_train(G)\n",
    "        max_holder = max_mean_feature(shap_values_holder)\n",
    "        if max_holder[0] == loci:\n",
    "            shap_values_SNP.append(1)\n",
    "        else:\n",
    "            shap_values_SNP.append(0)\n",
    "        counter += 1\n",
    "    percent = sum(shap_values_SNP) / len(shap_values_SNP) * 100\n",
    "    confidence_int = 1\n",
    "    return percent, confidence_int"
   ]
  },
  {
   "cell_type": "code",
   "execution_count": 58,
   "metadata": {
    "scrolled": true
   },
   "outputs": [
    {
     "data": {
      "application/vnd.jupyter.widget-view+json": {
       "model_id": "66944493d89d47a9a81627a5a068f5fe",
       "version_major": 2,
       "version_minor": 0
      },
      "text/plain": [
       "HBox(children=(FloatProgress(value=0.0, max=300.0), HTML(value='')))"
      ]
     },
     "metadata": {},
     "output_type": "display_data"
    },
    {
     "name": "stdout",
     "output_type": "stream",
     "text": [
      "\n"
     ]
    },
    {
     "data": {
      "application/vnd.jupyter.widget-view+json": {
       "model_id": "4cdd0448ccf24b298b534482137f17be",
       "version_major": 2,
       "version_minor": 0
      },
      "text/plain": [
       "HBox(children=(FloatProgress(value=0.0, max=300.0), HTML(value='')))"
      ]
     },
     "metadata": {},
     "output_type": "display_data"
    },
    {
     "name": "stdout",
     "output_type": "stream",
     "text": [
      "\n"
     ]
    },
    {
     "data": {
      "application/vnd.jupyter.widget-view+json": {
       "model_id": "bdf25f6092904412acb20c5681bc2fe8",
       "version_major": 2,
       "version_minor": 0
      },
      "text/plain": [
       "HBox(children=(FloatProgress(value=0.0, max=300.0), HTML(value='')))"
      ]
     },
     "metadata": {},
     "output_type": "display_data"
    },
    {
     "name": "stdout",
     "output_type": "stream",
     "text": [
      "\n"
     ]
    },
    {
     "data": {
      "application/vnd.jupyter.widget-view+json": {
       "model_id": "f250ebb9eecc41dd8ced97def61b61b5",
       "version_major": 2,
       "version_minor": 0
      },
      "text/plain": [
       "HBox(children=(FloatProgress(value=0.0, max=300.0), HTML(value='')))"
      ]
     },
     "metadata": {},
     "output_type": "display_data"
    },
    {
     "name": "stdout",
     "output_type": "stream",
     "text": [
      "\n"
     ]
    },
    {
     "data": {
      "application/vnd.jupyter.widget-view+json": {
       "model_id": "55dc9358e4d5484fabd3f1abb83b00f1",
       "version_major": 2,
       "version_minor": 0
      },
      "text/plain": [
       "HBox(children=(FloatProgress(value=0.0, max=300.0), HTML(value='')))"
      ]
     },
     "metadata": {},
     "output_type": "display_data"
    },
    {
     "name": "stdout",
     "output_type": "stream",
     "text": [
      "\n"
     ]
    },
    {
     "data": {
      "application/vnd.jupyter.widget-view+json": {
       "model_id": "8f61c3a2107047a2b0dfaa2b62fec8ec",
       "version_major": 2,
       "version_minor": 0
      },
      "text/plain": [
       "HBox(children=(FloatProgress(value=0.0, max=300.0), HTML(value='')))"
      ]
     },
     "metadata": {},
     "output_type": "display_data"
    },
    {
     "name": "stdout",
     "output_type": "stream",
     "text": [
      "\n"
     ]
    },
    {
     "data": {
      "application/vnd.jupyter.widget-view+json": {
       "model_id": "db782c05db2c44e6a455e0d8adfb0673",
       "version_major": 2,
       "version_minor": 0
      },
      "text/plain": [
       "HBox(children=(FloatProgress(value=0.0, max=300.0), HTML(value='')))"
      ]
     },
     "metadata": {},
     "output_type": "display_data"
    },
    {
     "name": "stdout",
     "output_type": "stream",
     "text": [
      "\n"
     ]
    },
    {
     "data": {
      "application/vnd.jupyter.widget-view+json": {
       "model_id": "ccdb613b33334f7ca274830a713f3daf",
       "version_major": 2,
       "version_minor": 0
      },
      "text/plain": [
       "HBox(children=(FloatProgress(value=0.0, max=300.0), HTML(value='')))"
      ]
     },
     "metadata": {},
     "output_type": "display_data"
    },
    {
     "name": "stdout",
     "output_type": "stream",
     "text": [
      "\n"
     ]
    },
    {
     "data": {
      "application/vnd.jupyter.widget-view+json": {
       "model_id": "07ab0c323fcd41cf80bb88ce4deef5eb",
       "version_major": 2,
       "version_minor": 0
      },
      "text/plain": [
       "HBox(children=(FloatProgress(value=0.0, max=300.0), HTML(value='')))"
      ]
     },
     "metadata": {},
     "output_type": "display_data"
    },
    {
     "name": "stdout",
     "output_type": "stream",
     "text": [
      "\n"
     ]
    },
    {
     "data": {
      "application/vnd.jupyter.widget-view+json": {
       "model_id": "2d8f76350fad4badbc602a090f0cd52b",
       "version_major": 2,
       "version_minor": 0
      },
      "text/plain": [
       "HBox(children=(FloatProgress(value=0.0, max=300.0), HTML(value='')))"
      ]
     },
     "metadata": {},
     "output_type": "display_data"
    },
    {
     "name": "stdout",
     "output_type": "stream",
     "text": [
      "\n"
     ]
    }
   ],
   "source": [
    "# var_g = [0, 0.1, 0.2, 0.3, 0.4, 0.5, 0.6, 0.7, 0.8, 0.9]\n",
    "var_g = [0]\n",
    "\n",
    "var_e_list = [0,0.2,0.4,0.6,0.8]\n",
    "number_trials = 80\n",
    "samples = 1000\n",
    "loci = 20\n",
    "precent_list =  []\n",
    "for var_g in var_g:\n",
    "    percent,confidence_int = shap_acc_LR_var(samples, loci,var_g,number_trials)\n",
    "    precent_list.append(percent)\n",
    "        \n",
    "        "
   ]
  },
  {
   "cell_type": "code",
   "execution_count": 50,
   "metadata": {},
   "outputs": [
    {
     "data": {
      "text/plain": [
       "[0.0, 0.0, 100.0, 100.0, 100.0, 100.0, 100.0, 100.0, 100.0, 100.0]"
      ]
     },
     "execution_count": 50,
     "metadata": {},
     "output_type": "execute_result"
    }
   ],
   "source": [
    "with open('/u/home/k/kevindel/project-ngarud/Kevin_BIG_Summer_Code/lasso_LR_oneloci/lasso_LR_SHAP_oneloci_0', 'wb') as fp:\n",
    "    pickle.dump(precent_list, fp)"
   ]
  },
  {
   "cell_type": "code",
   "execution_count": 26,
   "metadata": {},
   "outputs": [],
   "source": [
    "lasso_LR_list = []\n",
    "for i in range(1,10): \n",
    "    with open ('/Users/kevin/Desktop/UCLA_BIG_Code/Code_Data/Lasso_LR_OneLoci/lasso_LR_SHAP_oneloci_'+str(i), 'rb') as fp:\n",
    "        corr2list = pickle.load(fp)\n",
    "    lasso_LR_list.append(corr2list)"
   ]
  },
  {
   "cell_type": "code",
   "execution_count": 27,
   "metadata": {},
   "outputs": [
    {
     "data": {
      "text/plain": [
       "[[[78.0], [72.0], [68.0], [84.0], [72.0]],\n",
       " [[82.5], [80.0], [87.5], [90.0], [80.0]],\n",
       " [[85.0],\n",
       "  [88.33333333333333],\n",
       "  [80.0],\n",
       "  [83.33333333333334],\n",
       "  [88.33333333333333]],\n",
       " [[85.0], [82.5], [92.5], [95.0], [87.5]],\n",
       " [[90.0],\n",
       "  [88.33333333333333],\n",
       "  [85.0],\n",
       "  [88.33333333333333],\n",
       "  [81.66666666666667]],\n",
       " [[93.33333333333333],\n",
       "  [91.66666666666666],\n",
       "  [90.0],\n",
       "  [90.0],\n",
       "  [86.66666666666667]],\n",
       " [[93.33333333333333],\n",
       "  [85.0],\n",
       "  [88.33333333333333],\n",
       "  [91.66666666666666],\n",
       "  [81.66666666666667]],\n",
       " [[96.66666666666667],\n",
       "  [85.0],\n",
       "  [81.66666666666667],\n",
       "  [95.0],\n",
       "  [88.33333333333333]],\n",
       " [[96.66666666666667],\n",
       "  [90.0],\n",
       "  [91.66666666666666],\n",
       "  [93.33333333333333],\n",
       "  [95.0]]]"
      ]
     },
     "execution_count": 27,
     "metadata": {},
     "output_type": "execute_result"
    }
   ],
   "source": [
    "lasso_LR_list"
   ]
  },
  {
   "cell_type": "code",
   "execution_count": null,
   "metadata": {},
   "outputs": [],
   "source": []
  }
 ],
 "metadata": {
  "kernelspec": {
   "display_name": "Python 3",
   "language": "python",
   "name": "python3"
  },
  "language_info": {
   "codemirror_mode": {
    "name": "ipython",
    "version": 3
   },
   "file_extension": ".py",
   "mimetype": "text/x-python",
   "name": "python",
   "nbconvert_exporter": "python",
   "pygments_lexer": "ipython3",
   "version": "3.8.3"
  }
 },
 "nbformat": 4,
 "nbformat_minor": 4
}
