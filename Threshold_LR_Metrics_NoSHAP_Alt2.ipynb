{
 "cells": [
  {
   "cell_type": "code",
   "execution_count": null,
   "metadata": {},
   "outputs": [],
   "source": [
    "#this file plots the ROC for p-values"
   ]
  },
  {
   "cell_type": "code",
   "execution_count": 1,
   "metadata": {},
   "outputs": [],
   "source": [
    "import numpy as np\n",
    "import pandas as pd\n",
    "import random\n",
    "import shap\n",
    "from math import sqrt\n",
    "import matplotlib.pyplot as plt\n",
    "from sklearn import preprocessing\n",
    "from sklearn.model_selection import train_test_split\n",
    "import sklearn.metrics as metrics\n",
    "from sklearn.linear_model import LinearRegression\n",
    "import statsmodels.api as sm\n",
    "from sklearn import datasets, linear_model\n",
    "from sklearn.linear_model import LinearRegression\n",
    "import statsmodels.api as sm\n",
    "from scipy import stats\n",
    "from scipy import mean\n",
    "\n",
    "import warnings\n",
    "warnings.filterwarnings('ignore')\n",
    "\n",
    "import pickle"
   ]
  },
  {
   "cell_type": "code",
   "execution_count": 2,
   "metadata": {},
   "outputs": [],
   "source": [
    "#Simulate Genotype\n",
    "def simulate_genotype(samples_n, loci_m):\n",
    "    f_M = np.random.uniform(0,1,loci_m)\n",
    "    G = np.random.binomial(n=2,p = f_M, size = (samples_n,loci_m))\n",
    "    G = preprocessing.scale(G, axis=0)\n",
    "    \n",
    "    assert(len(G) == samples_n)\n",
    "    assert(len(G[0])== loci_m)\n",
    "    return G"
   ]
  },
  {
   "cell_type": "code",
   "execution_count": 3,
   "metadata": {},
   "outputs": [],
   "source": [
    "def simulate_genotype_and_phenotype(samples_n, loci_m,beta_g,e_noise):\n",
    "    G = simulate_genotype(samples_n, loci_m)\n",
    "    loci =random.randint(0,loci_m-1)\n",
    "    SNP = G[:,loci]\n",
    "    individuals = len(SNP)\n",
    "    b_i = beta_g\n",
    "    Y_n = np.zeros((individuals, 1))\n",
    "    for k in range(0, individuals):\n",
    "        #each individual will have a e_j(noise) value\n",
    "        e_j = np.random.normal(0, e_noise)\n",
    "        #G_ij will be the jth individual from our SNP for the loci of choce\n",
    "        G_ij  = SNP[k]\n",
    "        Y_j = b_i*G_ij + e_j\n",
    "        Y_n[k] = Y_j \n",
    "    y_max = np.max(Y_n)\n",
    "    y_max = abs(y_max)\n",
    "    Y_n = np.array(Y_n)\n",
    "    Y_n = Y_n/y_max\n",
    "    Y_n = Y_n.reshape(samples_n,1)\n",
    "    G = np.append(G, Y_n, axis=1)\n",
    "    return G, loci\n"
   ]
  },
  {
   "cell_type": "code",
   "execution_count": 4,
   "metadata": {},
   "outputs": [],
   "source": [
    "def shap_LR_tree_train(G):\n",
    "    X = G[:,0:len(G[0])-1]\n",
    "    y = G[:,len(G[0])-1]\n",
    "    x_train, x_test, y_train, y_test = train_test_split(X, y, test_size=0.3)\n",
    "    X2 = sm.add_constant(X)\n",
    "    est = sm.OLS(y, X)\n",
    "    est2 = est.fit()\n",
    "    p_vals = est2.pvalues[:]\n",
    "    p_vals = np.array(p_vals)\n",
    "    p_vals = p_vals.reshape(1,len(p_vals))\n",
    "    #did this so I dont work with a list of lists, returns an array\n",
    "    #that is easier to work with\n",
    "    p_vals = p_vals[0]\n",
    "    return p_vals"
   ]
  },
  {
   "cell_type": "code",
   "execution_count": 5,
   "metadata": {},
   "outputs": [],
   "source": [
    "def max_mean_feature(beta_vals):\n",
    "    indices = beta_vals.argsort()[-2:][::-1]\n",
    "    avg_beta_loci1 = beta_vals[indices[0]]\n",
    "    return indices[0], avg_beta_loci1"
   ]
  },
  {
   "cell_type": "code",
   "execution_count": 6,
   "metadata": {},
   "outputs": [],
   "source": [
    "def is_FP(P_vals,casual_loci_index,threshold):\n",
    "    for i in range (0, len(P_vals)):\n",
    "        if(i != casual_loci_index and P_vals[i] <= threshold ):\n",
    "            return True\n",
    "    return False\n"
   ]
  },
  {
   "cell_type": "code",
   "execution_count": 7,
   "metadata": {},
   "outputs": [],
   "source": [
    "def metrics_sum(P_vals,casual_loci_index,threshold):\n",
    "    TP = 0\n",
    "    FP = 0\n",
    "    TN = 0\n",
    "    FN = 0\n",
    "    for i in range (0, len(P_vals)):\n",
    "        #TP\n",
    "        if(i == casual_loci_index and P_vals[i] <= threshold):\n",
    "            TP = TP+1\n",
    "        #FN\n",
    "        elif(i == casual_loci_index and P_vals[i] > threshold):\n",
    "            FN =  FN+1\n",
    "        #TN\n",
    "        elif(i != casual_loci_index and P_vals[i] > threshold):\n",
    "            TN = TN+1\n",
    "        #FP\n",
    "        elif(i != casual_loci_index and P_vals[i] <= threshold):\n",
    "            FP = FP+1\n",
    "        else:\n",
    "            a = 1\n",
    "   \n",
    "    return TP,FP,TN,FN"
   ]
  },
  {
   "cell_type": "code",
   "execution_count": 16,
   "metadata": {},
   "outputs": [],
   "source": [
    "FPR_List_Total = []\n",
    "TPR_List_Total = []\n",
    "threshold_list = np.linspace(0,1,1000)\n",
    "var_g_list = [0.1, 0.2,0.3, 0.4, 0.5, 0.6, 0.7, 0.8, 0.9]\n",
    "var_e_list  =[0,.2,.4,.6,.8]\n",
    "samples = 1000\n",
    "features = 20\n",
    "# metric_lists_total =  []\n",
    "for var_e in var_e_list:\n",
    "    FPR_List = []\n",
    "    TPR_List = []\n",
    "    avg_SHAP_List = []\n",
    "    loci_list = []\n",
    "    for var_g in var_g_list:\n",
    "        G, loci = simulate_genotype_and_phenotype(samples,features, var_g , var_e)\n",
    "        loci_list.append(loci)\n",
    "        p_vals_holder = shap_LR_tree_train(G)\n",
    "        avg_SHAP_List.append(p_vals_holder)\n",
    "    for threshold in threshold_list:\n",
    "        TP = 0\n",
    "        FP = 0\n",
    "        TN = 0\n",
    "        FN = 0\n",
    "        for i in range(0,9):\n",
    "            avg_shap = avg_SHAP_List[i]   \n",
    "            loci_temp = loci_list[i]\n",
    "            metrics = metrics_sum(avg_shap,loci_temp,threshold)\n",
    "            TP = TP+metrics[0]\n",
    "            FP = FP+metrics[1]\n",
    "            TN = TN+metrics[2]\n",
    "            FN = FN+metrics[3]\n",
    "        TPR = TP/(TP+FN)\n",
    "        FPR = FP/(FP+TN)\n",
    "        FPR_List.append(FPR)\n",
    "        TPR_List.append(TPR)\n",
    "    FPR_List_Total.append(FPR_List)\n",
    "    TPR_List_Total.append(TPR_List) "
   ]
  },
  {
   "cell_type": "code",
   "execution_count": 9,
   "metadata": {},
   "outputs": [],
   "source": [
    "with open('/Users/kevin/Downloads/metrics_no_SHAP_FPR', 'wb') as fp:\n",
    "    pickle.dump(FPR_List_Total, fp)"
   ]
  },
  {
   "cell_type": "code",
   "execution_count": 10,
   "metadata": {},
   "outputs": [],
   "source": [
    "with open('/Users/kevin/Downloads/metrics_no_SHAP_TPR', 'wb') as fp:\n",
    "    pickle.dump(TPR_List_Total, fp)"
   ]
  },
  {
   "cell_type": "code",
   "execution_count": 11,
   "metadata": {},
   "outputs": [],
   "source": [
    "# with open ('/Users/kevin/Downloads/metrics_no_SHAP_FPR', 'rb') as fp:\n",
    "#     FPR_List_Total = pickle.load(fp)\n",
    "# with open ('/Users/kevin/Downloads/metrics_no_SHAP_TPR', 'rb') as fp:\n",
    "#     TPR_List_Total = pickle.load(fp)"
   ]
  },
  {
   "cell_type": "code",
   "execution_count": 17,
   "metadata": {},
   "outputs": [
    {
     "data": {
      "image/png": "[encoded data removed]",
      "text/plain": [
       "<Figure size 432x288 with 1 Axes>"
      ]
     },
     "metadata": {
      "needs_background": "light"
     },
     "output_type": "display_data"
    }
   ],
   "source": [
    "plt.figure()\n",
    "\n",
    "# Roc Curve:\n",
    "plt.plot(FPR_List_Total[0], TPR_List_Total[0], color='red', lw=2,\n",
    "         label='var_e = 0')\n",
    "plt.plot(FPR_List_Total[1], TPR_List_Total[1], color='green', lw=2,\n",
    "         label='var_e = .2')\n",
    "plt.plot(FPR_List_Total[2], TPR_List_Total[2], color='purple', lw=2,\n",
    "         label='var_e = .4')\n",
    "plt.plot(FPR_List_Total[3], TPR_List_Total[3], color='orange', lw=2, \n",
    "         label='var_e = .6')\n",
    "plt.plot(FPR_List_Total[4], TPR_List_Total[4], color='cyan', lw=2,\n",
    "         label='var_e = .8')\n",
    "# Random Guess line:\n",
    "plt.plot([0, 1], [0, 1], color='blue', lw=1, linestyle='--')\n",
    "\n",
    "# Defining The Range of X-Axis and Y-Axis:\n",
    "plt.xlim([0.0, 1.01])\n",
    "plt.ylim([0.0, 1.01])\n",
    "\n",
    "# Labels, Title, Legend:\n",
    "plt.xlabel('False Positive Rate')\n",
    "plt.ylabel('True Positive Rate')\n",
    "plt.title('P Values Receiver operating characteristic')\n",
    "plt.legend(loc=\"lower right\")\n",
    "plt.savefig('No_SHAP_ROC_Multiple_1000')\n",
    "\n",
    "plt.show()"
   ]
  },
  {
   "cell_type": "code",
   "execution_count": null,
   "metadata": {},
   "outputs": [],
   "source": []
  }
 ],
 "metadata": {
  "kernelspec": {
   "display_name": "Python 3",
   "language": "python",
   "name": "python3"
  },
  "language_info": {
   "codemirror_mode": {
    "name": "ipython",
    "version": 3
   },
   "file_extension": ".py",
   "mimetype": "text/x-python",
   "name": "python",
   "nbconvert_exporter": "python",
   "pygments_lexer": "ipython3",
   "version": "3.8.3"
  }
 },
 "nbformat": 4,
 "nbformat_minor": 4
}
