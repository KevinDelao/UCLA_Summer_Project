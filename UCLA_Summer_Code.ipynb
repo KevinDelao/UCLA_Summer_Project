{
 "cells": [
  {
   "cell_type": "code",
   "execution_count": 1,
   "metadata": {},
   "outputs": [],
   "source": [
    "import numpy as np\n",
    "import pandas as pd\n",
    "import random\n",
    "import shap\n",
    "from math import sqrt\n",
    "import matplotlib.pyplot as plt\n",
    "from sklearn import preprocessing"
   ]
  },
  {
   "cell_type": "code",
   "execution_count": 2,
   "metadata": {},
   "outputs": [
    {
     "name": "stdout",
     "output_type": "stream",
     "text": [
      "[ 0.88640526 -0.92295821 -1.040833    1.040833    1.040833    0.96076892\n",
      "  0.96076892 -1.06191317 -0.96076892 -0.98019606  1.06191317 -1.1751393\n",
      " -0.92295821 -1.06191317 -1.15133896 -0.98019606  0.98019606 -0.94169658\n",
      " -1.12815215  1.08347268  1.02020406 -1.08347268 -1.08347268 -0.98019606\n",
      " -1.08347268 -1.02020406 -0.96076892 -1.27733275  0.79959006 -0.88640526\n",
      " -0.85096294 -1.          0.96076892 -1.040833   -0.90453403 -1.08347268\n",
      "  1.040833   -1.040833   -0.90453403 -0.96076892 -1.08347268 -0.90453403\n",
      " -0.96076892 -0.85096294 -0.94169658 -0.88640526 -0.92295821 -1.02020406\n",
      " -0.98019606  1.19959343]\n"
     ]
    }
   ],
   "source": [
    "#individuals\n",
    "n = 50\n",
    "#loci\n",
    "m = 100\n",
    "\n",
    "\n",
    "#here every matrix entree has to be zero or one, with having a f_i probability to get selected\n",
    "#frequency of alleles, random uniform distribution between 0 and 1, with m samples\n",
    "f_M = np.random.uniform(0,1,m)\n",
    "\n",
    "#initialize G matrix\n",
    "G = np.zeros((n, m));\n",
    "\n",
    "#will be used to flip a coin based on f_i\n",
    "#higher f_i frequency = higher chance of returning true\n",
    "def loci_frequency_flip(f_i):\n",
    "    return random.random() < f_i\n",
    "\n",
    "# #here im \"fliiping\" the coin only for the SNP\n",
    "# for k in range(0, len(SNP)):\n",
    "#     if(loci_frequency_flip(f_i)):\n",
    "#         SNP[k] = 1\n",
    "\n",
    "#use this if I wanted to populate entire G matrix\n",
    "#k are the colums(loci)\n",
    "for k in range (0, len(G[0])):\n",
    "    # j are the rows(individuals)\n",
    "    for j in range (0, len(G)):\n",
    "        #frequency of loci k we are currently on\n",
    "        if(loci_frequency_flip(f_M[k])):\n",
    "            G[j,k] = 1\n",
    "\n",
    "G = preprocessing.scale(G, axis=1)\n",
    "# choose random SNP\n",
    "loci =random.randint(0,m-1)\n",
    "\n",
    "#frequency of that loci from our uniform distribution\n",
    "f_i = f_M[loci]\n",
    "\n",
    "#select SNP\n",
    "SNP = G[:,loci]\n",
    "\n",
    "print(SNP)"
   ]
  },
  {
   "cell_type": "code",
   "execution_count": 3,
   "metadata": {},
   "outputs": [],
   "source": [
    "\n",
    "# mean and standard deviation\n",
    "H=0\n",
    "#assumes that we are making a Y_j for every individual in the SNP and \n",
    "#in each loop we choose a e_j for that person\n",
    "def Simulate_Phenotype_PerPerson(SNP,var_e,var_g):\n",
    "    \n",
    "    #rows are the loci so each person has a row of different loci\n",
    "    individuals = len(SNP)\n",
    "    \n",
    "    #where columns are the individuals\n",
    "    mean = 0 \n",
    "    \n",
    "    #because we are given variance and python random.normal only accepts std, we need to convert variance to std\n",
    "    sigma_e = sqrt(var_e)\n",
    "    sigma_b = sqrt(var_g)\n",
    "    \n",
    "    #b_i = loci effect on phenotype\n",
    "    b_i = np.random.normal(0, sigma_b)\n",
    "    Y_n = np.zeros((individuals, 1));\n",
    "    \n",
    "    for k in range(0, individuals):\n",
    "        #each individual will have a random e_j(noise) value\n",
    "        e_j = np.random.normal(0, sigma_e)\n",
    "        #G_ij will be the jth individual from our SNP for the loci of choce\n",
    "        G_ij  = SNP[k]\n",
    "        Y_j = b_i*G_ij + e_j\n",
    "        Y_n[k] = Y_j \n",
    "    H= var_g/(var_g+var_e)\n",
    "    return Y_n,H\n"
   ]
  },
  {
   "cell_type": "code",
   "execution_count": 4,
   "metadata": {},
   "outputs": [],
   "source": [
    "Y,H = Simulate_Phenotype_PerPerson(SNP,.1,.1)"
   ]
  },
  {
   "cell_type": "code",
   "execution_count": 5,
   "metadata": {},
   "outputs": [
    {
     "name": "stdout",
     "output_type": "stream",
     "text": [
      "Phenotypes for loci 89 are [[-0.07218481]\n",
      " [-0.22599387]\n",
      " [ 0.51983749]\n",
      " [ 0.45020591]\n",
      " [-0.24417122]\n",
      " [-0.64266346]\n",
      " [ 0.14071242]\n",
      " [-0.10961737]\n",
      " [-0.09290085]\n",
      " [-0.11284591]\n",
      " [-0.58978497]\n",
      " [-0.11840309]\n",
      " [-0.0837263 ]\n",
      " [-0.23348087]\n",
      " [ 0.19553832]\n",
      " [ 0.60966242]\n",
      " [-0.37447464]\n",
      " [-0.26715208]\n",
      " [ 0.329224  ]\n",
      " [ 0.36825788]\n",
      " [-0.02928917]\n",
      " [ 0.0516123 ]\n",
      " [ 0.05893922]\n",
      " [ 0.05088345]\n",
      " [-0.16224043]\n",
      " [ 0.43896282]\n",
      " [-0.08443412]\n",
      " [-0.56428378]\n",
      " [-0.79919292]\n",
      " [ 0.31699734]\n",
      " [ 0.36313099]\n",
      " [ 0.51705519]\n",
      " [ 1.02344005]\n",
      " [-0.19783704]\n",
      " [ 0.1373115 ]\n",
      " [ 0.10734524]\n",
      " [-0.02725644]\n",
      " [-0.02744624]\n",
      " [ 0.20984489]\n",
      " [ 0.46439267]\n",
      " [ 0.1238894 ]\n",
      " [-0.09007953]\n",
      " [ 0.20916397]\n",
      " [-0.04398145]\n",
      " [-0.19150396]\n",
      " [ 0.18783888]\n",
      " [ 0.15556361]\n",
      " [ 0.29499125]\n",
      " [ 0.38881054]\n",
      " [-0.22357208]]\n"
     ]
    }
   ],
   "source": [
    "#third function assumes that for each person j in M we make a phenotype Y_j\n",
    "print('Phenotypes for loci '+str(loci)+' are '+str(Y))"
   ]
  },
  {
   "cell_type": "code",
   "execution_count": 6,
   "metadata": {},
   "outputs": [],
   "source": [
    "G = np.append(G, Y, axis=1)"
   ]
  },
  {
   "cell_type": "code",
   "execution_count": 7,
   "metadata": {},
   "outputs": [
    {
     "data": {
      "image/png": "[encoded data removed]",
      "text/plain": [
       "<Figure size 432x288 with 1 Axes>"
      ]
     },
     "metadata": {
      "needs_background": "light"
     },
     "output_type": "display_data"
    }
   ],
   "source": [
    "#use this to see distribution of f_i frequency\n",
    "bin_size = 20\n",
    "count, bins, ignored = plt.hist(f_M, 20, facecolor='blue') \n",
    "\n",
    "plt.xlabel('X [0,1]')\n",
    "plt.ylabel('Count')\n",
    "plt.title(\"Uniform Distribution For Loci Frequency Bin size: \"+str(bin_size))\n",
    "plt.axis([0, 1, 0, 100]) # x_start, x_end, y_start, y_end\n",
    "plt.grid(True)\n",
    "\n",
    "plt.show(block = False)"
   ]
  },
  {
   "cell_type": "code",
   "execution_count": 8,
   "metadata": {},
   "outputs": [],
   "source": [
    "#starting machine learning classification\n",
    "from sklearn.model_selection import train_test_split\n",
    "import sklearn.metrics as metrics\n",
    "from sklearn.tree import DecisionTreeClassifier\n",
    "from sklearn.ensemble import RandomForestClassifier\n",
    "from sklearn.svm import SVR\n",
    "from sklearn.metrics import accuracy_score\n",
    "from sklearn import svm"
   ]
  },
  {
   "cell_type": "code",
   "execution_count": 9,
   "metadata": {},
   "outputs": [],
   "source": [
    "#split data into test and train\n",
    "X = G[:,0:len(G[0])-2]\n",
    "\n",
    "#last column is the appended Y vector we predicted\n",
    "y = G[:,len(G[0])-1]\n",
    "\n",
    "#split the data\n",
    "x_train, x_test, y_train, y_test = train_test_split(X, y, test_size=0.3, random_state=7)"
   ]
  },
  {
   "cell_type": "code",
   "execution_count": 10,
   "metadata": {},
   "outputs": [],
   "source": [
    "#regression model of SVM with RBF kernal\n",
    "svr_rbf = SVR(kernel='rbf', C=100, gamma=0.1, epsilon=.1)"
   ]
  },
  {
   "cell_type": "code",
   "execution_count": 11,
   "metadata": {},
   "outputs": [],
   "source": [
    "# train the model\n",
    "svr_rbf.fit(x_train, y_train)\n",
    "\n",
    "#test the model on test data\n",
    "y_predict = svr_rbf.predict(x_test)"
   ]
  },
  {
   "cell_type": "code",
   "execution_count": 12,
   "metadata": {},
   "outputs": [
    {
     "name": "stdout",
     "output_type": "stream",
     "text": [
      "Mean absolute error = 0.32\n",
      "Mean squared error = 0.17\n",
      "Root Mean squared error = 0.41231056256176607\n",
      "Median absolute error = 0.27\n",
      "Explain variance score = 0.0\n",
      "R2 score = -0.0\n"
     ]
    }
   ],
   "source": [
    "#Evaluate the regression model\n",
    "import sklearn.metrics as sm\n",
    "print(\"Mean absolute error =\", round(sm.mean_absolute_error(y_test, y_predict), 2)) \n",
    "print(\"Mean squared error =\", round(sm.mean_squared_error(y_test, y_predict), 2)) \n",
    "print(\"Root Mean squared error =\", sqrt(round(sm.mean_squared_error(y_test, y_predict), 2)))\n",
    "print(\"Median absolute error =\", round(sm.median_absolute_error(y_test, y_predict), 2)) \n",
    "print(\"Explain variance score =\", round(sm.explained_variance_score(y_test, y_predict), 2)) \n",
    "print(\"R2 score =\", round(sm.r2_score(y_test, y_predict), 2))"
   ]
  },
  {
   "cell_type": "code",
   "execution_count": null,
   "metadata": {},
   "outputs": [],
   "source": []
  }
 ],
 "metadata": {
  "kernelspec": {
   "display_name": "Python 3",
   "language": "python",
   "name": "python3"
  },
  "language_info": {
   "codemirror_mode": {
    "name": "ipython",
    "version": 3
   },
   "file_extension": ".py",
   "mimetype": "text/x-python",
   "name": "python",
   "nbconvert_exporter": "python",
   "pygments_lexer": "ipython3",
   "version": "3.7.4"
  }
 },
 "nbformat": 4,
 "nbformat_minor": 2
}
