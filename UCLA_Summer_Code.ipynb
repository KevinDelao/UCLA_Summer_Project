{
 "cells": [
  {
   "cell_type": "code",
   "execution_count": 1,
   "metadata": {},
   "outputs": [],
   "source": [
    "import numpy as np\n",
    "import pandas as pd\n",
    "import random"
   ]
  },
  {
   "cell_type": "code",
   "execution_count": 2,
   "metadata": {},
   "outputs": [
    {
     "name": "stdout",
     "output_type": "stream",
     "text": [
      "[1. 1. 0. 0. 0. 1. 1. 1. 1. 0. 0. 0. 1. 0. 0. 1. 0. 1. 1. 1. 1. 1. 1. 1.\n",
      " 0. 0. 1. 1. 1. 1. 0. 1. 0. 1. 1. 0. 1. 1. 1. 0. 1. 1. 1. 1. 1. 1. 0. 1.\n",
      " 1. 1.]\n"
     ]
    }
   ],
   "source": [
    "#individuals\n",
    "n = 50\n",
    "#loci\n",
    "m = 100\n",
    "\n",
    "\n",
    "#here every matrix entree has to be zero or one, with having a f_i probability to get selected\n",
    "\n",
    "#G = np.random.choice([0, 1], size=(n,m), p=[f_zero, f_i])\n",
    "\n",
    "#frequency of alleles, random uniform distribution between 0 and 1, with m samples\n",
    "f_M = np.random.uniform(0,1,m)\n",
    "#initialize G matrix\n",
    "G = np.zeros((n, m));\n",
    "\n",
    "# choose random SNP\n",
    "loci =random.randint(0,m-1)\n",
    "#frequency of that loci from our uniform distribution\n",
    "f_i = f_M[loci]\n",
    "#select SNP\n",
    "SNP = G[:,loci]\n",
    "#will be used to flip a coin based on f_i\n",
    "def loci_frequency_flip(f_i):\n",
    "    return random.random() < f_i\n",
    "\n",
    "for k in range(0, len(SNP)):\n",
    "    if(loci_frequency_flip(f_i)):\n",
    "        SNP[k] = 1\n",
    "    \n",
    "#Random Array of Zeros and Ones, no frequency\n",
    "#G = np.random.choice([0, 1], size=(n,m))\n",
    "print(SNP)"
   ]
  },
  {
   "cell_type": "code",
   "execution_count": 3,
   "metadata": {},
   "outputs": [],
   "source": [
    "from math import sqrt\n",
    "import random\n",
    "\n",
    "# mean and standard deviation\n",
    "H=0\n",
    "\n",
    "#third interpretation, this assumes that we are making a Y_j for every individual and \n",
    "#in each loop we choose a random variant for that person\n",
    "def Simulate_Phenotype_PerPerson(SNP,var_e,var_g):\n",
    "    #rows are the loci so each person has a row of different loci\n",
    "    individuals = len(SNP)\n",
    "    #where columns are the individuals\n",
    "    mean = 0 \n",
    "    #because we are given variance and python random.normal only accepts std, we need to convert variance to std\n",
    "    sigma_e = sqrt(var_e)\n",
    "    sigma_b = sqrt(var_g)\n",
    "    #b_i = loci effect on phenotype\n",
    "    b_i = np.random.normal(0, sigma_b)\n",
    "    Y_n = np.zeros((individuals, 1));\n",
    "    for k in range(0, individuals):\n",
    "        #each individual will have a random e_j value\n",
    "        e_j = np.random.normal(0, sigma_e)\n",
    "        #G_ij will be the jth individual from our SNP for the loci of choce\n",
    "        G_ij  = SNP[k]\n",
    "        Y_j = b_i*G_ij + e_j\n",
    "        Y_n[k] = Y_j \n",
    "    H= var_g/(var_g+var_e)\n",
    "    return Y_n,H\n",
    "\n"
   ]
  },
  {
   "cell_type": "code",
   "execution_count": 4,
   "metadata": {},
   "outputs": [],
   "source": [
    "Y,H = Simulate_Phenotype_PerPerson(SNP,.1,.1)"
   ]
  },
  {
   "cell_type": "code",
   "execution_count": 5,
   "metadata": {},
   "outputs": [
    {
     "name": "stdout",
     "output_type": "stream",
     "text": [
      "Phenotypes for loci 16 are [[ 0.24788936]\n",
      " [-0.04842468]\n",
      " [ 0.34165186]\n",
      " [-0.19087957]\n",
      " [-0.07397595]\n",
      " [ 0.04890424]\n",
      " [ 0.46148309]\n",
      " [ 0.66719266]\n",
      " [ 0.82206678]\n",
      " [ 0.26895893]\n",
      " [-0.34604499]\n",
      " [-0.08823366]\n",
      " [ 0.3140577 ]\n",
      " [-0.32139498]\n",
      " [-0.3083751 ]\n",
      " [ 0.65282344]\n",
      " [ 0.47921147]\n",
      " [ 0.40400036]\n",
      " [ 0.2787865 ]\n",
      " [ 0.25847665]\n",
      " [ 0.34827602]\n",
      " [ 0.05562069]\n",
      " [ 0.31704751]\n",
      " [ 0.41261379]\n",
      " [-0.01547405]\n",
      " [ 0.41098799]\n",
      " [ 0.90640899]\n",
      " [ 0.70695615]\n",
      " [-0.15682674]\n",
      " [ 0.52029742]\n",
      " [-0.28136197]\n",
      " [ 0.56116518]\n",
      " [-0.09528195]\n",
      " [-0.12808685]\n",
      " [ 0.88227108]\n",
      " [ 0.17426931]\n",
      " [ 1.06490359]\n",
      " [ 0.25844242]\n",
      " [ 0.0202651 ]\n",
      " [-0.15643734]\n",
      " [ 0.48696903]\n",
      " [ 0.40531941]\n",
      " [ 0.82976934]\n",
      " [ 0.36215034]\n",
      " [ 0.95969411]\n",
      " [ 0.15015827]\n",
      " [-0.08837257]\n",
      " [ 0.83352516]\n",
      " [ 0.608235  ]\n",
      " [ 0.42919591]]\n"
     ]
    }
   ],
   "source": [
    "#third function assumes that for each person j in M we make a phenotype Y_j\n",
    "print('Phenotypes for loci '+str(loci)+' are '+str(Y))"
   ]
  },
  {
   "cell_type": "code",
   "execution_count": 6,
   "metadata": {},
   "outputs": [],
   "source": [
    "# append Y predictions to G matrix\n",
    "G = np.append(G, Y, axis=1)"
   ]
  },
  {
   "cell_type": "code",
   "execution_count": 7,
   "metadata": {},
   "outputs": [
    {
     "data": {
      "image/png": "[encoded data removed]",
      "text/plain": [
       "<Figure size 432x288 with 1 Axes>"
      ]
     },
     "metadata": {
      "needs_background": "light"
     },
     "output_type": "display_data"
    }
   ],
   "source": [
    "#use this to see distribution og f_i frequency\n",
    "import matplotlib.pyplot as plt\n",
    "bin_size = 20\n",
    "count, bins, ignored = plt.hist(f_M, 20, facecolor='blue') \n",
    "\n",
    "plt.xlabel('X [0,1]')\n",
    "plt.ylabel('Count')\n",
    "plt.title(\"Uniform Distribution For Loci Frequency Bin size: \"+str(bin_size))\n",
    "plt.axis([0, 1, 0, 100]) # x_start, x_end, y_start, y_end\n",
    "plt.grid(True)\n",
    "\n",
    "plt.show(block = False)"
   ]
  },
  {
   "cell_type": "code",
   "execution_count": null,
   "metadata": {},
   "outputs": [],
   "source": []
  }
 ],
 "metadata": {
  "kernelspec": {
   "display_name": "Python 3",
   "language": "python",
   "name": "python3"
  },
  "language_info": {
   "codemirror_mode": {
    "name": "ipython",
    "version": 3
   },
   "file_extension": ".py",
   "mimetype": "text/x-python",
   "name": "python",
   "nbconvert_exporter": "python",
   "pygments_lexer": "ipython3",
   "version": "3.7.4"
  }
 },
 "nbformat": 4,
 "nbformat_minor": 2
}
