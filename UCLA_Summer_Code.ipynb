{
 "cells": [
  {
   "cell_type": "code",
   "execution_count": 1,
   "metadata": {},
   "outputs": [],
   "source": [
    "import numpy as np\n",
    "import pandas as pd"
   ]
  },
  {
   "cell_type": "code",
   "execution_count": 2,
   "metadata": {},
   "outputs": [
    {
     "name": "stdout",
     "output_type": "stream",
     "text": [
      "[[1 1 1 1 1]\n",
      " [1 1 1 1 0]\n",
      " [0 1 1 1 1]\n",
      " [1 1 1 1 1]\n",
      " [0 1 0 1 0]\n",
      " [1 1 0 1 1]\n",
      " [0 1 0 1 1]\n",
      " [1 1 1 1 0]\n",
      " [1 0 1 1 1]\n",
      " [1 1 1 0 1]]\n"
     ]
    }
   ],
   "source": [
    "#samples\n",
    "n = 10\n",
    "#variants\n",
    "m = 5\n",
    "#frequency of 1\n",
    "f_i = 3./4\n",
    "#whatever is left is frequency for zero\n",
    "f_zero = 1-f_i\n",
    "\n",
    "G = np.random.choice([0, 1], size=(n,m), p=[f_zero, f_i])\n",
    "#Random Array of Zeros and Ones, no frequency\n",
    "#G = np.random.choice([0, 1], size=(n,m))\n",
    "print(G)"
   ]
  },
  {
   "cell_type": "code",
   "execution_count": 23,
   "metadata": {},
   "outputs": [],
   "source": [
    "from math import sqrt\n",
    "import random\n",
    "\n",
    "# mean and standard deviation\n",
    "Y=[]\n",
    "H=0\n",
    "def Make_PhenoType(G,var_e,var_g):\n",
    "    rows = len(G)\n",
    "    columns = len(G[0])\n",
    "    mean = 0 \n",
    "    sigma_e = sqrt(var_e)\n",
    "    sigma_b = sqrt(var_g)\n",
    "    b_i = np.random.normal(0, sigma_b)\n",
    "    Y =[]\n",
    "    for k in range(0, columns+1):\n",
    "        #samples =1000\n",
    "        e_j = np.random.normal(0, sigma_e)\n",
    "        i = random.randint(0,rows-1)\n",
    "        j = random.randint(0,columns-1)\n",
    "        #Assuming G_ij = SNP, pick a random G entree\n",
    "        G_ij  = G[i,j]\n",
    "        Y_j = b_i*G_ij + e_j\n",
    "        Y.append(Y_j)\n",
    "        H= var_g/(var_g+var_e)\n",
    "\n",
    "    return Y,H\n",
    "    "
   ]
  },
  {
   "cell_type": "code",
   "execution_count": 24,
   "metadata": {},
   "outputs": [],
   "source": [
    "Y,H= Make_PhenoType(G,.1,.1)"
   ]
  },
  {
   "cell_type": "code",
   "execution_count": 25,
   "metadata": {},
   "outputs": [
    {
     "data": {
      "text/plain": [
       "[0.356504562809019,\n",
       " 0.024478014390938524,\n",
       " -0.21139099033010095,\n",
       " -0.2967073596138386,\n",
       " 0.2912347293339032,\n",
       " -0.2909822808132354]"
      ]
     },
     "execution_count": 25,
     "metadata": {},
     "output_type": "execute_result"
    }
   ],
   "source": [
    "Y"
   ]
  },
  {
   "cell_type": "code",
   "execution_count": null,
   "metadata": {},
   "outputs": [],
   "source": []
  }
 ],
 "metadata": {
  "kernelspec": {
   "display_name": "Python 3",
   "language": "python",
   "name": "python3"
  },
  "language_info": {
   "codemirror_mode": {
    "name": "ipython",
    "version": 3
   },
   "file_extension": ".py",
   "mimetype": "text/x-python",
   "name": "python",
   "nbconvert_exporter": "python",
   "pygments_lexer": "ipython3",
   "version": "3.7.4"
  }
 },
 "nbformat": 4,
 "nbformat_minor": 2
}
