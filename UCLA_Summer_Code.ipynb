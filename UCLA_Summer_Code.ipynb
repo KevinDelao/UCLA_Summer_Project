{
 "cells": [
  {
   "cell_type": "code",
   "execution_count": 20,
   "metadata": {},
   "outputs": [],
   "source": [
    "#Imports\n",
    "import numpy as np\n",
    "import pandas as pd\n",
    "from scipy.stats import uniform\n",
    "import random"
   ]
  },
  {
   "cell_type": "code",
   "execution_count": 5,
   "metadata": {},
   "outputs": [],
   "source": [
    "#Variables\n",
    "#Number of samples \n",
    "n = 10\n",
    "#Number of loci\n",
    "m = 10\n",
    "#Variance of effect\n",
    "var_g = 1\n",
    "#Variance environment\n",
    "var_e = 1"
   ]
  },
  {
   "cell_type": "code",
   "execution_count": 16,
   "metadata": {},
   "outputs": [
    {
     "data": {
      "text/plain": [
       "array([[1, 1, 1, 1, 1, 1, 1, 1, 1, 1],\n",
       "       [1, 1, 1, 0, 0, 0, 0, 1, 1, 0],\n",
       "       [0, 1, 0, 1, 1, 1, 1, 1, 1, 0],\n",
       "       [0, 1, 0, 0, 1, 0, 0, 1, 0, 1],\n",
       "       [1, 0, 1, 1, 0, 0, 1, 1, 1, 1],\n",
       "       [1, 1, 1, 1, 1, 1, 0, 1, 1, 1],\n",
       "       [1, 1, 1, 1, 1, 1, 1, 1, 1, 1],\n",
       "       [0, 1, 1, 1, 1, 1, 1, 0, 1, 1],\n",
       "       [0, 0, 1, 1, 0, 1, 0, 1, 1, 1],\n",
       "       [1, 1, 0, 1, 1, 1, 1, 1, 1, 0]])"
      ]
     },
     "execution_count": 16,
     "metadata": {},
     "output_type": "execute_result"
    }
   ],
   "source": [
    "#Function to generate genotype\n",
    "def simulate_genotype(n,m):\n",
    "    '''\n",
    "    #How to use specific frequency per column\n",
    "    f_i = list(np.random.uniform(0,1,n))\n",
    "    f_0 = []\n",
    "    for x in range(0, n):\n",
    "        f_0.append(1-f_i[x])\n",
    "    '''\n",
    "    f_i = 3./4\n",
    "    #whatever is left is frequency for zero\n",
    "    f_zero = 1-f_i\n",
    "    G = np.random.choice([0, 1], size=(n,m), p=[f_zero, f_i])\n",
    "    return G\n",
    "\n",
    "simulate_genotype(n,m)    "
   ]
  },
  {
   "cell_type": "code",
   "execution_count": 25,
   "metadata": {},
   "outputs": [
    {
     "data": {
      "text/plain": [
       "[-0.8905774122022598,\n",
       " -1.5753586721196846,\n",
       " -0.8760728691232762,\n",
       " 1.85376842663406,\n",
       " -0.8676723643763448,\n",
       " -0.7189685484701113,\n",
       " -0.8111292516684568,\n",
       " 0.9981463876833524,\n",
       " -0.25963230680470345,\n",
       " -0.00551525079766127]"
      ]
     },
     "execution_count": 25,
     "metadata": {},
     "output_type": "execute_result"
    }
   ],
   "source": [
    "#Function to generate phenotype\n",
    "def simulate_phenotype(G, var_g, var_e):\n",
    "    b_i  = np.random.normal(0, var_g)\n",
    "    random_SNP = random.randint(0, len(G[0])-1)\n",
    "    Y = []\n",
    "    for i in range(0, len(G)):\n",
    "        e_j = np.random.normal(0, var_e)\n",
    "        Y.append(b_i*G[i][random_SNP] + e_j)\n",
    "    return Y\n",
    "simulate_phenotype(G, var_g, var_e)\n",
    "\n",
    "#Should -ve phenotype values be possible?"
   ]
  }
 ],
 "metadata": {
  "kernelspec": {
   "display_name": "Python 3",
   "language": "python",
   "name": "python3"
  },
  "language_info": {
   "codemirror_mode": {
    "name": "ipython",
    "version": 3
   },
   "file_extension": ".py",
   "mimetype": "text/x-python",
   "name": "python",
   "nbconvert_exporter": "python",
   "pygments_lexer": "ipython3",
   "version": "3.7.1"
  }
 },
 "nbformat": 4,
 "nbformat_minor": 2
}
