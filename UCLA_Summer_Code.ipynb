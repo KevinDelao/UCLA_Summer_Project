{
 "cells": [
  {
   "cell_type": "code",
   "execution_count": 34,
   "metadata": {},
   "outputs": [],
   "source": [
    "#Imports\n",
    "import numpy as np\n",
    "import pandas as pd\n",
    "from scipy.stats import uniform\n",
    "import random\n",
    "import matplotlib.pyplot as plt"
   ]
  },
  {
   "cell_type": "code",
   "execution_count": 3,
   "metadata": {},
   "outputs": [],
   "source": [
    "#Variables\n",
    "#Number of samples \n",
    "n = 10\n",
    "#Number of loci\n",
    "m = 10\n",
    "#Variance of effect\n",
    "var_g = 1\n",
    "#Variance environment\n",
    "var_e = 1"
   ]
  },
  {
   "cell_type": "code",
   "execution_count": 31,
   "metadata": {},
   "outputs": [],
   "source": [
    "#Function set up \n",
    "#Function to generate genotype\n",
    "def simulate_genotype(n,m):\n",
    "    G= []\n",
    "    f_i = list(np.random.uniform(0,1,m))\n",
    "    for x in range(0,m):\n",
    "        f_1 = f_i[x]\n",
    "        f_0 = 1 - f_i[x]\n",
    "        row = (np.random.choice([1, 0], n, p = [f_1, f_0]))\n",
    "        newrow = row.tolist()\n",
    "        G.append(newrow)\n",
    "    #Transpose Matrix    \n",
    "    finalG = np.array(G)\n",
    "    np.transpose(G)\n",
    "    \n",
    "    assert len(G) == n, \"Error in simulate_genotype\"\n",
    "    assert len(G[0]) == m, \"Error in simulate_genotype\"\n",
    "    return G\n",
    "\n",
    "\n",
    "#Function to generate phenotype\n",
    "# Y_j = (b_i * G_ij) + e_j\n",
    "def simulate_phenotype(G, var_g, var_e):\n",
    "    #Select causal SNP and it's b_i (effect)\n",
    "    random_SNP = random.randint(0, len(G[0])-1) #Causal SNP\n",
    "    b_i = np.random.normal(0, var_g)\n",
    "    Y_j = []\n",
    "    for i in range(0, len(G)):\n",
    "        e_j = np.random.normal(0, var_e) #Environmental variance\n",
    "        Y_j.append(b_i*G[i][random_SNP] + e_j)\n",
    "    return Y_j\n",
    "\n",
    "def return_heritability(var_g, var_e):\n",
    "    return var_g/(var_g + var_e)"
   ]
  },
  {
   "cell_type": "code",
   "execution_count": 38,
   "metadata": {},
   "outputs": [],
   "source": [
    "#Function to check if simulated genotype follows uniform distribution\n",
    "def simulated_genotype_check(G):\n",
    "    for g in G:\n",
    "        f_1 = sum(g)\n",
    "        probf = f_1 / len(g)\n",
    "simulated_genotype_check(G)        "
   ]
  },
  {
   "cell_type": "code",
   "execution_count": 32,
   "metadata": {},
   "outputs": [
    {
     "name": "stdout",
     "output_type": "stream",
     "text": [
      "Genotype\n",
      "[[1, 1, 1, 1, 1, 1, 1, 1, 1, 1], [0, 0, 0, 0, 0, 1, 0, 0, 1, 0], [1, 1, 0, 0, 1, 0, 0, 0, 0, 1], [1, 0, 1, 1, 1, 1, 1, 1, 1, 1], [1, 0, 1, 1, 1, 1, 1, 1, 1, 1], [0, 0, 0, 0, 0, 1, 1, 0, 0, 0], [0, 1, 0, 0, 0, 0, 0, 1, 1, 0], [1, 1, 1, 1, 0, 1, 0, 1, 1, 1], [1, 1, 0, 0, 0, 0, 0, 1, 0, 0], [0, 0, 0, 1, 0, 0, 0, 0, 1, 1]]\n",
      "Phenotype\n",
      "[1.7609958122381202, -0.4221888971023841, 0.07608691189692457, -0.4403222951312129, -0.25276879830424065, 2.420243709143701, -0.44109617688164904, -0.4372633454809699, 0.032170799388373555, -0.7566638909870778]\n",
      "Heritablity\n",
      "0.5\n"
     ]
    }
   ],
   "source": [
    "#Test Functions\n",
    "print(\"Genotype\")\n",
    "G = simulate_genotype(n,m)\n",
    "print(G)\n",
    "print(\"Phenotype\")\n",
    "Y = simulate_phenotype(G, var_g, var_e)\n",
    "print(Y)\n",
    "print(\"Heritablity\")\n",
    "heritability = return_heritability(var_g, var_e)\n",
    "print(heritability)"
   ]
  },
  {
   "cell_type": "code",
   "execution_count": null,
   "metadata": {},
   "outputs": [],
   "source": []
  },
  {
   "cell_type": "code",
   "execution_count": 11,
   "metadata": {},
   "outputs": [
    {
     "data": {
      "text/plain": [
       "array([[ 1,  4,  5, 12],\n",
       "       [-5,  8,  9,  0],\n",
       "       [-6,  7, 11, 19]])"
      ]
     },
     "execution_count": 11,
     "metadata": {},
     "output_type": "execute_result"
    }
   ],
   "source": []
  }
 ],
 "metadata": {
  "kernelspec": {
   "display_name": "Python 3",
   "language": "python",
   "name": "python3"
  },
  "language_info": {
   "codemirror_mode": {
    "name": "ipython",
    "version": 3
   },
   "file_extension": ".py",
   "mimetype": "text/x-python",
   "name": "python",
   "nbconvert_exporter": "python",
   "pygments_lexer": "ipython3",
   "version": "3.7.1"
  }
 },
 "nbformat": 4,
 "nbformat_minor": 2
}
