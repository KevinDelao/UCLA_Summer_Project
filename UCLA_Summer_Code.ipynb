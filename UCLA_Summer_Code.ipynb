{
 "cells": [
  {
   "cell_type": "code",
   "execution_count": 1,
   "metadata": {},
   "outputs": [],
   "source": [
    "import numpy as np\n",
    "import pandas as pd\n",
    "import random\n",
    "import shap\n",
    "from math import sqrt\n",
    "import matplotlib.pyplot as plt\n",
    "from sklearn import preprocessing"
   ]
  },
  {
   "cell_type": "code",
   "execution_count": 2,
   "metadata": {},
   "outputs": [
    {
     "name": "stdout",
     "output_type": "stream",
     "text": [
      "[ 0.92295821  1.06191317  1.02020406  1.06191317  0.94169658  0.96076892\n",
      " -1.08347268  1.040833    1.          0.94169658  1.1055416   1.\n",
      "  0.96076892  0.96076892  0.96076892  1.1751393   0.86855395  0.96076892\n",
      "  1.1055416   0.88640526  1.08347268  1.          0.94169658  0.96076892\n",
      "  0.96076892  0.94169658  1.06191317  0.94169658  1.          0.88640526\n",
      "  0.88640526 -1.12815215  1.02020406  0.90453403  1.          1.040833\n",
      "  1.1751393   0.94169658  1.02020406  0.94169658  1.08347268  1.040833\n",
      "  1.02020406  1.02020406  0.94169658  0.98019606  0.94169658  1.\n",
      "  1.02020406  1.        ]\n"
     ]
    }
   ],
   "source": [
    "#individuals\n",
    "n = 50\n",
    "#loci\n",
    "m = 100\n",
    "\n",
    "\n",
    "#here every matrix entree has to be zero or one, with having a f_i probability to get selected\n",
    "#frequency of alleles, random uniform distribution between 0 and 1, with m samples\n",
    "f_M = np.random.uniform(0,1,m)\n",
    "\n",
    "#initialize G matrix\n",
    "G = np.zeros((n, m));\n",
    "\n",
    "#will be used to flip a coin based on f_i\n",
    "#higher f_i frequency = higher chance of returning true\n",
    "def loci_frequency_flip(f_i):\n",
    "    return random.random() < f_i\n",
    "\n",
    "# #here im \"fliiping\" the coin only for the SNP\n",
    "# for k in range(0, len(SNP)):\n",
    "#     if(loci_frequency_flip(f_i)):\n",
    "#         SNP[k] = 1\n",
    "\n",
    "#use this if I wanted to populate entire G matrix\n",
    "#k are the colums(loci)\n",
    "for k in range (0, len(G[0])):\n",
    "    # j are the rows(individuals)\n",
    "    for j in range (0, len(G)):\n",
    "        #frequency of loci k we are currently on\n",
    "        if(loci_frequency_flip(f_M[k])):\n",
    "            G[j,k] = 1\n",
    "\n",
    "G = preprocessing.scale(G, axis=1)\n",
    "# choose random SNP\n",
    "loci =random.randint(0,m-1)\n",
    "\n",
    "#frequency of that loci from our uniform distribution\n",
    "f_i = f_M[loci]\n",
    "\n",
    "#select SNP\n",
    "SNP = G[:,loci]\n",
    "\n",
    "print(SNP)"
   ]
  },
  {
   "cell_type": "code",
   "execution_count": 3,
   "metadata": {},
   "outputs": [],
   "source": [
    "\n",
    "# mean and standard deviation\n",
    "H=0\n",
    "#assumes that we are making a Y_j for every individual in the SNP and \n",
    "#in each loop we choose a e_j for that person\n",
    "def Simulate_Phenotype_PerPerson(SNP,var_e,var_g):\n",
    "    \n",
    "    #rows are the loci so each person has a row of different loci\n",
    "    individuals = len(SNP)\n",
    "    \n",
    "    #where columns are the individuals\n",
    "    mean = 0 \n",
    "    \n",
    "    #because we are given variance and python random.normal only accepts std, we need to convert variance to std\n",
    "    sigma_e = sqrt(var_e)\n",
    "    sigma_b = sqrt(var_g)\n",
    "    \n",
    "    #b_i = loci effect on phenotype\n",
    "    b_i = np.random.normal(0, sigma_b)\n",
    "    Y_n = np.zeros((individuals, 1));\n",
    "    \n",
    "    for k in range(0, individuals):\n",
    "        #each individual will have a random e_j(noise) value\n",
    "        e_j = np.random.normal(0, sigma_e)\n",
    "        #G_ij will be the jth individual from our SNP for the loci of choce\n",
    "        G_ij  = SNP[k]\n",
    "        Y_j = b_i*G_ij + e_j\n",
    "        Y_n[k] = Y_j \n",
    "    H= var_g/(var_g+var_e)\n",
    "    return Y_n,H\n"
   ]
  },
  {
   "cell_type": "code",
   "execution_count": 4,
   "metadata": {},
   "outputs": [],
   "source": [
    "Y,H = Simulate_Phenotype_PerPerson(SNP,.1,.1)"
   ]
  },
  {
   "cell_type": "code",
   "execution_count": 5,
   "metadata": {},
   "outputs": [
    {
     "name": "stdout",
     "output_type": "stream",
     "text": [
      "Phenotypes for loci 47 are [[ 0.2215834 ]\n",
      " [ 0.38564193]\n",
      " [ 0.64356325]\n",
      " [ 1.12336958]\n",
      " [ 0.74937334]\n",
      " [ 0.50690651]\n",
      " [-0.97313247]\n",
      " [ 0.24185228]\n",
      " [ 0.17794549]\n",
      " [ 0.98055038]\n",
      " [ 0.73815093]\n",
      " [ 0.38729675]\n",
      " [ 0.64084614]\n",
      " [ 0.26518472]\n",
      " [ 0.47294887]\n",
      " [ 1.07919767]\n",
      " [ 0.2333518 ]\n",
      " [ 1.08236893]\n",
      " [ 0.27018321]\n",
      " [ 0.94386058]\n",
      " [ 0.96133244]\n",
      " [ 1.01310118]\n",
      " [ 0.87793828]\n",
      " [ 0.73932665]\n",
      " [ 0.4487513 ]\n",
      " [ 0.48532871]\n",
      " [ 0.76891113]\n",
      " [ 0.42721673]\n",
      " [ 0.64837934]\n",
      " [ 0.7977968 ]\n",
      " [ 0.46389014]\n",
      " [-0.5905918 ]\n",
      " [ 0.58808729]\n",
      " [ 0.47817967]\n",
      " [ 0.56753303]\n",
      " [ 0.57030372]\n",
      " [ 0.55026946]\n",
      " [ 0.42776368]\n",
      " [ 0.21523019]\n",
      " [ 0.7300128 ]\n",
      " [ 1.65568461]\n",
      " [ 0.77117129]\n",
      " [ 0.3778478 ]\n",
      " [ 1.09403498]\n",
      " [ 0.55435209]\n",
      " [ 0.70512388]\n",
      " [ 0.10831884]\n",
      " [ 0.60530755]\n",
      " [ 0.99107565]\n",
      " [ 0.08720296]]\n"
     ]
    }
   ],
   "source": [
    "#third function assumes that for each person j in M we make a phenotype Y_j\n",
    "print('Phenotypes for loci '+str(loci)+' are '+str(Y))"
   ]
  },
  {
   "cell_type": "code",
   "execution_count": 6,
   "metadata": {},
   "outputs": [],
   "source": [
    "G = np.append(G, Y, axis=1)"
   ]
  },
  {
   "cell_type": "code",
   "execution_count": 7,
   "metadata": {},
   "outputs": [
    {
     "data": {
      "image/png": "[encoded data removed]",
      "text/plain": [
       "<Figure size 432x288 with 1 Axes>"
      ]
     },
     "metadata": {
      "needs_background": "light"
     },
     "output_type": "display_data"
    }
   ],
   "source": [
    "#use this to see distribution of f_i frequency\n",
    "bin_size = 20\n",
    "count, bins, ignored = plt.hist(f_M, 20, facecolor='blue') \n",
    "\n",
    "plt.xlabel('X [0,1]')\n",
    "plt.ylabel('Count')\n",
    "plt.title(\"Uniform Distribution For Loci Frequency Bin size: \"+str(bin_size))\n",
    "plt.axis([0, 1, 0, 100]) # x_start, x_end, y_start, y_end\n",
    "plt.grid(True)\n",
    "\n",
    "plt.show(block = False)"
   ]
  },
  {
   "cell_type": "code",
   "execution_count": 8,
   "metadata": {},
   "outputs": [],
   "source": [
    "#starting machine learning classification\n",
    "from sklearn.model_selection import train_test_split\n",
    "import sklearn.metrics as metrics\n",
    "from sklearn.tree import DecisionTreeClassifier\n",
    "from sklearn.ensemble import RandomForestClassifier\n",
    "from sklearn.metrics import accuracy_score\n",
    "from sklearn import svm"
   ]
  },
  {
   "cell_type": "code",
   "execution_count": 11,
   "metadata": {},
   "outputs": [],
   "source": [
    "#split data into test and train\n",
    "X = G[:,0:len(G[0])-2]\n",
    "y = G[:,len(G[0])-1]\n",
    "#split the data\n",
    "x_train, x_test, y_train, y_test = train_test_split(X, y, test_size=0.3, random_state=7)"
   ]
  },
  {
   "cell_type": "code",
   "execution_count": 12,
   "metadata": {},
   "outputs": [],
   "source": [
    "#initialize SVM with RBF kernal\n",
    "my_SVM = svm.SVC(C=1, kernel='rbf', gamma=0.0005,random_state=1)"
   ]
  },
  {
   "cell_type": "code",
   "execution_count": null,
   "metadata": {},
   "outputs": [],
   "source": []
  }
 ],
 "metadata": {
  "kernelspec": {
   "display_name": "Python 3",
   "language": "python",
   "name": "python3"
  },
  "language_info": {
   "codemirror_mode": {
    "name": "ipython",
    "version": 3
   },
   "file_extension": ".py",
   "mimetype": "text/x-python",
   "name": "python",
   "nbconvert_exporter": "python",
   "pygments_lexer": "ipython3",
   "version": "3.7.4"
  }
 },
 "nbformat": 4,
 "nbformat_minor": 2
}
