{
 "cells": [
  {
   "cell_type": "code",
   "execution_count": 1,
   "metadata": {},
   "outputs": [],
   "source": [
    "import numpy as np\n",
    "import pandas as pd"
   ]
  },
  {
   "cell_type": "code",
   "execution_count": 2,
   "metadata": {},
   "outputs": [
    {
     "name": "stdout",
     "output_type": "stream",
     "text": [
      "[[1 0 1 0 1]\n",
      " [1 1 1 0 0]\n",
      " [1 1 1 0 1]\n",
      " [1 0 1 1 1]\n",
      " [0 1 0 1 0]\n",
      " [0 0 0 1 0]\n",
      " [0 1 0 1 0]\n",
      " [1 1 1 1 0]\n",
      " [1 0 1 1 1]\n",
      " [1 1 0 1 1]]\n"
     ]
    }
   ],
   "source": [
    "#samples\n",
    "n = 10\n",
    "#variants\n",
    "m = 5\n",
    "#frequency of 1\n",
    "f_i = 3./4\n",
    "#whatever is left is frequency for zero\n",
    "f_zero = 1-f_i\n",
    "\n",
    "#here every matrix entree has to be zero or one, with having a f_i probability to get selected\n",
    "G = np.random.choice([0, 1], size=(n,m), p=[f_zero, f_i])\n",
    "#Random Array of Zeros and Ones, no frequency\n",
    "#G = np.random.choice([0, 1], size=(n,m))\n",
    "print(G)"
   ]
  },
  {
   "cell_type": "code",
   "execution_count": 17,
   "metadata": {},
   "outputs": [],
   "source": [
    "from math import sqrt\n",
    "import random\n",
    "\n",
    "# mean and standard deviation\n",
    "Y=[]\n",
    "H=0\n",
    "def Make_PhenoType(G,var_e,var_g):\n",
    "    rows = len(G)\n",
    "    columns = len(G[0])\n",
    "    mean = 0 \n",
    "    #because we are given variance and python random.normal only accepts std, we need to convert variance to std\n",
    "    sigma_e = sqrt(var_e)\n",
    "    sigma_b = sqrt(var_g)\n",
    "    b_i = np.random.normal(0, sigma_b)\n",
    "    Y =[]\n",
    "    for k in range(0, rows+1):\n",
    "        #samples =1000\n",
    "        e_j = np.random.normal(0, sigma_e)\n",
    "        i = random.randint(0,rows-1)\n",
    "        j = random.randint(0,columns-1)\n",
    "        #Assuming G_ij = SNP, pick a random G entree\n",
    "        G_ij  = G[i,j]\n",
    "        Y_j = b_i*G_ij + e_j\n",
    "        Y.append(Y_j)\n",
    "    H= var_g/(var_g+var_e)\n",
    "    return Y,H\n",
    "\n",
    "#Version with no loop, this assumes that y_j is a singular value and not a collection of values\n",
    "# as in the previous function\n",
    "def Make_PhenoType_Singular(G,var_e,var_g):\n",
    "    rows = len(G)\n",
    "    columns = len(G[0])\n",
    "    mean = 0 \n",
    "    sigma_e = sqrt(var_e)\n",
    "    sigma_b = sqrt(var_g)\n",
    "    b_i = np.random.normal(0, sigma_b)\n",
    "     #samples =1000\n",
    "    e_j = np.random.normal(0, sigma_e)\n",
    "    i = random.randint(0,rows-1)\n",
    "    j = random.randint(0,columns-1)\n",
    "    #Assuming G_ij = SNP, pick a random G entree\n",
    "    G_ij  = G[i,j]\n",
    "    Y_j = b_i*G_ij + e_j\n",
    "    H= var_g/(var_g+var_e)\n",
    "    #returning i so we know which individual the phenotype is for\n",
    "    return Y_j,H,i\n",
    "    "
   ]
  },
  {
   "cell_type": "code",
   "execution_count": 22,
   "metadata": {},
   "outputs": [],
   "source": [
    "Y,H,sample= Make_PhenoType_Singular(G,.1,.1)"
   ]
  },
  {
   "cell_type": "code",
   "execution_count": 23,
   "metadata": {},
   "outputs": [
    {
     "name": "stdout",
     "output_type": "stream",
     "text": [
      "Phenotype for individual 7 is 0.010493688035843357\n"
     ]
    }
   ],
   "source": [
    "print('Phenotype for individual '+str(sample)+\" is \" +str(Y))"
   ]
  },
  {
   "cell_type": "code",
   "execution_count": null,
   "metadata": {},
   "outputs": [],
   "source": []
  },
  {
   "cell_type": "code",
   "execution_count": null,
   "metadata": {},
   "outputs": [],
   "source": []
  }
 ],
 "metadata": {
  "kernelspec": {
   "display_name": "Python 3",
   "language": "python",
   "name": "python3"
  },
  "language_info": {
   "codemirror_mode": {
    "name": "ipython",
    "version": 3
   },
   "file_extension": ".py",
   "mimetype": "text/x-python",
   "name": "python",
   "nbconvert_exporter": "python",
   "pygments_lexer": "ipython3",
   "version": "3.7.4"
  }
 },
 "nbformat": 4,
 "nbformat_minor": 2
}
