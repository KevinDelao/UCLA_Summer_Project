{
 "cells": [
  {
   "cell_type": "code",
   "execution_count": 1,
   "metadata": {},
   "outputs": [],
   "source": [
    "import numpy as np\n",
    "import pandas as pd\n",
    "import random"
   ]
  },
  {
   "cell_type": "code",
   "execution_count": 2,
   "metadata": {},
   "outputs": [
    {
     "name": "stdout",
     "output_type": "stream",
     "text": [
      "[0. 0. 0. 1. 0. 0. 0. 0. 1. 1. 1. 1. 1. 1. 1. 0. 0. 0. 1. 0. 1. 1. 1. 1.\n",
      " 0. 1. 0. 1. 1. 1. 1. 1. 0. 1. 1. 1. 1. 1. 0. 1. 1. 1. 0. 0. 1. 0. 1. 1.\n",
      " 1. 1.]\n"
     ]
    }
   ],
   "source": [
    "#individuals\n",
    "n = 50\n",
    "#loci\n",
    "m = 100\n",
    "\n",
    "\n",
    "#here every matrix entree has to be zero or one, with having a f_i probability to get selected\n",
    "\n",
    "#frequency of alleles, random uniform distribution between 0 and 1, with m samples\n",
    "f_M = np.random.uniform(0,1,m)\n",
    "#initialize G matrix\n",
    "G = np.zeros((n, m));\n",
    "\n",
    "# choose random SNP\n",
    "loci =random.randint(0,m-1)\n",
    "#frequency of that loci from our uniform distribution\n",
    "f_i = f_M[loci]\n",
    "#select SNP\n",
    "SNP = G[:,loci]\n",
    "#will be used to flip a coin based on f_i\n",
    "def loci_frequency_flip(f_i):\n",
    "    return random.random() < f_i\n",
    "\n",
    "#here im \"fliiping\" the coin only for the SNP\n",
    "for k in range(0, len(SNP)):\n",
    "    if(loci_frequency_flip(f_i)):\n",
    "        SNP[k] = 1\n",
    "\n",
    "# use this if I wanted to populate entire G matrix\n",
    "#k are the colums(loci)\n",
    "# for k in range (0, len(G[0])):\n",
    "#     # j are the rows(individuals)\n",
    "#     for j in range (0, len(G)):\n",
    "#         #frequency of loci k we are currently on\n",
    "#         if(loci_frequency_flip(f_M[k])):\n",
    "#             G[j,k] = 1\n",
    "              \n",
    "print(SNP)"
   ]
  },
  {
   "cell_type": "code",
   "execution_count": 3,
   "metadata": {},
   "outputs": [],
   "source": [
    "from math import sqrt\n",
    "import random\n",
    "\n",
    "# mean and standard deviation\n",
    "H=0\n",
    "#assumes that we are making a Y_j for every individual in the SNP and \n",
    "#in each loop we choose a e_j for that person\n",
    "def Simulate_Phenotype_PerPerson(SNP,var_e,var_g):\n",
    "    #rows are the loci so each person has a row of different loci\n",
    "    individuals = len(SNP)\n",
    "    #where columns are the individuals\n",
    "    mean = 0 \n",
    "    #because we are given variance and python random.normal only accepts std, we need to convert variance to std\n",
    "    sigma_e = sqrt(var_e)\n",
    "    sigma_b = sqrt(var_g)\n",
    "    #b_i = loci effect on phenotype\n",
    "    b_i = np.random.normal(0, sigma_b)\n",
    "    Y_n = np.zeros((individuals, 1));\n",
    "    for k in range(0, individuals):\n",
    "        #each individual will have a random e_j value\n",
    "        e_j = np.random.normal(0, sigma_e)\n",
    "        #G_ij will be the jth individual from our SNP for the loci of choce\n",
    "        G_ij  = SNP[k]\n",
    "        Y_j = b_i*G_ij + e_j\n",
    "        Y_n[k] = Y_j \n",
    "    H= var_g/(var_g+var_e)\n",
    "    return Y_n,H\n",
    "\n"
   ]
  },
  {
   "cell_type": "code",
   "execution_count": 4,
   "metadata": {},
   "outputs": [],
   "source": [
    "Y,H = Simulate_Phenotype_PerPerson(SNP,.1,.1)"
   ]
  },
  {
   "cell_type": "code",
   "execution_count": 5,
   "metadata": {},
   "outputs": [
    {
     "name": "stdout",
     "output_type": "stream",
     "text": [
      "Phenotypes for loci 2 are [[-0.29915216]\n",
      " [-0.08914222]\n",
      " [-0.12611024]\n",
      " [-0.32891195]\n",
      " [-0.22234805]\n",
      " [ 0.41765334]\n",
      " [ 0.51084321]\n",
      " [ 0.21850006]\n",
      " [-0.22073412]\n",
      " [-0.4495521 ]\n",
      " [-0.69066715]\n",
      " [-0.09878857]\n",
      " [-0.5602746 ]\n",
      " [-0.16915128]\n",
      " [-0.59396582]\n",
      " [ 0.12473813]\n",
      " [ 0.00801303]\n",
      " [ 0.38852575]\n",
      " [ 0.12278832]\n",
      " [ 0.63795357]\n",
      " [-0.08314398]\n",
      " [-0.48487714]\n",
      " [-0.29444515]\n",
      " [-0.72125091]\n",
      " [-0.13381583]\n",
      " [-0.74771322]\n",
      " [-0.08054532]\n",
      " [-0.0783648 ]\n",
      " [ 0.02276617]\n",
      " [-0.5578394 ]\n",
      " [-0.39542773]\n",
      " [ 0.0360715 ]\n",
      " [ 0.08095923]\n",
      " [-0.64844982]\n",
      " [-0.50349472]\n",
      " [-0.55202475]\n",
      " [-0.79310496]\n",
      " [-0.18001686]\n",
      " [ 0.22637315]\n",
      " [-0.00999948]\n",
      " [-0.96475929]\n",
      " [-0.99059572]\n",
      " [-0.52215335]\n",
      " [-0.27795606]\n",
      " [-0.11787588]\n",
      " [-0.04504018]\n",
      " [-0.16329195]\n",
      " [ 0.19928695]\n",
      " [-0.41592174]\n",
      " [-0.12608547]]\n"
     ]
    }
   ],
   "source": [
    "#third function assumes that for each person j in M we make a phenotype Y_j\n",
    "print('Phenotypes for loci '+str(loci)+' are '+str(Y))"
   ]
  },
  {
   "cell_type": "code",
   "execution_count": 6,
   "metadata": {},
   "outputs": [],
   "source": [
    "# append Y predictions to G matrix\n",
    "G = np.append(G, Y, axis=1)"
   ]
  },
  {
   "cell_type": "code",
   "execution_count": 7,
   "metadata": {},
   "outputs": [
    {
     "data": {
      "image/png": "[encoded data removed]",
      "text/plain": [
       "<Figure size 432x288 with 1 Axes>"
      ]
     },
     "metadata": {
      "needs_background": "light"
     },
     "output_type": "display_data"
    }
   ],
   "source": [
    "#use this to see distribution of f_i frequency\n",
    "import matplotlib.pyplot as plt\n",
    "bin_size = 20\n",
    "count, bins, ignored = plt.hist(f_M, 20, facecolor='blue') \n",
    "\n",
    "plt.xlabel('X [0,1]')\n",
    "plt.ylabel('Count')\n",
    "plt.title(\"Uniform Distribution For Loci Frequency Bin size: \"+str(bin_size))\n",
    "plt.axis([0, 1, 0, 100]) # x_start, x_end, y_start, y_end\n",
    "plt.grid(True)\n",
    "\n",
    "plt.show(block = False)"
   ]
  },
  {
   "cell_type": "code",
   "execution_count": null,
   "metadata": {},
   "outputs": [],
   "source": []
  }
 ],
 "metadata": {
  "kernelspec": {
   "display_name": "Python 3",
   "language": "python",
   "name": "python3"
  },
  "language_info": {
   "codemirror_mode": {
    "name": "ipython",
    "version": 3
   },
   "file_extension": ".py",
   "mimetype": "text/x-python",
   "name": "python",
   "nbconvert_exporter": "python",
   "pygments_lexer": "ipython3",
   "version": "3.7.4"
  }
 },
 "nbformat": 4,
 "nbformat_minor": 2
}
