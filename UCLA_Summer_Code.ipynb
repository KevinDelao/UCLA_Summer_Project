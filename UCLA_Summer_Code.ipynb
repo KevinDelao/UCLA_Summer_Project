{
 "cells": [
  {
   "cell_type": "code",
   "execution_count": 1,
   "metadata": {},
   "outputs": [],
   "source": [
    "import numpy as np\n",
    "import pandas as pd\n",
    "import random\n",
    "import shap\n",
    "from math import sqrt\n",
    "import matplotlib.pyplot as plt\n",
    "from sklearn import preprocessing"
   ]
  },
  {
   "cell_type": "code",
   "execution_count": 2,
   "metadata": {},
   "outputs": [
    {
     "name": "stdout",
     "output_type": "stream",
     "text": [
      "[ 0.52381934  0.52381934  0.52381934  0.52381934  0.52381934 -1.64072339\n",
      "  0.52381934  0.52381934 -1.64072339  0.52381934  0.52381934  0.52381934\n",
      " -1.64072339  0.52381934 -1.64072339 -1.64072339  0.52381934 -1.64072339\n",
      "  0.52381934  0.52381934  0.52381934  0.52381934 -1.64072339  0.52381934\n",
      "  0.52381934 -1.64072339  0.52381934  0.52381934  0.52381934  0.52381934]\n"
     ]
    }
   ],
   "source": [
    "#individuals\n",
    "n = 2000\n",
    "#loci\n",
    "m = 100\n",
    "\n",
    "\n",
    "#here every matrix entree has to be zero or one, with having a f_i probability to get selected\n",
    "#frequency of alleles, random uniform distribution between 0 and 1, with m samples\n",
    "f_M = np.random.uniform(0,1,m)\n",
    "\n",
    "#initialize G matrix\n",
    "# G = np.zeros((n, m));\n",
    "\n",
    "# #will be used to flip a coin based on f_i\n",
    "# #higher f_i frequency = higher chance of returning true\n",
    "# def loci_frequency_flip(f_i):\n",
    "#     return random.random() < f_i\n",
    "\n",
    "# #use this if I wanted to populate entire G matrix\n",
    "# #k are the colums(loci)\n",
    "# for k in range (0, len(G[0])):\n",
    "#     # j are the rows(individuals)\n",
    "#     for j in range (0, len(G)):\n",
    "#         #frequency of loci k we are currently on\n",
    "#         if(loci_frequency_flip(f_M[k])):\n",
    "#             G[j,k] = 1\n",
    "\n",
    "G = np.random.binomial(n=2,p = f_M, size =  (n,m))\n",
    "\n",
    "# If 0, independently standardize each feature, otherwise (if 1) standardize each sample, so choosing 0 \n",
    "# to do column wise scaling\n",
    "G = preprocessing.scale(G, axis=0)\n",
    "# choose random SNP\n",
    "loci =random.randint(0,m-1)\n",
    "\n",
    "#select SNP\n",
    "SNP = G[:,loci]\n",
    "\n",
    "#preview of the data\n",
    "print(SNP[0:30])"
   ]
  },
  {
   "cell_type": "code",
   "execution_count": 3,
   "metadata": {},
   "outputs": [],
   "source": [
    "\n",
    "# mean and standard deviation\n",
    "H=0\n",
    "#assumes that we are making a Y_j for every individual in the SNP and \n",
    "#in each loop we choose a e_j for that person\n",
    "def Simulate_Phenotype_PerPerson(SNP,var_e,var_g):\n",
    "    \n",
    "    #rows are the loci so each person has a row of different loci\n",
    "    individuals = len(SNP)\n",
    "    \n",
    "    #where columns are the individuals\n",
    "    mean = 0 \n",
    "    \n",
    "    #because we are given variance and python random.normal only accepts std, we need to convert variance to std\n",
    "    sigma_e = sqrt(var_e)\n",
    "    sigma_b = sqrt(var_g)\n",
    "    \n",
    "    #b_i = loci effect on phenotype\n",
    "    b_i = np.random.normal(0, sigma_b)\n",
    "    Y_n = np.zeros((individuals, 1));\n",
    "    \n",
    "    for k in range(0, individuals):\n",
    "        #each individual will have a random e_j(noise) value\n",
    "        e_j = np.random.normal(0, sigma_e)\n",
    "        #G_ij will be the jth individual from our SNP for the loci of choce\n",
    "        G_ij  = SNP[k]\n",
    "        Y_j = b_i*G_ij + e_j\n",
    "        Y_n[k] = Y_j \n",
    "    H= var_g/(var_g+var_e)\n",
    "    return Y_n,H\n"
   ]
  },
  {
   "cell_type": "code",
   "execution_count": 4,
   "metadata": {},
   "outputs": [],
   "source": [
    "Y,H = Simulate_Phenotype_PerPerson(SNP,.1,.1)"
   ]
  },
  {
   "cell_type": "code",
   "execution_count": 5,
   "metadata": {},
   "outputs": [
    {
     "name": "stdout",
     "output_type": "stream",
     "text": [
      "Phenotypes for loci 69 are [[-0.05832063]\n",
      " [-0.3301552 ]\n",
      " [-0.14967886]\n",
      " [-0.12980308]\n",
      " [-0.41079568]\n",
      " [ 0.54717248]\n",
      " [-0.22106409]\n",
      " [ 0.07958687]\n",
      " [ 0.0599565 ]\n",
      " [ 0.13686777]\n",
      " [ 0.40422439]\n",
      " [-0.72103239]\n",
      " [ 0.2744804 ]\n",
      " [ 0.20591829]\n",
      " [ 0.60323243]\n",
      " [ 0.22552996]\n",
      " [ 0.49240588]\n",
      " [ 0.34906681]\n",
      " [ 0.53399995]\n",
      " [-0.17810251]\n",
      " [-0.34805581]\n",
      " [ 0.18077292]\n",
      " [ 0.45111592]\n",
      " [-0.55798458]\n",
      " [ 0.27078187]\n",
      " [ 0.17920787]\n",
      " [-0.37649791]\n",
      " [-0.06789106]\n",
      " [-0.09877179]\n",
      " [ 0.27435406]]\n"
     ]
    }
   ],
   "source": [
    "#third function assumes that for each person j in M we make a phenotype Y_j\n",
    "print('Phenotypes for loci '+str(loci)+' are '+str(Y[0:30]))"
   ]
  },
  {
   "cell_type": "code",
   "execution_count": 6,
   "metadata": {},
   "outputs": [],
   "source": [
    "G = np.append(G, Y, axis=1)"
   ]
  },
  {
   "cell_type": "code",
   "execution_count": 7,
   "metadata": {},
   "outputs": [
    {
     "data": {
      "image/png": "[encoded data removed]",
      "text/plain": [
       "<Figure size 432x288 with 1 Axes>"
      ]
     },
     "metadata": {
      "needs_background": "light"
     },
     "output_type": "display_data"
    }
   ],
   "source": [
    "#use this to see distribution of f_i frequency\n",
    "bin_size = 20\n",
    "count, bins, ignored = plt.hist(f_M, 20, facecolor='blue') \n",
    "\n",
    "plt.xlabel('X [0,1]')\n",
    "plt.ylabel('Count')\n",
    "plt.title(\"Uniform Distribution For Loci Frequency Bin size: \"+str(bin_size))\n",
    "plt.axis([0, 1, 0, 100]) # x_start, x_end, y_start, y_end\n",
    "plt.grid(True)\n",
    "\n",
    "plt.show(block = False)"
   ]
  },
  {
   "cell_type": "code",
   "execution_count": 8,
   "metadata": {},
   "outputs": [],
   "source": [
    "#starting machine learning classification\n",
    "from sklearn.model_selection import train_test_split\n",
    "import sklearn.metrics as metrics\n",
    "from sklearn.tree import DecisionTreeClassifier\n",
    "from sklearn.ensemble import RandomForestClassifier\n",
    "from sklearn.svm import SVR\n",
    "from sklearn.metrics import accuracy_score\n",
    "from sklearn import svm\n",
    "from sklearn.linear_model import LinearRegression"
   ]
  },
  {
   "cell_type": "code",
   "execution_count": 9,
   "metadata": {},
   "outputs": [],
   "source": [
    "#split data into test and train\n",
    "X = G[:,0:len(G[0])-2]\n",
    "\n",
    "#last column is the appended Y vector we predicted\n",
    "y = G[:,len(G[0])-1]\n",
    "\n",
    "#split the data\n",
    "x_train, x_test, y_train, y_test = train_test_split(X, y, test_size=0.3, random_state=7)"
   ]
  },
  {
   "cell_type": "code",
   "execution_count": 10,
   "metadata": {},
   "outputs": [],
   "source": [
    "linReg = LinearRegression()  "
   ]
  },
  {
   "cell_type": "code",
   "execution_count": 12,
   "metadata": {},
   "outputs": [
    {
     "data": {
      "text/plain": [
       "LinearRegression(copy_X=True, fit_intercept=True, n_jobs=None, normalize=False)"
      ]
     },
     "execution_count": 12,
     "metadata": {},
     "output_type": "execute_result"
    }
   ],
   "source": [
    "#training the algorithm\n",
    "linReg.fit(x_train, y_train) "
   ]
  },
  {
   "cell_type": "code",
   "execution_count": 13,
   "metadata": {},
   "outputs": [],
   "source": [
    "#regression model of SVM with RBF kernal\n",
    "#svr_rbf = SVR(kernel='rbf', C=100, gamma=0.1, epsilon=.1)"
   ]
  },
  {
   "cell_type": "code",
   "execution_count": 14,
   "metadata": {},
   "outputs": [],
   "source": [
    "# train the model\n",
    "#svr_rbf.fit(x_train, y_train)\n",
    "\n",
    "#test the model on test data\n",
    "y_predict = linReg.predict(abs(x_test))"
   ]
  },
  {
   "cell_type": "code",
   "execution_count": 15,
   "metadata": {},
   "outputs": [
    {
     "name": "stdout",
     "output_type": "stream",
     "text": [
      "Mean absolute error = 0.37\n",
      "Mean squared error = 0.22\n",
      "Root Mean squared error = 0.469041575982343\n",
      "Median absolute error = 0.3\n",
      "Explain variance score = -0.41\n",
      "R2 score = -0.42\n"
     ]
    }
   ],
   "source": [
    "#Evaluate the regression model\n",
    "import sklearn.metrics as sm\n",
    "print(\"Mean absolute error =\", round(sm.mean_absolute_error(y_test, y_predict), 2)) \n",
    "print(\"Mean squared error =\", round(sm.mean_squared_error(y_test, y_predict), 2)) \n",
    "print(\"Root Mean squared error =\", sqrt(round(sm.mean_squared_error(y_test, y_predict), 2)))\n",
    "print(\"Median absolute error =\", round(sm.median_absolute_error(y_test, y_predict), 2)) \n",
    "print(\"Explain variance score =\", round(sm.explained_variance_score(y_test, y_predict), 2)) \n",
    "print(\"R2 score =\", round(sm.r2_score(y_test, y_predict), 2))"
   ]
  },
  {
   "cell_type": "code",
   "execution_count": null,
   "metadata": {},
   "outputs": [],
   "source": []
  }
 ],
 "metadata": {
  "kernelspec": {
   "display_name": "Python 3",
   "language": "python",
   "name": "python3"
  },
  "language_info": {
   "codemirror_mode": {
    "name": "ipython",
    "version": 3
   },
   "file_extension": ".py",
   "mimetype": "text/x-python",
   "name": "python",
   "nbconvert_exporter": "python",
   "pygments_lexer": "ipython3",
   "version": "3.7.4"
  }
 },
 "nbformat": 4,
 "nbformat_minor": 2
}
