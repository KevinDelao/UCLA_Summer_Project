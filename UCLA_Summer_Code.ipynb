{
 "cells": [
  {
   "cell_type": "code",
   "execution_count": 1,
   "metadata": {},
   "outputs": [],
   "source": [
    "import numpy as np\n",
    "import pandas as pd"
   ]
  },
  {
   "cell_type": "code",
   "execution_count": 2,
   "metadata": {},
   "outputs": [
    {
     "name": "stdout",
     "output_type": "stream",
     "text": [
      "[[0 1 1 1 1 0 0 1 1 0]\n",
      " [1 1 1 1 1 1 1 1 1 1]\n",
      " [1 1 0 0 1 1 1 0 1 1]\n",
      " [1 0 1 1 1 1 0 0 1 1]\n",
      " [1 0 1 1 0 1 0 1 1 1]\n",
      " [1 1 1 1 0 1 1 1 1 1]\n",
      " [1 0 0 1 1 0 1 0 1 1]\n",
      " [0 1 1 0 1 1 0 1 1 1]\n",
      " [1 1 1 1 1 1 1 1 0 0]\n",
      " [1 0 0 0 1 1 0 1 1 1]]\n"
     ]
    }
   ],
   "source": [
    "#samples\n",
    "n = 10\n",
    "#variants\n",
    "m = 10\n",
    "#frequency of 1\n",
    "f_i = 3./4\n",
    "#whatever is left is frequency for zero\n",
    "f_zero = 1-f_i\n",
    "G = np.random.choice([0, 1], size=(n,m), p=[f_zero, f_i])\n",
    "#Random Array of Zeros and Ones, no frequency\n",
    "#G = np.random.choice([0, 1], size=(n,m))\n",
    "print(G)"
   ]
  },
  {
   "cell_type": "code",
   "execution_count": 7,
   "metadata": {},
   "outputs": [],
   "source": [
    "#row\n",
    "i = 0\n",
    "#column\n",
    "j = 0\n",
    "G_ij  = G[i,j]\n",
    "# SNP = \n",
    "# b_i  = np.random.normal(0, var_g)\n",
    "# Y_j = b_i*G_ij + e_j\n"
   ]
  },
  {
   "cell_type": "code",
   "execution_count": null,
   "metadata": {},
   "outputs": [],
   "source": []
  }
 ],
 "metadata": {
  "kernelspec": {
   "display_name": "Python 3",
   "language": "python",
   "name": "python3"
  },
  "language_info": {
   "codemirror_mode": {
    "name": "ipython",
    "version": 3
   },
   "file_extension": ".py",
   "mimetype": "text/x-python",
   "name": "python",
   "nbconvert_exporter": "python",
   "pygments_lexer": "ipython3",
   "version": "3.7.4"
  }
 },
 "nbformat": 4,
 "nbformat_minor": 2
}
