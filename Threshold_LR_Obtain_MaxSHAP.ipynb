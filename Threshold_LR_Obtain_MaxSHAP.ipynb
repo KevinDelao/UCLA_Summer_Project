{
 "cells": [
  {
   "cell_type": "markdown",
   "metadata": {},
   "source": [
    "# Import Libraries"
   ]
  },
  {
   "cell_type": "code",
   "execution_count": 1,
   "metadata": {},
   "outputs": [],
   "source": [
    "import numpy as np\n",
    "import pandas as pd\n",
    "import random\n",
    "import shap\n",
    "from math import sqrt\n",
    "import matplotlib.pyplot as plt\n",
    "from sklearn import preprocessing\n",
    "from sklearn.model_selection import train_test_split\n",
    "import sklearn.metrics as metrics\n",
    "from sklearn.linear_model import LinearRegression\n",
    "from sklearn.ensemble import RandomForestRegressor\n",
    "\n",
    "from scipy.stats import sem, t\n",
    "from scipy import mean\n",
    "\n",
    "import warnings\n",
    "warnings.filterwarnings('ignore')\n",
    "\n",
    "import pickle"
   ]
  },
  {
   "cell_type": "code",
   "execution_count": 2,
   "metadata": {},
   "outputs": [],
   "source": [
    "# import tensorflow as tf\n",
    "# from keras.models import Sequential\n",
    "# from keras.layers.core import Dense, Activation, Dropout"
   ]
  },
  {
   "cell_type": "code",
   "execution_count": 3,
   "metadata": {},
   "outputs": [],
   "source": [
    "# def min_max_range(samples,loci):\n",
    "#     min_list = []\n",
    "#     max_list = []\n",
    "#     for i in range(0,1000):\n",
    "#         f_M = np.random.uniform(0,1,loci)\n",
    "#         G = np.random.binomial(n=2,p = f_M, size = (samples,loci))\n",
    "#         G = preprocessing.scale(G, axis=0)\n",
    "#         min1 = np.min(G)\n",
    "#         max1 = np.max(G)\n",
    "#         min_list.append(min1)\n",
    "#         max_list.append(max1)\n",
    "#     mean_min = np.mean(min_list)\n",
    "#     mean_max = np.mean(max_list)\n",
    "#     return mean_min,mean_max"
   ]
  },
  {
   "cell_type": "code",
   "execution_count": 4,
   "metadata": {},
   "outputs": [],
   "source": [
    "#Simulate Genotype\n",
    "def simulate_genotype(samples_n, loci_m):\n",
    "    f_M = np.random.uniform(0,1,loci_m)\n",
    "    G = np.random.binomial(n=2,p = f_M, size = (samples_n,loci_m))\n",
    "    G = preprocessing.scale(G, axis=0)\n",
    "    assert(len(G) == samples_n)\n",
    "    assert(len(G[0])== loci_m)\n",
    "    return G"
   ]
  },
  {
   "cell_type": "code",
   "execution_count": 12,
   "metadata": {},
   "outputs": [],
   "source": [
    "def simulate_genotype_neutral(samples_n, loci_m,beta_g,e_noise):\n",
    "    G = simulate_genotype(samples_n, loci_m)\n",
    "    loci =random.randint(0,loci_m-1)\n",
    "    SNP = G[:,loci]\n",
    "    individuals = len(SNP)\n",
    "    b_i = beta_g\n",
    "    Y_n = np.zeros((individuals, 1))\n",
    "    for k in range(0, individuals):\n",
    "        #each individual will have a e_j(noise) value\n",
    "        e_j = np.random.normal(0, e_noise)\n",
    "        #G_ij will be the jth individual from our SNP for the loci of choce\n",
    "        G_ij  = SNP[k]\n",
    "        Y_j = b_i*G_ij + e_j\n",
    "        Y_n[k] = Y_j \n",
    "    y_max = np.max(Y_n)\n",
    "    y_max = abs(y_max)\n",
    "    Y_n = np.array(Y_n)\n",
    "    Y_n = Y_n/y_max\n",
    "    Y_n = Y_n.reshape(samples_n,1)\n",
    "    G = np.append(G, Y_n, axis=1)\n",
    "    return G"
   ]
  },
  {
   "cell_type": "code",
   "execution_count": 13,
   "metadata": {},
   "outputs": [],
   "source": [
    "# #Provide beta_g, e_noise and get G with genotype & Phenotype data\n",
    "# def simulate_genotype_neutral(samples_n, loci_m):\n",
    "#     G = simulate_genotype(samples_n, loci_m)\n",
    "#     #randomly generated causal loci\n",
    "#     mu, sigma = 0, 1 # mean and standard deviation\n",
    "#     Y_n = np.random.normal(mu, sigma, samples_n)\n",
    "#     y_max = np.max(Y_n)\n",
    "#     y_max = abs(y_max)\n",
    "#     Y_n = np.array(Y_n)\n",
    "#     Y_n = Y_n/y_max\n",
    "#     Y_n = Y_n.reshape(samples_n,1)\n",
    "#     G = np.append(G, Y_n, axis=1)\n",
    "#     return G"
   ]
  },
  {
   "cell_type": "code",
   "execution_count": 27,
   "metadata": {},
   "outputs": [],
   "source": [
    "def shap_RFR_tree_train(G):\n",
    "    X = G[:,0:len(G[0])-1]\n",
    "    y = G[:,len(G[0])-1]\n",
    "    x_train, x_test, y_train, y_test = train_test_split(X, y, test_size=0.3)\n",
    "    forReg = RandomForestRegressor(max_depth=20, min_samples_split =5,min_samples_leaf=4,random_state=0, n_estimators=1000)\n",
    "    forReg.fit(x_train, y_train)\n",
    "    shap_values = shap.TreeExplainer(forReg).shap_values(x_train)\n",
    "    return shap_values\n",
    "\n",
    "def shap_feature_plot_RFR(shap_values, x_train):\n",
    "    shap.summary_plot(shap_values, x_train, plot_type=\"bar\")"
   ]
  },
  {
   "cell_type": "code",
   "execution_count": 28,
   "metadata": {},
   "outputs": [],
   "source": [
    "# def shap_RFR_tree_train(G):\n",
    "#     X = G[:,0:len(G[0])-1]\n",
    "#     y = G[:,len(G[0])-1]\n",
    "#     x_train, x_test, y_train, y_test = train_test_split(X, y, test_size=0.3)\n",
    "#     linReg = LinearRegression() \n",
    "#     linReg.fit(x_train, y_train) \n",
    "#     explainer = shap.KernelExplainer(linReg.predict, shap.kmeans(x_train,50))\n",
    "#     shap_values = explainer.shap_values(x_test)\n",
    "#     return shap_values"
   ]
  },
  {
   "cell_type": "code",
   "execution_count": 29,
   "metadata": {},
   "outputs": [],
   "source": [
    "def mean_shap_values(shap_values):\n",
    "    \n",
    "    shap_values = np.array(shap_values)\n",
    "    avg_shap = []\n",
    "    for i in range(0,len(shap_values[0])):\n",
    "        shap2 = np.mean(abs(shap_values[:,i]))\n",
    "        avg_shap.append(shap2)\n",
    "    return avg_shap"
   ]
  },
  {
   "cell_type": "code",
   "execution_count": 30,
   "metadata": {},
   "outputs": [],
   "source": [
    "def max_mean_feature(shap_values):\n",
    "    avg_shap = mean_shap_values(shap_values)\n",
    "    temp1 = np.asarray(avg_shap)\n",
    "    indices = temp1.argsort()[-2:][::-1]\n",
    "    loci1,loci2 = avg_shap[indices[0]],avg_shap[indices[1]]\n",
    "    return indices[0], loci1"
   ]
  },
  {
   "cell_type": "code",
   "execution_count": 33,
   "metadata": {},
   "outputs": [],
   "source": [
    "loci  = 20\n",
    "samples =500\n",
    "max_shap = 0\n",
    "var_g_list = [.1,.2,.3,.4,.5,.6,.7,.8,.9]\n",
    "var_e_list = [.1,.2,.3,.4,.5,.6,.7,.8,.9]\n",
    "\n",
    "max_shap_list = []\n",
    "for i in range(0,1000):\n",
    "    var_g = random.choice(var_g_list)\n",
    "    var_e = random.choice(var_e_list)\n",
    "    G_Phen = simulate_genotype_neutral(samples,loci,var_g,var_e)\n",
    "    shap_vals = shap_RFR_tree_train(G_Phen)\n",
    "    index,loci1 = max_mean_feature(shap_vals)\n",
    "    max_shap_list.append(loci1)"
   ]
  },
  {
   "cell_type": "code",
   "execution_count": 35,
   "metadata": {},
   "outputs": [],
   "source": [
    "with open('/Users/kevin/Downloads/threshhold_LR_scaled_SHAP', 'wb') as fp:\n",
    "    pickle.dump(max_shap_list, fp)"
   ]
  },
  {
   "cell_type": "code",
   "execution_count": 3,
   "metadata": {},
   "outputs": [],
   "source": [
    "with open ('/Users/kevin/Desktop/UCLA_BIG_Code/Code_Data/threshhold_LR_scaled_neutral', 'rb') as fp:\n",
    "    neutral_list = pickle.load(fp)"
   ]
  },
  {
   "cell_type": "code",
   "execution_count": 4,
   "metadata": {},
   "outputs": [],
   "source": [
    "with open ('/Users/kevin/Desktop/UCLA_BIG_Code/Code_Data/threshhold_LR_scaled_SHAP', 'rb') as fp:\n",
    "    shap_list = pickle.load(fp)"
   ]
  },
  {
   "cell_type": "code",
   "execution_count": 43,
   "metadata": {},
   "outputs": [
    {
     "data": {
      "text/plain": [
       "0.04023644593676834"
      ]
     },
     "execution_count": 43,
     "metadata": {},
     "output_type": "execute_result"
    }
   ],
   "source": [
    "np.max(corr2list)"
   ]
  },
  {
   "cell_type": "code",
   "execution_count": 41,
   "metadata": {},
   "outputs": [
    {
     "data": {
      "text/plain": [
       "0.9469638249276934"
      ]
     },
     "execution_count": 41,
     "metadata": {},
     "output_type": "execute_result"
    }
   ],
   "source": [
    "np.max(max_shap_list)"
   ]
  },
  {
   "cell_type": "code",
   "execution_count": null,
   "metadata": {},
   "outputs": [],
   "source": [
    "a=np.arange(1,1001)"
   ]
  },
  {
   "cell_type": "code",
   "execution_count": 71,
   "metadata": {},
   "outputs": [
    {
     "data": {
      "image/png": "[encoded data removed]",
      "text/plain": [
       "<Figure size 432x288 with 1 Axes>"
      ]
     },
     "metadata": {
      "needs_background": "light"
     },
     "output_type": "display_data"
    }
   ],
   "source": [
    "plt.plot(a,corr2list)\n",
    "plt.ylim([0,.1])\n",
    "plt.ylabel('Max SHAP Value')\n",
    "plt.xlabel('Simulation Number')\n",
    "plt.title('Max SHAP Values from 1000x Simulations')\n",
    "plt.savefig('neutral_loci_plt')"
   ]
  },
  {
   "cell_type": "code",
   "execution_count": 91,
   "metadata": {
    "scrolled": true
   },
   "outputs": [
    {
     "data": {
      "image/png": "[encoded data removed]",
      "text/plain": [
       "<Figure size 432x288 with 1 Axes>"
      ]
     },
     "metadata": {
      "needs_background": "light"
     },
     "output_type": "display_data"
    }
   ],
   "source": [
    "bin_size = 15\n",
    "count, bins, ignored = plt.hist(corr2list, bin_size, facecolor='blue') \n",
    "\n",
    "plt.xlabel('SHAP Values')\n",
    "plt.ylabel('Frequency')\n",
    "plt.title(\"SHAP Scaled Values from Neutral Simulations Bin size: \"+str(bin_size))\n",
    "# plt.axis([0, .05, 0, 1000]) # x_start, x_end, y_start, y_end\n",
    "plt.grid(True)\n",
    "plt.savefig('Hist_SHAP_Neutral_Scaled_True')\n",
    "plt.show(block = False)"
   ]
  },
  {
   "cell_type": "code",
   "execution_count": 5,
   "metadata": {},
   "outputs": [
    {
     "data": {
      "image/png": "[encoded data removed]",
      "text/plain": [
       "<Figure size 432x288 with 1 Axes>"
      ]
     },
     "metadata": {
      "needs_background": "light"
     },
     "output_type": "display_data"
    }
   ],
   "source": [
    "# bin_size = 100\n",
    "bin_size = np.linspace(0, 1,75)\n",
    "\n",
    "plt.hist(neutral_list, bin_size, alpha=0.5, label='neutral SHAP',color = \"red\")\n",
    "plt.hist(shap_list, bin_size, alpha=0.5, label='causal SHAP',color = \"skyblue\")\n",
    "plt.legend(loc='upper right')\n",
    "plt.title('SHAP vs Neutral Simulation Max Values')\n",
    "plt.ylabel('Frequency')\n",
    "plt.xlabel('Max shap values')\n",
    "plt.savefig('SHAP_vs_Neutral_Hist')\n",
    "plt.show()"
   ]
  },
  {
   "cell_type": "code",
   "execution_count": null,
   "metadata": {},
   "outputs": [],
   "source": []
  }
 ],
 "metadata": {
  "kernelspec": {
   "display_name": "Python 3",
   "language": "python",
   "name": "python3"
  },
  "language_info": {
   "codemirror_mode": {
    "name": "ipython",
    "version": 3
   },
   "file_extension": ".py",
   "mimetype": "text/x-python",
   "name": "python",
   "nbconvert_exporter": "python",
   "pygments_lexer": "ipython3",
   "version": "3.8.3"
  }
 },
 "nbformat": 4,
 "nbformat_minor": 2
}
